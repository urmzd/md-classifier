{
  "nbformat": 4,
  "nbformat_minor": 5,
  "metadata": {
    "accelerator": "TPU",
    "colab": {
      "name": "cnn.ipynb",
      "provenance": [],
      "collapsed_sections": [],
      "machine_shape": "hm",
      "include_colab_link": true
    },
    "interpreter": {
      "hash": "a8b403e565ea1794a437a21eaf7a4df5fa78d6ee8c0957d183a6329de63bb757"
    },
    "kernelspec": {
      "display_name": "Python 3",
      "name": "python3"
    },
    "language_info": {
      "name": "python"
    }
  },
  "cells": [
    {
      "cell_type": "markdown",
      "metadata": {
        "id": "view-in-github",
        "colab_type": "text"
      },
      "source": [
        "<a href=\"https://colab.research.google.com/github/urmzd/md-nlp/blob/main/src/one-hot-encoding.ipynb\" target=\"_parent\"><img src=\"https://colab.research.google.com/assets/colab-badge.svg\" alt=\"Open In Colab\"/></a>"
      ]
    },
    {
      "cell_type": "code",
      "metadata": {
        "colab": {
          "base_uri": "https://localhost:8080/"
        },
        "id": "NEPWrGDXjCRA",
        "outputId": "96b5c3fb-e3ee-4ca5-f2f4-75b7d5895b1a"
      },
      "source": [
        "!pip install pyppeteer\n",
        "!pip install ipython ipykernel --upgrade"
      ],
      "id": "NEPWrGDXjCRA",
      "execution_count": 1,
      "outputs": [
        {
          "output_type": "stream",
          "name": "stdout",
          "text": [
            "Requirement already satisfied: pyppeteer in /usr/local/lib/python3.7/dist-packages (0.2.6)\n",
            "Requirement already satisfied: pyee<9.0.0,>=8.1.0 in /usr/local/lib/python3.7/dist-packages (from pyppeteer) (8.2.2)\n",
            "Requirement already satisfied: tqdm<5.0.0,>=4.42.1 in /usr/local/lib/python3.7/dist-packages (from pyppeteer) (4.62.3)\n",
            "Requirement already satisfied: websockets<10.0,>=9.1 in /usr/local/lib/python3.7/dist-packages (from pyppeteer) (9.1)\n",
            "Requirement already satisfied: urllib3<2.0.0,>=1.25.8 in /usr/local/lib/python3.7/dist-packages (from pyppeteer) (1.26.7)\n",
            "Requirement already satisfied: importlib-metadata>=1.4 in /usr/local/lib/python3.7/dist-packages (from pyppeteer) (4.8.2)\n",
            "Requirement already satisfied: appdirs<2.0.0,>=1.4.3 in /usr/local/lib/python3.7/dist-packages (from pyppeteer) (1.4.4)\n",
            "Requirement already satisfied: typing-extensions>=3.6.4 in /usr/local/lib/python3.7/dist-packages (from importlib-metadata>=1.4->pyppeteer) (3.10.0.2)\n",
            "Requirement already satisfied: zipp>=0.5 in /usr/local/lib/python3.7/dist-packages (from importlib-metadata>=1.4->pyppeteer) (3.6.0)\n",
            "Requirement already satisfied: ipython in /usr/local/lib/python3.7/dist-packages (7.30.1)\n",
            "Requirement already satisfied: ipykernel in /usr/local/lib/python3.7/dist-packages (6.6.0)\n",
            "Requirement already satisfied: pickleshare in /usr/local/lib/python3.7/dist-packages (from ipython) (0.7.5)\n",
            "Requirement already satisfied: pexpect>4.3 in /usr/local/lib/python3.7/dist-packages (from ipython) (4.8.0)\n",
            "Requirement already satisfied: jedi>=0.16 in /usr/local/lib/python3.7/dist-packages (from ipython) (0.18.1)\n",
            "Requirement already satisfied: matplotlib-inline in /usr/local/lib/python3.7/dist-packages (from ipython) (0.1.3)\n",
            "Requirement already satisfied: prompt-toolkit!=3.0.0,!=3.0.1,<3.1.0,>=2.0.0 in /usr/local/lib/python3.7/dist-packages (from ipython) (3.0.24)\n",
            "Requirement already satisfied: setuptools>=18.5 in /usr/local/lib/python3.7/dist-packages (from ipython) (57.4.0)\n",
            "Requirement already satisfied: decorator in /usr/local/lib/python3.7/dist-packages (from ipython) (4.4.2)\n",
            "Requirement already satisfied: pygments in /usr/local/lib/python3.7/dist-packages (from ipython) (2.6.1)\n",
            "Requirement already satisfied: traitlets>=4.2 in /usr/local/lib/python3.7/dist-packages (from ipython) (5.1.1)\n",
            "Requirement already satisfied: backcall in /usr/local/lib/python3.7/dist-packages (from ipython) (0.2.0)\n",
            "Requirement already satisfied: parso<0.9.0,>=0.8.0 in /usr/local/lib/python3.7/dist-packages (from jedi>=0.16->ipython) (0.8.3)\n",
            "Requirement already satisfied: ptyprocess>=0.5 in /usr/local/lib/python3.7/dist-packages (from pexpect>4.3->ipython) (0.7.0)\n",
            "Requirement already satisfied: wcwidth in /usr/local/lib/python3.7/dist-packages (from prompt-toolkit!=3.0.0,!=3.0.1,<3.1.0,>=2.0.0->ipython) (0.2.5)\n",
            "Requirement already satisfied: importlib-metadata<5 in /usr/local/lib/python3.7/dist-packages (from ipykernel) (4.8.2)\n",
            "Requirement already satisfied: debugpy<2.0,>=1.0.0 in /usr/local/lib/python3.7/dist-packages (from ipykernel) (1.0.0)\n",
            "Requirement already satisfied: argcomplete>=1.12.3 in /usr/local/lib/python3.7/dist-packages (from ipykernel) (1.12.3)\n",
            "Requirement already satisfied: jupyter-client<8.0 in /usr/local/lib/python3.7/dist-packages (from ipykernel) (5.3.5)\n",
            "Requirement already satisfied: tornado<7.0,>=4.2 in /usr/local/lib/python3.7/dist-packages (from ipykernel) (5.1.1)\n",
            "Requirement already satisfied: typing-extensions>=3.6.4 in /usr/local/lib/python3.7/dist-packages (from importlib-metadata<5->ipykernel) (3.10.0.2)\n",
            "Requirement already satisfied: zipp>=0.5 in /usr/local/lib/python3.7/dist-packages (from importlib-metadata<5->ipykernel) (3.6.0)\n",
            "Requirement already satisfied: pyzmq>=13 in /usr/local/lib/python3.7/dist-packages (from jupyter-client<8.0->ipykernel) (22.3.0)\n",
            "Requirement already satisfied: jupyter-core>=4.6.0 in /usr/local/lib/python3.7/dist-packages (from jupyter-client<8.0->ipykernel) (4.9.1)\n",
            "Requirement already satisfied: python-dateutil>=2.1 in /usr/local/lib/python3.7/dist-packages (from jupyter-client<8.0->ipykernel) (2.8.2)\n",
            "Requirement already satisfied: six>=1.5 in /usr/local/lib/python3.7/dist-packages (from python-dateutil>=2.1->jupyter-client<8.0->ipykernel) (1.15.0)\n"
          ]
        }
      ]
    },
    {
      "cell_type": "code",
      "metadata": {
        "colab": {
          "base_uri": "https://localhost:8080/"
        },
        "id": "LUXMwCCEkh88",
        "outputId": "d3efc07a-e5b0-45ee-d8a7-e909ed117bd4"
      },
      "source": [
        "!apt-get update \n",
        "!apt-get install chromium-chromedriver\n",
        "!cp /usr/lib/chromium-browser/chromedriver /usr/bin\n",
        "!dpkg -L chromium-chromedriver"
      ],
      "id": "LUXMwCCEkh88",
      "execution_count": 2,
      "outputs": [
        {
          "output_type": "stream",
          "name": "stdout",
          "text": [
            "Hit:1 https://dl.google.com/linux/chrome/deb stable InRelease\n",
            "Hit:2 https://cloud.r-project.org/bin/linux/ubuntu bionic-cran40/ InRelease\n",
            "Ign:3 https://developer.download.nvidia.com/compute/cuda/repos/ubuntu1804/x86_64  InRelease\n",
            "Hit:4 http://ppa.launchpad.net/c2d4u.team/c2d4u4.0+/ubuntu bionic InRelease\n",
            "Ign:5 https://developer.download.nvidia.com/compute/machine-learning/repos/ubuntu1804/x86_64  InRelease\n",
            "Hit:6 https://developer.download.nvidia.com/compute/cuda/repos/ubuntu1804/x86_64  Release\n",
            "Hit:7 https://developer.download.nvidia.com/compute/machine-learning/repos/ubuntu1804/x86_64  Release\n",
            "Hit:8 http://security.ubuntu.com/ubuntu bionic-security InRelease\n",
            "Hit:9 http://archive.ubuntu.com/ubuntu bionic InRelease\n",
            "Hit:10 http://archive.ubuntu.com/ubuntu bionic-updates InRelease\n",
            "Hit:11 http://ppa.launchpad.net/cran/libgit2/ubuntu bionic InRelease\n",
            "Hit:12 http://archive.ubuntu.com/ubuntu bionic-backports InRelease\n",
            "Hit:13 http://ppa.launchpad.net/deadsnakes/ppa/ubuntu bionic InRelease\n",
            "Hit:14 http://ppa.launchpad.net/graphics-drivers/ppa/ubuntu bionic InRelease\n",
            "Reading package lists... Done\n",
            "Reading package lists... Done\n",
            "Building dependency tree       \n",
            "Reading state information... Done\n",
            "chromium-chromedriver is already the newest version (95.0.4638.69-0ubuntu0.18.04.1).\n",
            "0 upgraded, 0 newly installed, 0 to remove and 58 not upgraded.\n",
            "cp: '/usr/lib/chromium-browser/chromedriver' and '/usr/bin/chromedriver' are the same file\n",
            "/.\n",
            "/usr\n",
            "/usr/bin\n",
            "/usr/bin/chromedriver\n",
            "/usr/lib\n",
            "/usr/lib/chromium-browser\n",
            "/usr/share\n",
            "/usr/share/doc\n",
            "/usr/share/doc/chromium-chromedriver\n",
            "/usr/share/doc/chromium-chromedriver/copyright\n",
            "/usr/lib/chromium-browser/chromedriver\n",
            "/usr/share/doc/chromium-chromedriver/changelog.Debian.gz\n"
          ]
        }
      ]
    },
    {
      "cell_type": "code",
      "metadata": {
        "id": "522f7eba",
        "colab": {
          "base_uri": "https://localhost:8080/"
        },
        "outputId": "39c5d05f-ab87-4d05-a44d-5680f2141470"
      },
      "source": [
        "import random\n",
        "from numpy import random as nprd\n",
        "import tensorflow as tf\n",
        "tf.random.set_seed(42)\n",
        "random.seed(42)\n",
        "nprd.seed(42)"
      ],
      "id": "522f7eba",
      "execution_count": 3,
      "outputs": [
        {
          "output_type": "stream",
          "name": "stderr",
          "text": [
            "/usr/local/lib/python3.7/dist-packages/requests/__init__.py:91: RequestsDependencyWarning: urllib3 (1.26.7) or chardet (3.0.4) doesn't match a supported version!\n",
            "  RequestsDependencyWarning)\n"
          ]
        }
      ]
    },
    {
      "cell_type": "code",
      "metadata": {
        "id": "97b57234"
      },
      "source": [
        "import asyncio\n",
        "import re\n",
        "import csv\n",
        "import pyppeteer as ptr\n",
        "import pandas as pd\n",
        "import nltk\n",
        "from typing import Optional, TypeVar\n",
        "from typing import Callable\n",
        "from glob import glob\n",
        "from nltk.corpus import stopwords\n",
        "from nltk.stem import PorterStemmer\n",
        "from sklearn.model_selection import train_test_split"
      ],
      "id": "97b57234",
      "execution_count": 4,
      "outputs": []
    },
    {
      "cell_type": "code",
      "metadata": {
        "id": "9dbc4943"
      },
      "source": [
        "import warnings\n",
        "warnings.filterwarnings('ignore')"
      ],
      "id": "9dbc4943",
      "execution_count": 5,
      "outputs": []
    },
    {
      "cell_type": "code",
      "metadata": {
        "id": "58ecbddb"
      },
      "source": [
        "import ssl\n",
        "\n",
        "try:\n",
        "    _create_unverified_https_context = ssl._create_unverified_context\n",
        "except AttributeError:\n",
        "    pass\n",
        "else:\n",
        "    ssl._create_default_https_context = _create_unverified_https_context"
      ],
      "id": "58ecbddb",
      "execution_count": 6,
      "outputs": []
    },
    {
      "cell_type": "code",
      "metadata": {
        "colab": {
          "base_uri": "https://localhost:8080/"
        },
        "id": "77ef13d0",
        "scrolled": true,
        "outputId": "9f418b6f-7ee6-4e35-a270-9248e2c5f322"
      },
      "source": [
        "nltk.download('punkt')\n",
        "nltk.download('averaged_perceptron_tagger')\n",
        "nltk.download('stopwords')"
      ],
      "id": "77ef13d0",
      "execution_count": 7,
      "outputs": [
        {
          "output_type": "stream",
          "name": "stdout",
          "text": [
            "[nltk_data] Downloading package punkt to /root/nltk_data...\n",
            "[nltk_data]   Package punkt is already up-to-date!\n",
            "[nltk_data] Downloading package averaged_perceptron_tagger to\n",
            "[nltk_data]     /root/nltk_data...\n",
            "[nltk_data]   Package averaged_perceptron_tagger is already up-to-\n",
            "[nltk_data]       date!\n",
            "[nltk_data] Downloading package stopwords to /root/nltk_data...\n",
            "[nltk_data]   Package stopwords is already up-to-date!\n"
          ]
        },
        {
          "output_type": "execute_result",
          "data": {
            "text/plain": [
              "True"
            ]
          },
          "metadata": {},
          "execution_count": 7
        }
      ]
    },
    {
      "cell_type": "code",
      "metadata": {
        "colab": {
          "base_uri": "https://localhost:8080/"
        },
        "id": "0euSJ137gsvA",
        "outputId": "4a4f9385-9210-41b3-ab68-8a8588efe9f1"
      },
      "source": [
        "from google.colab import drive\n",
        "drive.mount('/content/drive')"
      ],
      "id": "0euSJ137gsvA",
      "execution_count": 8,
      "outputs": [
        {
          "output_type": "stream",
          "name": "stdout",
          "text": [
            "Drive already mounted at /content/drive; to attempt to forcibly remount, call drive.mount(\"/content/drive\", force_remount=True).\n"
          ]
        }
      ]
    },
    {
      "cell_type": "code",
      "metadata": {
        "id": "UOuOyAMmhX9X"
      },
      "source": [
        "resource_path = \"/content/drive/MyDrive/resources2/\"\n",
        "\n",
        "data_path = resource_path + \"data/\"\n",
        "data_source_path = data_path + \"sources\"\n",
        "data_target_path = data_path + \"targets\""
      ],
      "id": "UOuOyAMmhX9X",
      "execution_count": 9,
      "outputs": []
    },
    {
      "cell_type": "code",
      "metadata": {
        "id": "2d338a95"
      },
      "source": [
        "from typing import List, Tuple\n",
        "PosTag = Tuple[str, str]\n",
        "PosTagList = List[PosTag]\n",
        "StemWord = str\n",
        "StemWordList = List[StemWord]"
      ],
      "id": "2d338a95",
      "execution_count": 10,
      "outputs": []
    },
    {
      "cell_type": "code",
      "metadata": {
        "id": "_FLPX8f4F5HU"
      },
      "source": [
        "global_config = {\n",
        "    \"word_limit\": 56,\n",
        "    \"n_samples\": 750,\n",
        "    \"test_size\": 0.2\n",
        "}"
      ],
      "id": "_FLPX8f4F5HU",
      "execution_count": 11,
      "outputs": []
    },
    {
      "cell_type": "code",
      "metadata": {
        "id": "79d0fcad"
      },
      "source": [
        "def get_name_and_extension(file_path: str) -> Tuple[str, str]:\n",
        "    regex = re.compile(r\"(.*)/(.*)\\.(.*)\")\n",
        "    return regex.match(file_path).group(2,3)"
      ],
      "id": "79d0fcad",
      "execution_count": 12,
      "outputs": []
    },
    {
      "cell_type": "code",
      "metadata": {
        "id": "38f3ffc2"
      },
      "source": [
        "async def download_html(browser: ptr.browser.Browser, page: ptr.page.Page, url: str, selector: str) -> Optional[str]:\n",
        "    await page.goto(url, waitUntil=\"load\", timeout=0)\n",
        "    print(f\"Going to collect from {url} using selector {selector}\")\n",
        "    content = await page.querySelector(selector)\n",
        "\n",
        "    html = ''\n",
        "    if content:\n",
        "        html = await page.evaluate('(element) => element.textContent', content)\n",
        "        \n",
        "    return html\n",
        "\n",
        "def write_to_resource_target(target_path: str, file_name: str, content: StemWordList, extension=\"txt\") -> None:\n",
        "    with open(f\"{target_path}/{file_name}.{extension}\", \"a\") as file:\n",
        "        file.write(\"\\n\".join(content))\n",
        "\n",
        "\n",
        "async def get_training_data_from_folder(source_path: str, target_path: str, force=False) -> None:\n",
        "    browser = await ptr.launch(\n",
        "        executablePath=\"/usr/bin/chromium-browser\", \n",
        "        args= ['--no-sandbox']\n",
        "    )\n",
        "    page = await browser.newPage()\n",
        "    \n",
        "    glob_pattern = \"/**/*\"\n",
        "    source_files = glob(source_path + glob_pattern, recursive=True)\n",
        "    target_files = glob(target_path + glob_pattern, recursive=True)\n",
        "    target_file_names = [get_name_and_extension(file_path)[0] for file_path in target_files]\n",
        "    \n",
        "    for file_path in source_files:\n",
        "        [file_name, file_extension] = get_name_and_extension(file_path)\n",
        "        \n",
        "        if not file_name in target_file_names or force:\n",
        "            result = await get_training_data(browser, page, file_path)\n",
        "            write_to_resource_target(target_path, file_name, result)        \n",
        "                \n",
        "    await browser.close()\n",
        "\n",
        "async def get_training_data(browser: ptr.browser.Browser, page: ptr.page.Page, file_path: str) -> StemWordList:\n",
        "    df = pd.read_csv(file_path)\n",
        "    df.rename(columns=lambda x: x.strip(), inplace=True)\n",
        "\n",
        "    words = []\n",
        "    if isinstance(df, pd.DataFrame):\n",
        "        for _, row in df.iterrows():\n",
        "            result = await download_html(browser, page, row[\"link\"], row[\"selector\"])\n",
        "            words.extend(clean_up_words(tokenize(result)))\n",
        "    \n",
        "    return words"
      ],
      "id": "38f3ffc2",
      "execution_count": 13,
      "outputs": []
    },
    {
      "cell_type": "code",
      "metadata": {
        "id": "a685f5d7"
      },
      "source": [
        "T = TypeVar(\"T\")\n",
        "R = TypeVar(\"R\")\n",
        "\n",
        "TestValueStrCallable = Callable[[T], str]\n",
        "TestValueBoolCallable = Callable[[T], bool]\n",
        "ValueTestFnCallable = Callable[[T], TestValueStrCallable]\n",
        "FilterCallable = Callable[[ValueTestFnCallable], bool]\n",
        "MapCallable = Callable[[ValueTestFnCallable], str]\n",
        "\n",
        "def tokenize(data: str) -> PosTagList:\n",
        "    tokenized_words = nltk.word_tokenize(data)\n",
        "    mutated_words = nltk.pos_tag(tokenized_words)\n",
        "    return mutated_words\n",
        "\n",
        "def filter_words(x: T, test_value: TestValueStrCallable, *fns: FilterCallable) -> bool:\n",
        "    if fns:\n",
        "        if fns[0](x, test_value):\n",
        "            return filter_words(x, test_value, *fns[1:])\n",
        "        else:\n",
        "            return False\n",
        "    \n",
        "    return True\n",
        "    \n",
        "def filter_by_punctuation(x: T, test_value: TestValueStrCallable = lambda t: t[0]) -> bool:\n",
        "    return x[0] != x[1]\n",
        "\n",
        "def filter_by_stop_word(x: T, test_value: TestValueStrCallable = lambda t: t[0]) -> bool:\n",
        "    return test_value(x) not in stopwords.words(\"english\")\n",
        "\n",
        "def regex_filter(regex: str):\n",
        "    def filter_by_regex(x: T, test_value: TestValueStrCallable = lambda t: t[0]):\n",
        "        rgx = re.compile(regex)\n",
        "        return rgx.match(test_value(x))\n",
        "    return filter_by_regex\n",
        "\n",
        "filter_by_alphabet = regex_filter(r\"^([a-zA-Z]|')+$\")\n",
        "filter_by_apostrophe = regex_filter(r\"^[^']*$\")\n",
        "\n",
        "def map_by_stem_words(x: PosTag, test_value: TestValueStrCallable = lambda t: t[0], ps=PorterStemmer()) -> StemWord:\n",
        "    return ps.stem(test_value(x)).lower()\n",
        "\n",
        "def map_words(x: T, test_value: TestValueStrCallable, *fns: MapCallable) -> StemWord:\n",
        "    if fns:\n",
        "        return map_words(fns[0](test_value(x)), test_value, *fns[1:])\n",
        "\n",
        "    return x\n",
        "            \n",
        "def clean_up_words(words: PosTagList) -> StemWordList:\n",
        "    filtered_words = list(set(\n",
        "        filter(\n",
        "        lambda x: filter_words(x, lambda x: x[0], filter_by_punctuation, filter_by_stop_word, filter_by_alphabet),\n",
        "        words\n",
        "        )\n",
        "    ))\n",
        "\n",
        "    stem_words = list(set(map(lambda x: map_words(x, lambda x: x, map_by_stem_words), filtered_words)))\n",
        "    \n",
        "    return list(set(\n",
        "        filter(\n",
        "            lambda x: filter_words(x, lambda x: x, filter_by_apostrophe), \n",
        "            stem_words)\n",
        "    ))"
      ],
      "id": "a685f5d7",
      "execution_count": 14,
      "outputs": []
    },
    {
      "cell_type": "code",
      "metadata": {
        "colab": {
          "base_uri": "https://localhost:8080/"
        },
        "id": "cXtjX9V4sW2Q",
        "outputId": "e779f7af-bf3a-4c24-a675-7c8f25b0f460"
      },
      "source": [
        "!curl -sSL https://dl.google.com/linux/linux_signing_key.pub | apt-key add -\n",
        "!echo \"deb [arch=amd64] https://dl.google.com/linux/chrome/deb/ stable main\" > /etc/apt/sources.list.d/google-chrome.list\n",
        "!apt update -y && apt install -y google-chrome-stable"
      ],
      "id": "cXtjX9V4sW2Q",
      "execution_count": 15,
      "outputs": [
        {
          "output_type": "stream",
          "name": "stdout",
          "text": [
            "OK\n",
            "Hit:1 https://cloud.r-project.org/bin/linux/ubuntu bionic-cran40/ InRelease\n",
            "Hit:2 https://dl.google.com/linux/chrome/deb stable InRelease\n",
            "Ign:3 https://developer.download.nvidia.com/compute/cuda/repos/ubuntu1804/x86_64  InRelease\n",
            "Hit:4 http://ppa.launchpad.net/c2d4u.team/c2d4u4.0+/ubuntu bionic InRelease\n",
            "Ign:5 https://developer.download.nvidia.com/compute/machine-learning/repos/ubuntu1804/x86_64  InRelease\n",
            "Hit:6 https://developer.download.nvidia.com/compute/cuda/repos/ubuntu1804/x86_64  Release\n",
            "Hit:7 https://developer.download.nvidia.com/compute/machine-learning/repos/ubuntu1804/x86_64  Release\n",
            "Hit:8 http://archive.ubuntu.com/ubuntu bionic InRelease\n",
            "Hit:9 http://security.ubuntu.com/ubuntu bionic-security InRelease\n",
            "Hit:10 http://archive.ubuntu.com/ubuntu bionic-updates InRelease\n",
            "Hit:11 http://ppa.launchpad.net/cran/libgit2/ubuntu bionic InRelease\n",
            "Hit:12 http://archive.ubuntu.com/ubuntu bionic-backports InRelease\n",
            "Hit:13 http://ppa.launchpad.net/deadsnakes/ppa/ubuntu bionic InRelease\n",
            "Hit:14 http://ppa.launchpad.net/graphics-drivers/ppa/ubuntu bionic InRelease\n",
            "Reading package lists... Done\n",
            "Building dependency tree       \n",
            "Reading state information... Done\n",
            "58 packages can be upgraded. Run 'apt list --upgradable' to see them.\n",
            "Reading package lists... Done\n",
            "Building dependency tree       \n",
            "Reading state information... Done\n",
            "google-chrome-stable is already the newest version (96.0.4664.93-1).\n",
            "0 upgraded, 0 newly installed, 0 to remove and 58 not upgraded.\n"
          ]
        }
      ]
    },
    {
      "cell_type": "code",
      "metadata": {
        "id": "WWLq2u_3qVn-"
      },
      "source": [
        "await get_training_data_from_folder(data_source_path, data_target_path)"
      ],
      "id": "WWLq2u_3qVn-",
      "execution_count": 16,
      "outputs": []
    },
    {
      "cell_type": "code",
      "metadata": {
        "id": "86d04a53"
      },
      "source": [
        "from typing import Dict\n",
        "\n",
        "def get_cleaned_data_from_file(input_file_path: str) -> Optional[List[str]]:\n",
        "    with open(input_file_path, \"r\") as file:\n",
        "        return [word.strip(\"\\n\") for word in list(file.readlines())]\n",
        "\n",
        "def get_cleaned_data_from_folder(input_path: str) -> Dict[str, PosTagList]:\n",
        "    glob_pattern = \"/**/*\"\n",
        "    input_files = glob(input_path + glob_pattern, recursive=True)\n",
        "    \n",
        "    data = dict()\n",
        "    for file_path in input_files:\n",
        "        [file_name, file_extension] = get_name_and_extension(file_path)\n",
        "        classification_data = get_cleaned_data_from_file(file_path)\n",
        "        data[file_name] = classification_data\n",
        "        \n",
        "    return data"
      ],
      "id": "86d04a53",
      "execution_count": 17,
      "outputs": []
    },
    {
      "cell_type": "code",
      "metadata": {
        "id": "2edefd61"
      },
      "source": [
        "from nltk.probability import WittenBellProbDist, FreqDist,LaplaceProbDist\n",
        "import numpy as np\n",
        "\n",
        "def unpack_dict_list(dict_list: Dict[str, StemWordList]):\n",
        "    return [v for k in dict_list for v in dict_list[k]]\n",
        "\n",
        "def generate_sample(population: StemWordList, label: str, n_unique_words: int, word_limit = global_config[\"word_limit\"]):\n",
        "    freq_dist = FreqDist(population)\n",
        "    prob_dist = WittenBellProbDist(freq_dist, n_unique_words)\n",
        "    \n",
        "    samples = [prob_dist.generate() for _ in range(word_limit)]\n",
        "\n",
        "    return np.array(list([*samples, label])).reshape(-1, 1)\n",
        "\n",
        "def generate_samples(data: Dict[str, StemWordList], n_samples = global_config[\"n_samples\"]):\n",
        "    n_unique_words = len(set(unpack_dict_list(data)))\n",
        "    \n",
        "    return np.array([np.array([generate_sample(data[k], k, n_unique_words) for _ in range(n_samples)]) for k in data])"
      ],
      "id": "2edefd61",
      "execution_count": 18,
      "outputs": []
    },
    {
      "cell_type": "code",
      "metadata": {
        "id": "a56eca5f"
      },
      "source": [
        "from sklearn.preprocessing import OneHotEncoder,LabelBinarizer\n",
        "from typing import Union\n",
        "\n",
        "def get_one_hot_encoder(population: Dict[str, StemWordList]):\n",
        "    population_array = np.array(list(set(unpack_dict_list(population)))).reshape(-1, 1)\n",
        "    encoder = OneHotEncoder(handle_unknown='ignore')\n",
        "    encoder.fit(population_array)\n",
        "    return encoder\n",
        "\n",
        "def get_label_encoder(labels: np.ndarray):\n",
        "    encoder = LabelBinarizer()\n",
        "    encoder.fit(labels)\n",
        "    return encoder\n",
        "\n",
        "def transform_data_by_encoder(data: np.ndarray, encoder: Union[OneHotEncoder, LabelBinarizer]):\n",
        "    encoded_data = encoder.transform(data)\n",
        "    \n",
        "    if not isinstance(encoded_data, np.ndarray):\n",
        "        encoded_data = encoded_data.toarray()\n",
        "        \n",
        "    return encoded_data\n",
        "\n",
        "def split_into_x_y(samples: np.ndarray):\n",
        "    x = samples[:,:,:-1]\n",
        "    y = samples[:,:,-1]\n",
        "    y = y.reshape(y.shape[0]*y.shape[1], 1)\n",
        "    return (x,y)\n",
        "    \n",
        "def transform_x_y(x: np.ndarray, y: np.ndarray, in_coder: OneHotEncoder, out_coder: LabelBinarizer):   \n",
        "    encoded_x = np.stack([\n",
        "        transform_data_by_encoder(x[lbl_idx, smpl_idx], in_coder)\n",
        "        for lbl_idx in range(x.shape[0])\n",
        "        for smpl_idx in range(x.shape[1])\n",
        "    ], axis=0)\n",
        "            \n",
        "    encoded_y = transform_data_by_encoder(y, out_coder)\n",
        "    \n",
        "    return (encoded_x, encoded_y)"
      ],
      "id": "a56eca5f",
      "execution_count": 19,
      "outputs": []
    },
    {
      "cell_type": "code",
      "metadata": {
        "id": "ILH3Z7OzLCx4"
      },
      "source": [
        "import pickle\n",
        "\n",
        "model_path = resource_path + \"models/\"\n",
        "input_encoder_file_name = \"input_encoder.pickle\"\n",
        "output_encoder_file_name = \"output_encoder.pickle\"\n",
        "\n",
        "def get_x_y(path = data_target_path, n_samples=2000):\n",
        "    result = get_cleaned_data_from_folder(data_target_path)\n",
        "    samples = generate_samples(result, n_samples)\n",
        "    x,y = split_into_x_y(samples)\n",
        "\n",
        "    encoder_paths = glob(model_path + \"*.pickle\", recursive=True)\n",
        "    encoder_file_names = [get_name_and_extension(file_path)[0] for file_path in encoder_paths]\n",
        "\n",
        "    if input_encoder_file_name in encoder_file_names:\n",
        "      input_encoder = pickle.load(open(encoder_paths[encoder_file_names.index(input_encoder_file_name)], \"rb\"))\n",
        "    else:\n",
        "      input_encoder = get_one_hot_encoder(result)\n",
        "\n",
        "    if output_encoder_file_name in encoder_file_names:\n",
        "      output_encoder = pickle.load(open(encoder_paths[encoder_file_names.index(output_encoder_file_name)], \"rb\"))\n",
        "    else:\n",
        "      output_encoder = get_label_encoder(y)\n",
        "\n",
        "    pickle.dump(input_encoder, open(model_path + input_encoder_file_name, \"wb\"))\n",
        "    pickle.dump(output_encoder, open(model_path + output_encoder_file_name, \"wb\"))\n",
        "\n",
        "    return transform_x_y(x, y, input_encoder, output_encoder)"
      ],
      "id": "ILH3Z7OzLCx4",
      "execution_count": 20,
      "outputs": []
    },
    {
      "cell_type": "code",
      "metadata": {
        "id": "MVI-l8QOnbMF",
        "colab": {
          "base_uri": "https://localhost:8080/"
        },
        "outputId": "15b53db1-ebfc-4051-b54b-2e1e71753e45"
      },
      "source": [
        "def get_data(n_samples=global_config[\"n_samples\"], test_size=global_config[\"test_size\"], random_state=42):\n",
        "    x, y = get_x_y(n_samples=n_samples)\n",
        "    x=x.reshape((*x.shape, 1))\n",
        "    return train_test_split(x, y, test_size=test_size, random_state=random_state)\n",
        "\n",
        "x_train, x_test, y_train, y_test = get_data()"
      ],
      "id": "MVI-l8QOnbMF",
      "execution_count": 21,
      "outputs": [
        {
          "output_type": "stream",
          "name": "stderr",
          "text": [
            "tcmalloc: large alloc 4243685376 bytes == 0x557ea047a000 @  0x7fef72f561e7 0x7fef6974d46e 0x7fef6979dc7b 0x7fef6979dd18 0x7fef69845010 0x7fef6984573c 0x7fef6984585d 0x557d993f2749 0x7fef6978aef7 0x557d993f0437 0x557d993f0240 0x557d99463973 0x557d9945e9ee 0x557d993f1bda 0x557d99460737 0x557d9945eced 0x557d99330e2b 0x7fef6978aef7 0x557d993f0437 0x557d993f0240 0x557d99463973 0x557d9945e9ee 0x557d993f1bda 0x557d99460737 0x557d9945eced 0x557d993f1bda 0x557d9945f915 0x557d9945e9ee 0x557d993f1bda 0x557d99460737 0x557d993f1d51\n",
            "tcmalloc: large alloc 3394945024 bytes == 0x557da32c2000 @  0x7fef72f561e7 0x7fef6974d46e 0x7fef6979dc7b 0x7fef6979dd18 0x7fef698303a9 0x7fef69832ab5 0x557d994d8409 0x557d9945fe7a 0x557d9945e9ee 0x557d993f1bda 0x557d99460737 0x557d9945eced 0x557d993f1bda 0x557d9945f915 0x557d994e2cf8 0x557d994d8cae 0x557d994c8ae5 0x557d993ff224 0x557d994300a4 0x557d993f0c52 0x557d99463c25 0x557d9945eced 0x557d993f1bda 0x557d99460737 0x557d993f1d51 0x557d9945f915 0x557d9945e9ee 0x557d9945e6f3 0x557d9945cb60 0x557d993f0349 0x557d993f0240\n"
          ]
        }
      ]
    },
    {
      "cell_type": "code",
      "metadata": {
        "id": "zbHPXQq5eUlK"
      },
      "source": [
        "from tensorflow.keras import regularizers\n",
        "from tensorflow import keras\n",
        "from tensorflow.keras import layers\n",
        "\n",
        "history_path = model_path + \"history.npy\"\n",
        "\n",
        "def save_history(history: np.ndarray):\n",
        "  np.save(history_path, history, allow_pickle=True)\n",
        "\n",
        "def load_history() -> Dict:\n",
        "  if os.path.exists(history_path):\n",
        "    return np.load(history_path, allow_pickle=True).item()\n",
        "\n",
        "  return {}\n",
        "\n",
        "def train_cnn():\n",
        "    input_shape = x_train.shape[1:]\n",
        "\n",
        "    config = {}\n",
        "\n",
        "    config[\"conv_layer_0\"] = {\n",
        "        \"filters\": 3,\n",
        "        \"kernel_size\": (3, 3),\n",
        "        \"strides\": 1,\n",
        "        \"activation\": \"relu\",\n",
        "    }\n",
        "\n",
        "    config[\"pool_layer_0\"] = {\n",
        "        \"pool_size\": (2,2),\n",
        "        \"padding\": \"same\"\n",
        "    }\n",
        "\n",
        "    config[\"conv_layer_1\"] = {\n",
        "        \"filters\": 3,\n",
        "        \"kernel_size\": (3, 3),\n",
        "        \"strides\": 2,\n",
        "        \"activation\": \"relu\"\n",
        "    }\n",
        "\n",
        "    config[\"pool_layer_1\"] = {\n",
        "        \"pool_size\": (2,2),\n",
        "        \"padding\": \"same\",\n",
        "    }\n",
        "\n",
        "    config[\"dense_layer_5\"] = {\n",
        "        \"units\": 64,\n",
        "        \"activation\": \"relu\",\n",
        "        \"bias_regularizer\": regularizers.l1_l2(0, 17e-1)\n",
        "    }\n",
        "\n",
        "    config[\"dropout_layer_3\"] = {\n",
        "        \"rate\": 0.5,\n",
        "    }\n",
        "\n",
        "    config[\"dense_layer_6\"] = {\n",
        "        \"units\": 64,\n",
        "        \"activation\": \"relu\",\n",
        "        \"bias_regularizer\": regularizers.l1_l2(0, 18e-1)\n",
        "    }\n",
        "\n",
        "    config[\"dropout_layer_9\"] = {\n",
        "        \"rate\": 0.5,\n",
        "    }\n",
        "\n",
        "    config[\"dense_layer_7\"] = {\n",
        "        \"units\": 64,\n",
        "        \"activation\": \"relu\",\n",
        "        \"kernel_regularizer\": regularizers.l1_l2(0, 12e-1),\n",
        "        \"bias_regularizer\": regularizers.l1_l2(0, 1e-11)\n",
        "    }\n",
        "\n",
        "    config[\"dropout_layer_0\"] = {\n",
        "        \"rate\": 0.5,\n",
        "    }\n",
        "\n",
        "    config[\"dense_layer_8\"]= {\n",
        "        \"units\": 128,\n",
        "        \"activation\": \"relu\",\n",
        "        \"kernel_regularizer\": regularizers.l1_l2(0, 4e-7),\n",
        "        \"bias_regularizer\": regularizers.l1_l2(0, 9e-1)\n",
        "    }\n",
        "\n",
        "    config[\"dropout_layer_1\"]= {\n",
        "        \"rate\": 0.5\n",
        "    }\n",
        "\n",
        "    config[\"flatten_layer_0\"] = {\n",
        "    }\n",
        "\n",
        "    config[\"dense_layer_final\"] = {\n",
        "        \"units\": (y_train.shape[-1]),\n",
        "        \"activation\": \"softmax\"\n",
        "    }\n",
        "\n",
        "    config[\"model_compile\"] = {\n",
        "        \"optimizer\": tf.keras.optimizers.Adam(0.001),\n",
        "        \"loss\": keras.losses.binary_crossentropy,\n",
        "        \"metrics\": [\"accuracy\", keras.metrics.Recall()]\n",
        "    }\n",
        "\n",
        "    config[\"model_fit\"] = {\n",
        "         \"x\": x_train,\n",
        "         \"y\": y_train,\n",
        "         \"batch_size\": 2,\n",
        "         \"epochs\": 16,\n",
        "         \"validation_split\" : global_config[\"test_size\"]\n",
        "    }\n",
        "\n",
        "    encoder_input = keras.Input(shape=input_shape)\n",
        "    prev_layer = encoder_input\n",
        "    encoder_output=None\n",
        "\n",
        "    layer_types = {\n",
        "        \"dense\": layers.Dense,\n",
        "        \"flatten\": layers.Flatten,\n",
        "        \"dropout\": layers.Dropout,\n",
        "        \"conv\": layers.Conv2D,\n",
        "        \"pool\": layers.MaxPool2D,\n",
        "    }\n",
        "    \n",
        "    for k,v in config.items():\n",
        "      type_of_layer, *_ = k.split(\"_\")\n",
        "      if type_of_layer != \"model\":\n",
        "        encoder_output = layer_types[type_of_layer](**v)(prev_layer)\n",
        "        prev_layer = encoder_output\n",
        "    \n",
        "    config[\"model\"] = {\n",
        "        \"inputs\": encoder_input,\n",
        "        \"outputs\": encoder_output,\n",
        "        \"name\": \"encoder\"\n",
        "    }\n",
        "\n",
        "    model = keras.Model(**config[\"model\"])\n",
        "    model.compile(**config[\"model_compile\"])\n",
        "\n",
        "    print(model.summary())\n",
        "    \n",
        "    history = model.fit(**config[\"model_fit\"])\n",
        "    save_history(history.history)\n",
        "\n",
        "    test_scores = model.evaluate(x_test, y_test, verbose=2)\n",
        "\n",
        "    return model    "
      ],
      "id": "zbHPXQq5eUlK",
      "execution_count": 22,
      "outputs": []
    },
    {
      "cell_type": "code",
      "metadata": {
        "colab": {
          "base_uri": "https://localhost:8080/"
        },
        "id": "K-Pj5tgVMeBh",
        "outputId": "e0842c7f-54ce-4b16-8d15-ab3cee59a23d"
      },
      "source": [
        "model = train_cnn()"
      ],
      "id": "K-Pj5tgVMeBh",
      "execution_count": 28,
      "outputs": [
        {
          "output_type": "stream",
          "name": "stdout",
          "text": [
            "Model: \"encoder\"\n",
            "_________________________________________________________________\n",
            " Layer (type)                Output Shape              Param #   \n",
            "=================================================================\n",
            " input_2 (InputLayer)        [(None, 56, 4210, 1)]     0         \n",
            "                                                                 \n",
            " conv2d_2 (Conv2D)           (None, 54, 4208, 3)       30        \n",
            "                                                                 \n",
            " max_pooling2d_2 (MaxPooling  (None, 27, 2104, 3)      0         \n",
            " 2D)                                                             \n",
            "                                                                 \n",
            " conv2d_3 (Conv2D)           (None, 13, 1051, 3)       84        \n",
            "                                                                 \n",
            " max_pooling2d_3 (MaxPooling  (None, 7, 526, 3)        0         \n",
            " 2D)                                                             \n",
            "                                                                 \n",
            " dense_5 (Dense)             (None, 7, 526, 64)        256       \n",
            "                                                                 \n",
            " dropout_4 (Dropout)         (None, 7, 526, 64)        0         \n",
            "                                                                 \n",
            " dense_6 (Dense)             (None, 7, 526, 64)        4160      \n",
            "                                                                 \n",
            " dropout_5 (Dropout)         (None, 7, 526, 64)        0         \n",
            "                                                                 \n",
            " dense_7 (Dense)             (None, 7, 526, 64)        4160      \n",
            "                                                                 \n",
            " dropout_6 (Dropout)         (None, 7, 526, 64)        0         \n",
            "                                                                 \n",
            " dense_8 (Dense)             (None, 7, 526, 128)       8320      \n",
            "                                                                 \n",
            " dropout_7 (Dropout)         (None, 7, 526, 128)       0         \n",
            "                                                                 \n",
            " flatten_1 (Flatten)         (None, 471296)            0         \n",
            "                                                                 \n",
            " dense_9 (Dense)             (None, 3)                 1413891   \n",
            "                                                                 \n",
            "=================================================================\n",
            "Total params: 1,430,901\n",
            "Trainable params: 1,430,901\n",
            "Non-trainable params: 0\n",
            "_________________________________________________________________\n",
            "None\n",
            "Epoch 1/16\n",
            "720/720 [==============================] - 37s 49ms/step - loss: 7.6053 - accuracy: 0.7674 - recall_1: 0.5486 - val_loss: 0.2146 - val_accuracy: 0.9083 - val_recall_1: 0.9083\n",
            "Epoch 2/16\n",
            "720/720 [==============================] - 35s 49ms/step - loss: 0.0724 - accuracy: 0.9875 - recall_1: 0.9861 - val_loss: 0.1997 - val_accuracy: 0.9417 - val_recall_1: 0.9417\n",
            "Epoch 3/16\n",
            "720/720 [==============================] - 36s 50ms/step - loss: 0.0491 - accuracy: 0.9944 - recall_1: 0.9944 - val_loss: 0.2033 - val_accuracy: 0.9167 - val_recall_1: 0.9167\n",
            "Epoch 4/16\n",
            "720/720 [==============================] - 36s 51ms/step - loss: 0.0755 - accuracy: 0.9889 - recall_1: 0.9889 - val_loss: 0.1820 - val_accuracy: 0.9250 - val_recall_1: 0.9250\n",
            "Epoch 5/16\n",
            "720/720 [==============================] - 38s 52ms/step - loss: 0.0608 - accuracy: 0.9889 - recall_1: 0.9889 - val_loss: 0.1854 - val_accuracy: 0.9222 - val_recall_1: 0.9222\n",
            "Epoch 6/16\n",
            "720/720 [==============================] - 38s 53ms/step - loss: 0.0577 - accuracy: 0.9924 - recall_1: 0.9924 - val_loss: 0.2581 - val_accuracy: 0.9222 - val_recall_1: 0.9222\n",
            "Epoch 7/16\n",
            "720/720 [==============================] - 37s 52ms/step - loss: 0.0534 - accuracy: 0.9910 - recall_1: 0.9910 - val_loss: 0.2071 - val_accuracy: 0.9194 - val_recall_1: 0.9194\n",
            "Epoch 8/16\n",
            "720/720 [==============================] - 36s 50ms/step - loss: 0.0444 - accuracy: 0.9944 - recall_1: 0.9944 - val_loss: 0.2700 - val_accuracy: 0.9250 - val_recall_1: 0.9250\n",
            "Epoch 9/16\n",
            "720/720 [==============================] - 36s 50ms/step - loss: 0.0544 - accuracy: 0.9924 - recall_1: 0.9924 - val_loss: 0.1879 - val_accuracy: 0.9306 - val_recall_1: 0.9306\n",
            "Epoch 10/16\n",
            "720/720 [==============================] - 36s 50ms/step - loss: 0.0452 - accuracy: 0.9951 - recall_1: 0.9951 - val_loss: 0.2513 - val_accuracy: 0.9111 - val_recall_1: 0.9111\n",
            "Epoch 11/16\n",
            "720/720 [==============================] - 36s 51ms/step - loss: 0.0430 - accuracy: 0.9965 - recall_1: 0.9965 - val_loss: 0.2185 - val_accuracy: 0.9194 - val_recall_1: 0.9194\n",
            "Epoch 12/16\n",
            "720/720 [==============================] - 36s 50ms/step - loss: 0.0630 - accuracy: 0.9917 - recall_1: 0.9917 - val_loss: 0.2081 - val_accuracy: 0.9250 - val_recall_1: 0.9250\n",
            "Epoch 13/16\n",
            "720/720 [==============================] - 36s 50ms/step - loss: 0.0361 - accuracy: 0.9958 - recall_1: 0.9958 - val_loss: 0.2226 - val_accuracy: 0.9167 - val_recall_1: 0.9139\n",
            "Epoch 14/16\n",
            "720/720 [==============================] - 36s 50ms/step - loss: 0.0468 - accuracy: 0.9924 - recall_1: 0.9924 - val_loss: 0.2966 - val_accuracy: 0.9111 - val_recall_1: 0.9111\n",
            "Epoch 15/16\n",
            "720/720 [==============================] - 36s 50ms/step - loss: 0.0402 - accuracy: 0.9937 - recall_1: 0.9937 - val_loss: 0.3728 - val_accuracy: 0.9111 - val_recall_1: 0.9111\n",
            "Epoch 16/16\n",
            "720/720 [==============================] - 36s 50ms/step - loss: 0.0554 - accuracy: 0.9944 - recall_1: 0.9944 - val_loss: 0.3350 - val_accuracy: 0.9083 - val_recall_1: 0.9028\n",
            "15/15 - 1s - loss: 0.3653 - accuracy: 0.8978 - recall_1: 0.8978 - 1s/epoch - 80ms/step\n"
          ]
        }
      ]
    },
    {
      "cell_type": "code",
      "metadata": {
        "id": "6e2da0bd"
      },
      "source": [
        "def clean_up_user_input(sentence: str, word_limit=56):\n",
        "  tokenized_words = tokenize(sentence)\n",
        "  \n",
        "  word = clean_up_words(tokenized_words)\n",
        "  words_to_test = np.array(word).reshape(-1, 1)\n",
        "\n",
        "  if not words_to_test.size:\n",
        "    return np.array([])\n",
        "\n",
        "  input_encoder = pickle.load(open(model_path + input_encoder_file_name, \"rb\"))\n",
        "\n",
        "  encoded_data = transform_data_by_encoder(words_to_test, input_encoder) \n",
        "  difference = word_limit - encoded_data.shape[0]\n",
        "  zero_array = np.zeros(encoded_data.shape[1])\n",
        "\n",
        "  for _ in range(difference):\n",
        "    encoded_data = np.append(encoded_data, [zero_array], axis=0)\n",
        "\n",
        "  return encoded_data"
      ],
      "id": "6e2da0bd",
      "execution_count": 24,
      "outputs": []
    },
    {
      "cell_type": "code",
      "metadata": {
        "id": "y_93rstMHJ_s"
      },
      "source": [
        "import os\n",
        "\n",
        "cnn_folder = \"cnn\"\n",
        "cnn_path = model_path + cnn_folder\n",
        "\n",
        "def save_cnn(override:bool=False, model=model):\n",
        "  if not os.path.exists(cnn_path) or override:\n",
        "    model.save(cnn_path)\n",
        "\n",
        "save_cnn()"
      ],
      "id": "y_93rstMHJ_s",
      "execution_count": 29,
      "outputs": []
    },
    {
      "cell_type": "code",
      "metadata": {
        "colab": {
          "base_uri": "https://localhost:8080/",
          "height": 573
        },
        "id": "BmurpME7bffe",
        "outputId": "0c6c043e-8504-4500-cbce-f20a729230be"
      },
      "source": [
        "from keras import models\n",
        "from matplotlib import pyplot as plt\n",
        "\n",
        "graph_path = resource_path + \"graphs/\"\n",
        "\n",
        "def plot_cnn(metric:str):\n",
        "  history = load_history()\n",
        "  regex = re.compile(fr'{metric}.*$')\n",
        "  metrics = list(filter(regex.search, history.keys()))\n",
        "  training_metric, val_metric = metrics\n",
        "  name, *_ = training_metric.split(\"_\")\n",
        "  fig, ax = plt.subplots()\n",
        "  ax.plot(history[training_metric])\n",
        "  ax.plot(history[val_metric])\n",
        "  ax.set_title(f'{name.title()} over Epochs')\n",
        "  ax.set_ylabel(name.title())\n",
        "  ax.set_xlabel('No. of Epoch(s)')\n",
        "  ax.grid()\n",
        "  legend = ax.legend(['Train', 'Validation'], bbox_to_anchor=(1.05, 1))\n",
        "\n",
        "  os.makedirs(graph_path, exist_ok=True)\n",
        "  fig.savefig(graph_path + metric, bbox_extra_artists=[legend], bbox_inches='tight')\n",
        "\n",
        "  plt.show()\n",
        "\n",
        "\n",
        "plot_cnn(\"accuracy\")\n",
        "plot_cnn(\"recall\")"
      ],
      "id": "BmurpME7bffe",
      "execution_count": 30,
      "outputs": [
        {
          "output_type": "display_data",
          "data": {
            "image/png": "[encoded data removed]",
            "text/plain": [
              "<Figure size 432x288 with 1 Axes>"
            ]
          },
          "metadata": {
            "needs_background": "light"
          }
        },
        {
          "output_type": "display_data",
          "data": {
            "image/png": "[encoded data removed]",
            "text/plain": [
              "<Figure size 432x288 with 1 Axes>"
            ]
          },
          "metadata": {
            "needs_background": "light"
          }
        }
      ]
    },
    {
      "cell_type": "code",
      "metadata": {
        "colab": {
          "base_uri": "https://localhost:8080/"
        },
        "id": "KtRpg06IYRP3",
        "outputId": "7a69a1b0-c2c3-43fc-9b44-06267abe4071"
      },
      "source": [
        "from tensorflow import keras\n",
        "def predict(sentence: str):\n",
        "  model_path = resource_path + \"models/\"\n",
        "  cnn_folder = \"cnn\"\n",
        "  cnn_path = model_path + cnn_folder\n",
        "  word = clean_up_user_input(sentence)\n",
        "  model = keras.models.load_model(cnn_path)\n",
        "\n",
        "  if word.size:\n",
        "    word = word.reshape(*word.shape, 1)\n",
        "    words = np.array([word])\n",
        "    output_encoder: LabelBinarizer = pickle.load(open(model_path + output_encoder_file_name, \"rb\"))\n",
        "    prediction = model.predict(words)\n",
        "    prediction_binary = np.zeros_like(prediction)\n",
        "    prediction_binary[:,prediction.argmax(1)] = 1\n",
        "    print(prediction)\n",
        "    print(output_encoder.inverse_transform(prediction))\n",
        "    ailment:str = output_encoder.inverse_transform(prediction)[0]\n",
        "    return ailment.upper()\n",
        "y_true = [\"DEPRESSION\",\"DEPRESSION\",\"DEPRESSION\",\"DEPRESSION\",\"DEPRESSION\",\n",
        "          \"MIGRAINE\",\"MIGRAINE\",\"MIGRAINE\",\"MIGRAINE\",\"MIGRAINE\",\"TETANUS\",\n",
        "          \"TETANUS\",\"TETANUS\",\"TETANUS\",\"TETANUS\"]\n",
        "y_pred = []\n",
        "#Depression\n",
        "y_pred.append(predict(\"I feel suicidal. Mental health kill hurt someone else medicine need help neuropath\"))\n",
        "y_pred.append(predict(\"I'm so sad, really feeling down, been gaining weight, no sleep\"))\n",
        "y_pred.append(predict(\"No sleep, feel lonely, really upset, feel nothing\"))\n",
        "y_pred.append(predict(\"Wow life sucks right now, super depressed, want to kill myself\"))\n",
        "y_pred.append(predict(\"I'm really depressed, suicidal, want to kill or hurt myself\"))\n",
        "\n",
        "#Migraine\n",
        "y_pred.append(predict(\"I have a headache. I feel senstivity to light. My head is hurting. It's twirling. I feel an aura.\"))\n",
        "y_pred.append(predict(\"I am sensitive to light. I feel an aura around my body. Migraine\"))\n",
        "y_pred.append(predict(\"My head hurts a lot, there's an aura surrounding me.\"))\n",
        "y_pred.append(predict(\"My head feels like its spinning, pain in head, pounding throbbing\"))\n",
        "y_pred.append(predict(\"My head hurts a lot, there's an aura surrounding me.\"))\n",
        "\n",
        "#Tetanus\n",
        "y_pred.append(predict(\"I have a jaw ache. It's tetanus. My muscles are stiff\"))\n",
        "y_pred.append(predict(\"I feel really stiff and like I can't move\"))\n",
        "y_pred.append(predict(\"My jaw is really sore and aching, I think I have tetanus\"))\n",
        "y_pred.append(predict(\"My muscles are so stiff, I don't have a vaccine for tetanus\"))\n",
        "y_pred.append(predict(\"It's tetanus. My muscles are stiff. I have a jaw ache.\"))"
      ],
      "id": "KtRpg06IYRP3",
      "execution_count": 32,
      "outputs": [
        {
          "output_type": "stream",
          "name": "stdout",
          "text": [
            "[[9.9963546e-01 3.6329721e-04 1.2394855e-06]]\n",
            "['depression']\n",
            "[[9.9999523e-01 1.2663323e-06 3.4653012e-06]]\n",
            "['depression']\n",
            "[[0.99498355 0.0037208  0.0012956 ]]\n",
            "['depression']\n",
            "[[9.9802798e-01 9.5619762e-04 1.0157512e-03]]\n",
            "['depression']\n",
            "WARNING:tensorflow:5 out of the last 5 calls to <function Model.make_predict_function.<locals>.predict_function at 0x7fed2674cd40> triggered tf.function retracing. Tracing is expensive and the excessive number of tracings could be due to (1) creating @tf.function repeatedly in a loop, (2) passing tensors with different shapes, (3) passing Python objects instead of tensors. For (1), please define your @tf.function outside of the loop. For (2), @tf.function has experimental_relax_shapes=True option that relaxes argument shapes that can avoid unnecessary retracing. For (3), please refer to https://www.tensorflow.org/guide/function#controlling_retracing and https://www.tensorflow.org/api_docs/python/tf/function for  more details.\n",
            "[[9.9999321e-01 4.3419700e-06 2.4870262e-06]]\n",
            "['depression']\n",
            "WARNING:tensorflow:6 out of the last 6 calls to <function Model.make_predict_function.<locals>.predict_function at 0x7fed0db518c0> triggered tf.function retracing. Tracing is expensive and the excessive number of tracings could be due to (1) creating @tf.function repeatedly in a loop, (2) passing tensors with different shapes, (3) passing Python objects instead of tensors. For (1), please define your @tf.function outside of the loop. For (2), @tf.function has experimental_relax_shapes=True option that relaxes argument shapes that can avoid unnecessary retracing. For (3), please refer to https://www.tensorflow.org/guide/function#controlling_retracing and https://www.tensorflow.org/api_docs/python/tf/function for  more details.\n",
            "[[1.1371721e-04 9.9988163e-01 4.6152418e-06]]\n",
            "['migraine']\n",
            "[[3.3899551e-04 9.9934715e-01 3.1380617e-04]]\n",
            "['migraine']\n",
            "[[0.21465904 0.7754833  0.00985758]]\n",
            "['migraine']\n",
            "[[0.00124718 0.9957973  0.00295565]]\n",
            "['migraine']\n",
            "[[0.21465904 0.7754833  0.00985758]]\n",
            "['migraine']\n",
            "[[9.5626747e-06 1.0785037e-04 9.9988258e-01]]\n",
            "['tetanus']\n",
            "[[9.9386901e-01 5.8024516e-03 3.2848274e-04]]\n",
            "['depression']\n",
            "[[2.3296904e-03 3.3188760e-04 9.9733835e-01]]\n",
            "['tetanus']\n",
            "[[6.9744229e-02 1.5927035e-04 9.3009645e-01]]\n",
            "['tetanus']\n",
            "[[9.5626747e-06 1.0785037e-04 9.9988258e-01]]\n",
            "['tetanus']\n"
          ]
        }
      ]
    },
    {
      "cell_type": "code",
      "metadata": {
        "colab": {
          "base_uri": "https://localhost:8080/",
          "height": 390
        },
        "id": "lKkGQPIa94LS",
        "outputId": "dc4f2081-74a9-44c1-c979-0c5538a94631"
      },
      "source": [
        "from sklearn import metrics\n",
        "\n",
        "\n",
        "display_labels=[\"DEPRESSION\",\"MIGRAINE\",\"TETANUS\"]\n",
        "cm = metrics.confusion_matrix(y_true,y_pred,labels=[\"DEPRESSION\",\"MIGRAINE\",\"TETANUS\"])\n",
        "\n",
        "print(y_pred)\n",
        "print(y_true)\n",
        "\n",
        "print(cm)\n",
        "\n",
        "disp = metrics.ConfusionMatrixDisplay(confusion_matrix=cm, display_labels=display_labels)\n",
        "\n",
        "# NOTE: Fill all variables here with default values of the plot_confusion_matrix\n",
        "disp = disp.plot()\n",
        "\n",
        "plt.savefig(graph_path + \"confusion_matrix\")"
      ],
      "id": "lKkGQPIa94LS",
      "execution_count": 33,
      "outputs": [
        {
          "output_type": "stream",
          "name": "stdout",
          "text": [
            "['DEPRESSION', 'DEPRESSION', 'DEPRESSION', 'DEPRESSION', 'DEPRESSION', 'MIGRAINE', 'MIGRAINE', 'MIGRAINE', 'MIGRAINE', 'MIGRAINE', 'TETANUS', 'DEPRESSION', 'TETANUS', 'TETANUS', 'TETANUS']\n",
            "['DEPRESSION', 'DEPRESSION', 'DEPRESSION', 'DEPRESSION', 'DEPRESSION', 'MIGRAINE', 'MIGRAINE', 'MIGRAINE', 'MIGRAINE', 'MIGRAINE', 'TETANUS', 'TETANUS', 'TETANUS', 'TETANUS', 'TETANUS']\n",
            "[[5 0 0]\n",
            " [0 5 0]\n",
            " [1 0 4]]\n"
          ]
        },
        {
          "output_type": "display_data",
          "data": {
            "image/png": "[encoded data removed]",
            "text/plain": [
              "<Figure size 432x288 with 2 Axes>"
            ]
          },
          "metadata": {
            "needs_background": "light"
          }
        }
      ]
    }
  ]
}