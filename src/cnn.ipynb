{
  "nbformat": 4,
  "nbformat_minor": 5,
  "metadata": {
    "interpreter": {
      "hash": "a8b403e565ea1794a437a21eaf7a4df5fa78d6ee8c0957d183a6329de63bb757"
    },
    "kernelspec": {
      "name": "python3",
      "display_name": "Python 3"
    },
    "colab": {
      "name": "GH cnn.ipynb",
      "provenance": [],
      "collapsed_sections": [],
      "toc_visible": true,
      "machine_shape": "hm",
      "include_colab_link": true
    },
    "language_info": {
      "name": "python"
    },
    "accelerator": "TPU"
  },
  "cells": [
    {
      "cell_type": "markdown",
      "metadata": {
        "id": "view-in-github",
        "colab_type": "text"
      },
      "source": [
        "<a href=\"https://colab.research.google.com/github/urmzd/md-nlp/blob/main/src/cnn.ipynb\" target=\"_parent\"><img src=\"https://colab.research.google.com/assets/colab-badge.svg\" alt=\"Open In Colab\"/></a>"
      ]
    },
    {
      "cell_type": "code",
      "metadata": {
        "colab": {
          "base_uri": "https://localhost:8080/"
        },
        "id": "NEPWrGDXjCRA",
        "outputId": "efdb2133-9178-47d9-cad0-194ac7b8998e"
      },
      "source": [
        "!pip install pyppeteer\n",
        "!pip install ipython ipykernel --upgrade"
      ],
      "id": "NEPWrGDXjCRA",
      "execution_count": 82,
      "outputs": [
        {
          "output_type": "stream",
          "name": "stdout",
          "text": [
            "Requirement already satisfied: pyppeteer in /usr/local/lib/python3.7/dist-packages (0.2.6)\n",
            "Requirement already satisfied: websockets<10.0,>=9.1 in /usr/local/lib/python3.7/dist-packages (from pyppeteer) (9.1)\n",
            "Requirement already satisfied: urllib3<2.0.0,>=1.25.8 in /usr/local/lib/python3.7/dist-packages (from pyppeteer) (1.26.7)\n",
            "Requirement already satisfied: importlib-metadata>=1.4 in /usr/local/lib/python3.7/dist-packages (from pyppeteer) (4.8.2)\n",
            "Requirement already satisfied: pyee<9.0.0,>=8.1.0 in /usr/local/lib/python3.7/dist-packages (from pyppeteer) (8.2.2)\n",
            "Requirement already satisfied: appdirs<2.0.0,>=1.4.3 in /usr/local/lib/python3.7/dist-packages (from pyppeteer) (1.4.4)\n",
            "Requirement already satisfied: tqdm<5.0.0,>=4.42.1 in /usr/local/lib/python3.7/dist-packages (from pyppeteer) (4.62.3)\n",
            "Requirement already satisfied: zipp>=0.5 in /usr/local/lib/python3.7/dist-packages (from importlib-metadata>=1.4->pyppeteer) (3.6.0)\n",
            "Requirement already satisfied: typing-extensions>=3.6.4 in /usr/local/lib/python3.7/dist-packages (from importlib-metadata>=1.4->pyppeteer) (3.10.0.2)\n",
            "Requirement already satisfied: ipython in /usr/local/lib/python3.7/dist-packages (7.30.1)\n",
            "Requirement already satisfied: ipykernel in /usr/local/lib/python3.7/dist-packages (6.6.0)\n",
            "Requirement already satisfied: setuptools>=18.5 in /usr/local/lib/python3.7/dist-packages (from ipython) (57.4.0)\n",
            "Requirement already satisfied: matplotlib-inline in /usr/local/lib/python3.7/dist-packages (from ipython) (0.1.3)\n",
            "Requirement already satisfied: decorator in /usr/local/lib/python3.7/dist-packages (from ipython) (4.4.2)\n",
            "Requirement already satisfied: pickleshare in /usr/local/lib/python3.7/dist-packages (from ipython) (0.7.5)\n",
            "Requirement already satisfied: jedi>=0.16 in /usr/local/lib/python3.7/dist-packages (from ipython) (0.18.1)\n",
            "Requirement already satisfied: traitlets>=4.2 in /usr/local/lib/python3.7/dist-packages (from ipython) (5.1.1)\n",
            "Requirement already satisfied: prompt-toolkit!=3.0.0,!=3.0.1,<3.1.0,>=2.0.0 in /usr/local/lib/python3.7/dist-packages (from ipython) (3.0.23)\n",
            "Requirement already satisfied: pexpect>4.3 in /usr/local/lib/python3.7/dist-packages (from ipython) (4.8.0)\n",
            "Requirement already satisfied: backcall in /usr/local/lib/python3.7/dist-packages (from ipython) (0.2.0)\n",
            "Requirement already satisfied: pygments in /usr/local/lib/python3.7/dist-packages (from ipython) (2.6.1)\n",
            "Requirement already satisfied: parso<0.9.0,>=0.8.0 in /usr/local/lib/python3.7/dist-packages (from jedi>=0.16->ipython) (0.8.2)\n",
            "Requirement already satisfied: ptyprocess>=0.5 in /usr/local/lib/python3.7/dist-packages (from pexpect>4.3->ipython) (0.7.0)\n",
            "Requirement already satisfied: wcwidth in /usr/local/lib/python3.7/dist-packages (from prompt-toolkit!=3.0.0,!=3.0.1,<3.1.0,>=2.0.0->ipython) (0.2.5)\n",
            "Requirement already satisfied: argcomplete>=1.12.3 in /usr/local/lib/python3.7/dist-packages (from ipykernel) (1.12.3)\n",
            "Requirement already satisfied: debugpy<2.0,>=1.0.0 in /usr/local/lib/python3.7/dist-packages (from ipykernel) (1.0.0)\n",
            "Requirement already satisfied: tornado<7.0,>=4.2 in /usr/local/lib/python3.7/dist-packages (from ipykernel) (5.1.1)\n",
            "Requirement already satisfied: jupyter-client<8.0 in /usr/local/lib/python3.7/dist-packages (from ipykernel) (5.3.5)\n",
            "Requirement already satisfied: importlib-metadata<5 in /usr/local/lib/python3.7/dist-packages (from ipykernel) (4.8.2)\n",
            "Requirement already satisfied: typing-extensions>=3.6.4 in /usr/local/lib/python3.7/dist-packages (from importlib-metadata<5->ipykernel) (3.10.0.2)\n",
            "Requirement already satisfied: zipp>=0.5 in /usr/local/lib/python3.7/dist-packages (from importlib-metadata<5->ipykernel) (3.6.0)\n",
            "Requirement already satisfied: pyzmq>=13 in /usr/local/lib/python3.7/dist-packages (from jupyter-client<8.0->ipykernel) (22.3.0)\n",
            "Requirement already satisfied: python-dateutil>=2.1 in /usr/local/lib/python3.7/dist-packages (from jupyter-client<8.0->ipykernel) (2.8.2)\n",
            "Requirement already satisfied: jupyter-core>=4.6.0 in /usr/local/lib/python3.7/dist-packages (from jupyter-client<8.0->ipykernel) (4.9.1)\n",
            "Requirement already satisfied: six>=1.5 in /usr/local/lib/python3.7/dist-packages (from python-dateutil>=2.1->jupyter-client<8.0->ipykernel) (1.15.0)\n"
          ]
        }
      ]
    },
    {
      "cell_type": "code",
      "metadata": {
        "colab": {
          "base_uri": "https://localhost:8080/"
        },
        "id": "LUXMwCCEkh88",
        "outputId": "c055a85b-c7d7-4963-9602-ed891f08571e"
      },
      "source": [
        "!apt-get update \n",
        "!apt-get install chromium-chromedriver\n",
        "!cp /usr/lib/chromium-browser/chromedriver /usr/bin\n",
        "!dpkg -L chromium-chromedriver"
      ],
      "id": "LUXMwCCEkh88",
      "execution_count": 83,
      "outputs": [
        {
          "output_type": "stream",
          "name": "stdout",
          "text": [
            "\r0% [Working]\r            \rGet:1 http://security.ubuntu.com/ubuntu bionic-security InRelease [88.7 kB]\n",
            "\r0% [Connecting to archive.ubuntu.com (91.189.88.142)] [1 InRelease 14.2 kB/88.7\r                                                                               \rHit:2 https://dl.google.com/linux/chrome/deb stable InRelease\n",
            "Hit:3 https://cloud.r-project.org/bin/linux/ubuntu bionic-cran40/ InRelease\n",
            "Ign:4 https://developer.download.nvidia.com/compute/cuda/repos/ubuntu1804/x86_64  InRelease\n",
            "Hit:5 http://ppa.launchpad.net/c2d4u.team/c2d4u4.0+/ubuntu bionic InRelease\n",
            "Ign:6 https://developer.download.nvidia.com/compute/machine-learning/repos/ubuntu1804/x86_64  InRelease\n",
            "Hit:7 https://developer.download.nvidia.com/compute/cuda/repos/ubuntu1804/x86_64  Release\n",
            "Hit:8 https://developer.download.nvidia.com/compute/machine-learning/repos/ubuntu1804/x86_64  Release\n",
            "Hit:9 http://archive.ubuntu.com/ubuntu bionic InRelease\n",
            "Get:10 http://archive.ubuntu.com/ubuntu bionic-updates InRelease [88.7 kB]\n",
            "Hit:11 http://ppa.launchpad.net/cran/libgit2/ubuntu bionic InRelease\n",
            "Hit:12 http://ppa.launchpad.net/deadsnakes/ppa/ubuntu bionic InRelease\n",
            "Get:13 http://archive.ubuntu.com/ubuntu bionic-backports InRelease [74.6 kB]\n",
            "Hit:14 http://ppa.launchpad.net/graphics-drivers/ppa/ubuntu bionic InRelease\n",
            "Fetched 252 kB in 2s (105 kB/s)\n",
            "Reading package lists... Done\n",
            "Reading package lists... Done\n",
            "Building dependency tree       \n",
            "Reading state information... Done\n",
            "chromium-chromedriver is already the newest version (95.0.4638.69-0ubuntu0.18.04.1).\n",
            "0 upgraded, 0 newly installed, 0 to remove and 43 not upgraded.\n",
            "cp: '/usr/lib/chromium-browser/chromedriver' and '/usr/bin/chromedriver' are the same file\n",
            "/.\n",
            "/usr\n",
            "/usr/bin\n",
            "/usr/bin/chromedriver\n",
            "/usr/lib\n",
            "/usr/lib/chromium-browser\n",
            "/usr/share\n",
            "/usr/share/doc\n",
            "/usr/share/doc/chromium-chromedriver\n",
            "/usr/share/doc/chromium-chromedriver/copyright\n",
            "/usr/lib/chromium-browser/chromedriver\n",
            "/usr/share/doc/chromium-chromedriver/changelog.Debian.gz\n"
          ]
        }
      ]
    },
    {
      "cell_type": "code",
      "metadata": {
        "id": "522f7eba"
      },
      "source": [
        "import random\n",
        "from numpy import random as nprd\n",
        "import tensorflow as tf\n",
        "tf.random.set_seed(42)\n",
        "random.seed(42)\n",
        "nprd.seed(42)"
      ],
      "id": "522f7eba",
      "execution_count": 84,
      "outputs": []
    },
    {
      "cell_type": "code",
      "metadata": {
        "id": "97b57234"
      },
      "source": [
        "import asyncio\n",
        "import re\n",
        "import csv\n",
        "import pyppeteer as ptr\n",
        "import pandas as pd\n",
        "import nltk\n",
        "from typing import Optional, TypeVar\n",
        "from typing import Callable\n",
        "from glob import glob\n",
        "from nltk.corpus import stopwords\n",
        "from nltk.stem import PorterStemmer\n",
        "from sklearn.model_selection import train_test_split"
      ],
      "id": "97b57234",
      "execution_count": 85,
      "outputs": []
    },
    {
      "cell_type": "code",
      "metadata": {
        "id": "9dbc4943"
      },
      "source": [
        "import warnings\n",
        "warnings.filterwarnings('ignore')"
      ],
      "id": "9dbc4943",
      "execution_count": 86,
      "outputs": []
    },
    {
      "cell_type": "code",
      "metadata": {
        "id": "58ecbddb"
      },
      "source": [
        "import ssl\n",
        "\n",
        "try:\n",
        "    _create_unverified_https_context = ssl._create_unverified_context\n",
        "except AttributeError:\n",
        "    pass\n",
        "else:\n",
        "    ssl._create_default_https_context = _create_unverified_https_context"
      ],
      "id": "58ecbddb",
      "execution_count": 87,
      "outputs": []
    },
    {
      "cell_type": "code",
      "metadata": {
        "scrolled": true,
        "colab": {
          "base_uri": "https://localhost:8080/"
        },
        "id": "77ef13d0",
        "outputId": "c73bc551-d769-4dc1-99ea-af7f0cecd8e6"
      },
      "source": [
        "nltk.download('punkt')\n",
        "nltk.download('averaged_perceptron_tagger')\n",
        "nltk.download('stopwords')"
      ],
      "id": "77ef13d0",
      "execution_count": 88,
      "outputs": [
        {
          "output_type": "stream",
          "name": "stdout",
          "text": [
            "[nltk_data] Downloading package punkt to /root/nltk_data...\n",
            "[nltk_data]   Package punkt is already up-to-date!\n",
            "[nltk_data] Downloading package averaged_perceptron_tagger to\n",
            "[nltk_data]     /root/nltk_data...\n",
            "[nltk_data]   Package averaged_perceptron_tagger is already up-to-\n",
            "[nltk_data]       date!\n",
            "[nltk_data] Downloading package stopwords to /root/nltk_data...\n",
            "[nltk_data]   Package stopwords is already up-to-date!\n"
          ]
        },
        {
          "output_type": "execute_result",
          "data": {
            "text/plain": [
              "True"
            ]
          },
          "metadata": {},
          "execution_count": 88
        }
      ]
    },
    {
      "cell_type": "code",
      "metadata": {
        "colab": {
          "base_uri": "https://localhost:8080/"
        },
        "id": "0euSJ137gsvA",
        "outputId": "ca4b85f0-dfea-4828-a164-b4ccf4a533e9"
      },
      "source": [
        "from google.colab import drive\n",
        "drive.mount('/content/drive')"
      ],
      "id": "0euSJ137gsvA",
      "execution_count": 89,
      "outputs": [
        {
          "output_type": "stream",
          "name": "stdout",
          "text": [
            "Drive already mounted at /content/drive; to attempt to forcibly remount, call drive.mount(\"/content/drive\", force_remount=True).\n"
          ]
        }
      ]
    },
    {
      "cell_type": "code",
      "metadata": {
        "colab": {
          "base_uri": "https://localhost:8080/"
        },
        "id": "lOAO3IpIEfTY",
        "outputId": "34f15b4d-48dd-4359-ef8c-73a8953ccc0d"
      },
      "source": [
        "!pip show gensim\n",
        "!pip install -U gensim"
      ],
      "id": "lOAO3IpIEfTY",
      "execution_count": 90,
      "outputs": [
        {
          "output_type": "stream",
          "name": "stdout",
          "text": [
            "Name: gensim\n",
            "Version: 4.1.2\n",
            "Summary: Python framework for fast Vector Space Modelling\n",
            "Home-page: http://radimrehurek.com/gensim\n",
            "Author: Radim Rehurek\n",
            "Author-email: me@radimrehurek.com\n",
            "License: LGPL-2.1-only\n",
            "Location: /usr/local/lib/python3.7/dist-packages\n",
            "Requires: scipy, smart-open, numpy\n",
            "Required-by: \n",
            "Requirement already satisfied: gensim in /usr/local/lib/python3.7/dist-packages (4.1.2)\n",
            "Requirement already satisfied: numpy>=1.17.0 in /usr/local/lib/python3.7/dist-packages (from gensim) (1.19.5)\n",
            "Requirement already satisfied: scipy>=0.18.1 in /usr/local/lib/python3.7/dist-packages (from gensim) (1.4.1)\n",
            "Requirement already satisfied: smart-open>=1.8.1 in /usr/local/lib/python3.7/dist-packages (from gensim) (5.2.1)\n"
          ]
        }
      ]
    },
    {
      "cell_type": "code",
      "metadata": {
        "id": "UOuOyAMmhX9X"
      },
      "source": [
        "resource_path = \"/content/drive/MyDrive/resources/\"\n",
        "\n",
        "data_path = resource_path + \"data/\"\n",
        "data_source_path = data_path + \"sources/\"\n",
        "data_target_path = data_path + \"targets/\"\n",
        "\n",
        "corpus_name = \"corpus\""
      ],
      "id": "UOuOyAMmhX9X",
      "execution_count": 91,
      "outputs": []
    },
    {
      "cell_type": "code",
      "metadata": {
        "id": "_FLPX8f4F5HU"
      },
      "source": [
        "global_config = {\n",
        "    \"word_limit\": 56,\n",
        "    \"n_samples\": 1000,\n",
        "    \"test_size\": 0.2\n",
        "}"
      ],
      "id": "_FLPX8f4F5HU",
      "execution_count": 92,
      "outputs": []
    },
    {
      "cell_type": "code",
      "metadata": {
        "id": "79d0fcad"
      },
      "source": [
        "from typing import Tuple\n",
        "def get_name_and_extension(file_path: str) -> Tuple[str, str]:\n",
        "    regex = re.compile(r\"(.*)/(.*)\\.(.*)\")\n",
        "    return regex.match(file_path).group(2,3)"
      ],
      "id": "79d0fcad",
      "execution_count": 93,
      "outputs": []
    },
    {
      "cell_type": "code",
      "metadata": {
        "colab": {
          "base_uri": "https://localhost:8080/"
        },
        "id": "cXtjX9V4sW2Q",
        "outputId": "3d7b0f86-c331-4902-8324-3e6c1ef04a2f"
      },
      "source": [
        "!curl -sSL https://dl.google.com/linux/linux_signing_key.pub | apt-key add -\n",
        "!echo \"deb [arch=amd64] https://dl.google.com/linux/chrome/deb/ stable main\" > /etc/apt/sources.list.d/google-chrome.list\n",
        "!apt update -y && apt install -y google-chrome-stable"
      ],
      "id": "cXtjX9V4sW2Q",
      "execution_count": 94,
      "outputs": [
        {
          "output_type": "stream",
          "name": "stdout",
          "text": [
            "OK\n",
            "Hit:1 https://dl.google.com/linux/chrome/deb stable InRelease\n",
            "Hit:2 https://cloud.r-project.org/bin/linux/ubuntu bionic-cran40/ InRelease\n",
            "Ign:3 https://developer.download.nvidia.com/compute/cuda/repos/ubuntu1804/x86_64  InRelease\n",
            "Hit:4 http://ppa.launchpad.net/c2d4u.team/c2d4u4.0+/ubuntu bionic InRelease\n",
            "Ign:5 https://developer.download.nvidia.com/compute/machine-learning/repos/ubuntu1804/x86_64  InRelease\n",
            "Hit:6 https://developer.download.nvidia.com/compute/cuda/repos/ubuntu1804/x86_64  Release\n",
            "Hit:7 https://developer.download.nvidia.com/compute/machine-learning/repos/ubuntu1804/x86_64  Release\n",
            "Get:8 http://security.ubuntu.com/ubuntu bionic-security InRelease [88.7 kB]\n",
            "Hit:9 http://archive.ubuntu.com/ubuntu bionic InRelease\n",
            "Get:10 http://archive.ubuntu.com/ubuntu bionic-updates InRelease [88.7 kB]\n",
            "Hit:11 http://ppa.launchpad.net/cran/libgit2/ubuntu bionic InRelease\n",
            "Hit:12 http://ppa.launchpad.net/deadsnakes/ppa/ubuntu bionic InRelease\n",
            "Get:13 http://archive.ubuntu.com/ubuntu bionic-backports InRelease [74.6 kB]\n",
            "Hit:14 http://ppa.launchpad.net/graphics-drivers/ppa/ubuntu bionic InRelease\n",
            "Fetched 252 kB in 2s (103 kB/s)\n",
            "Reading package lists... Done\n",
            "Building dependency tree       \n",
            "Reading state information... Done\n",
            "43 packages can be upgraded. Run 'apt list --upgradable' to see them.\n",
            "Reading package lists... Done\n",
            "Building dependency tree       \n",
            "Reading state information... Done\n",
            "google-chrome-stable is already the newest version (96.0.4664.45-1).\n",
            "0 upgraded, 0 newly installed, 0 to remove and 43 not upgraded.\n"
          ]
        }
      ]
    },
    {
      "cell_type": "code",
      "metadata": {
        "id": "38f3ffc2"
      },
      "source": [
        "# scraper.py\n",
        "from pyppeteer import launch, browser\n",
        "from typing import Union, List, Callable, Tuple, TypeVar\n",
        "from nltk import tokenize,data\n",
        "from glob import glob\n",
        "import csv\n",
        "import re\n",
        "import pickle\n",
        "\n",
        "# Declare Types.\n",
        "Url = str\n",
        "Selector = str\n",
        "Html = str\n",
        "\n",
        "ProcessedText = List[str]\n",
        "Processor = TypeVar('Processor', Callable[[Html], ProcessedText], None)\n",
        "\n",
        "def tokenize_by_sentence(html: str) -> ProcessedText:\n",
        "  sent_detector = data.load('tokenizers/punkt/english.pickle')\n",
        "  return sent_detector.tokenize(html)\n",
        "\n",
        "def replace_all_new_lines(texts: ProcessedText) -> ProcessedText:\n",
        "  return [re.sub('\\n', ' ', text) for text in texts]\n",
        "\n",
        "def pipeline(*transformers):\n",
        "  fns = [*transformers]\n",
        "  def pipeline_inner(input, fns=transformers):\n",
        "    head, *tail = fns\n",
        "    new_input = head(input)\n",
        "    if tail:\n",
        "      return pipeline_inner(new_input, tail)\n",
        "\n",
        "    return new_input\n",
        "  \n",
        "  return pipeline_inner\n",
        "\n",
        "def write_to_resource_target(target_path: str, file_name: str, content: ProcessedText, extension=\".txt\", mode=\"w\") -> None:\n",
        "    with open(f\"{target_path}{file_name}{extension}\", mode) as file:\n",
        "        file.write(\"\\n\".join(content))\n",
        "\n",
        "# Core\n",
        "async def scraper() -> Tuple[Callable[[Url, Selector, Processor], ProcessedText], browser.Browser]:\n",
        "  browser = await launch(\n",
        "        executablePath=\"/usr/bin/chromium-browser\", \n",
        "        args= ['--no-sandbox']\n",
        "  )\n",
        "\n",
        "  async def inner_download_html(url: Url, selector: Selector, processor: Processor = None) -> ProcessedText:\n",
        "    page = await browser.newPage()\n",
        "    await page.goto(url, waitUntil=\"load\", timeout=0)\n",
        "    print(f\"Going to collect from {url} using selector {selector}\")\n",
        "    content = await page.querySelector(selector)\n",
        "\n",
        "    html = ''\n",
        "    if content:\n",
        "        html = await page.evaluate('(element) => element.textContent', content)\n",
        "    \n",
        "    if processor:\n",
        "      return processor(html)\n",
        "\n",
        "    return [html]\n",
        "  \n",
        "  return (inner_download_html, browser)\n",
        "\n",
        "async def get_training_data_from_folder(source_path: str, target_path: str, force=False) -> None:\n",
        "    glob_pattern = \"/**/*\"\n",
        "    source_files = glob(source_path + glob_pattern, recursive=True)\n",
        "    target_files = glob(target_path + glob_pattern, recursive=True)\n",
        "    target_file_names = [get_name_and_extension(file_path)[0] for file_path in target_files]\n",
        "    \n",
        "    download_html, browser = await scraper() \n",
        "\n",
        "    for file_path in source_files:\n",
        "        [file_name, file_extension] = get_name_and_extension(file_path)\n",
        "\n",
        "        if not file_name in target_file_names or force:\n",
        "            with open(file_path, 'r') as file:\n",
        "              articles = csv.DictReader(file)\n",
        "              for article in articles:\n",
        "                print(article)\n",
        "                url, selector = article['link'], article['selector']\n",
        "                result = await download_html(url, selector, pipeline(tokenize_by_sentence, replace_all_new_lines))\n",
        "                write_to_resource_target(target_path, file_name, result)    \n",
        "                write_to_resource_target(data_path, corpus_name, result, mode=\"a\")    \n",
        "                \n",
        "    if browser:\n",
        "      await browser.close()"
      ],
      "id": "38f3ffc2",
      "execution_count": 95,
      "outputs": []
    },
    {
      "cell_type": "code",
      "metadata": {
        "id": "WWLq2u_3qVn-"
      },
      "source": [
        "await get_training_data_from_folder(data_source_path, data_target_path)"
      ],
      "id": "WWLq2u_3qVn-",
      "execution_count": 96,
      "outputs": []
    },
    {
      "cell_type": "code",
      "metadata": {
        "id": "p-dmXzChDpy9"
      },
      "source": [
        "from pprint import pprint as print\n",
        "from gensim.models.fasttext import FastText\n",
        "from gensim.test.utils import datapath\n",
        "from typing import Optional\n",
        "from gensim.test.utils import get_tmpfile\n",
        "import numpy as np\n",
        "\n",
        "model_path = resource_path + \"models/\"\n",
        "fast_text_path = model_path + \"fast_text.model\"\n",
        "\n",
        "def load_fast_text() -> FastText:\n",
        "  try:\n",
        "    return FastText.load(fast_text_path)\n",
        "  except:\n",
        "    return train_fast_text()\n",
        "\n",
        "def save_fast_text(model: FastText, force=True) -> None:\n",
        "  if force:\n",
        "    tmp_file = get_tmpfile(fast_text_path)\n",
        "    model.save(tmp_file)\n",
        "\n",
        "def train_fast_text() -> FastText:  \n",
        "  model = FastText(vector_size=32)\n",
        "  corpus_path = glob(data_path + \"corpus.*\")[0]\n",
        "  model.build_vocab(corpus_file=corpus_path)\n",
        "\n",
        "  model.train(\n",
        "      corpus_file=corpus_path, epochs=model.epochs,\n",
        "      total_examples=model.corpus_count, total_words=model.corpus_total_words,\n",
        "  )\n",
        "  \n",
        "  save_fast_text(model)\n",
        "\n",
        "  return model\n",
        "\n",
        "fast_text_model = train_fast_text()\n",
        "# print(fast_text_model.wv.most_similar(\"stiff\"))\n",
        "# np.copy(fast_text_model.wv['Urmzd'])"
      ],
      "id": "p-dmXzChDpy9",
      "execution_count": 97,
      "outputs": []
    },
    {
      "cell_type": "code",
      "metadata": {
        "id": "a685f5d7"
      },
      "source": [
        "# deprecated\n",
        "# Functions used to tokenize, filter and map words.\n",
        "# T = TypeVar(\"T\")\n",
        "# R = TypeVar(\"R\")\n",
        "\n",
        "# from typing import List, Tuple\n",
        "# PosTag = Tuple[str, str]\n",
        "# PosTagList = List[PosTag]\n",
        "# StemWord = str\n",
        "# StemWordList = List[StemWord]\n",
        "\n",
        "# TestValueStrCallable = Callable[[T], str]\n",
        "# TestValueBoolCallable = Callable[[T], bool]\n",
        "# ValueTestFnCallable = Callable[[T], TestValueStrCallable]\n",
        "# FilterCallable = Callable[[ValueTestFnCallable], bool]\n",
        "# MapCallable = Callable[[ValueTestFnCallable], str]\n",
        "\n",
        "# def tokenize(data: str) -> PosTagList:\n",
        "#     tokenized_words = nltk.word_tokenize(data)\n",
        "#     mutated_words = nltk.pos_tag(tokenized_words)\n",
        "#     return mutated_words\n",
        "\n",
        "# def filter_words(x: T, test_value: TestValueStrCallable, *fns: FilterCallable) -> bool:\n",
        "#     if fns:\n",
        "#         if fns[0](x, test_value):\n",
        "#             return filter_words(x, test_value, *fns[1:])\n",
        "#         else:\n",
        "#             return False\n",
        "    \n",
        "#     return True\n",
        "    \n",
        "# def filter_by_punctuation(x: T, test_value: TestValueStrCallable = lambda t: t[0]) -> bool:\n",
        "#     return x[0] != x[1]\n",
        "\n",
        "# def filter_by_stop_word(x: T, test_value: TestValueStrCallable = lambda t: t[0]) -> bool:\n",
        "#     return test_value(x) not in stopwords.words(\"english\")\n",
        "\n",
        "# def regex_filter(regex: str):\n",
        "#     def filter_by_regex(x: T, test_value: TestValueStrCallable = lambda t: t[0]):\n",
        "#         rgx = re.compile(regex)\n",
        "#         return rgx.match(test_value(x))\n",
        "#     return filter_by_regex\n",
        "\n",
        "# filter_by_alphabet = regex_filter(r\"^([a-zA-Z]|')+$\")\n",
        "# filter_by_apostrophe = regex_filter(r\"^[^']*$\")\n",
        "\n",
        "# def map_by_stem_words(x: PosTag, test_value: TestValueStrCallable = lambda t: t[0], ps=PorterStemmer()) -> StemWord:\n",
        "#     return ps.stem(test_value(x)).lower()\n",
        "\n",
        "# def map_words(x: T, test_value: TestValueStrCallable, *fns: MapCallable) -> StemWord:\n",
        "#     if fns:\n",
        "#         return map_words(fns[0](test_value(x)), test_value, *fns[1:])\n",
        "\n",
        "#     return x\n",
        "            \n",
        "# def clean_up_words(words: PosTagList) -> StemWordList:\n",
        "#     filtered_words = list(set(\n",
        "#         filter(\n",
        "#         lambda x: filter_words(x, lambda x: x[0], filter_by_punctuation, filter_by_stop_word, filter_by_alphabet),\n",
        "#         words\n",
        "#         )\n",
        "#     ))\n",
        "\n",
        "#     stem_words = list(set(map(lambda x: map_words(x, lambda x: x, map_by_stem_words), filtered_words)))\n",
        "    \n",
        "#     return list(set(\n",
        "#         filter(\n",
        "#             lambda x: filter_words(x, lambda x: x, filter_by_apostrophe), \n",
        "#             stem_words)\n",
        "#     ))"
      ],
      "id": "a685f5d7",
      "execution_count": 98,
      "outputs": []
    },
    {
      "cell_type": "code",
      "metadata": {
        "id": "a56eca5f"
      },
      "source": [
        "# Deprecate.\n",
        "# from sklearn.preprocessing import OneHotEncoder,LabelBinarizer\n",
        "# from typing import Union\n",
        "\n",
        "# def get_one_hot_encoder(population: Dict[str, StemWordList]):\n",
        "#     population_array = np.array(list(set(unpack_dict_list(population)))).reshape(-1, 1)\n",
        "#     encoder = OneHotEncoder(handle_unknown='ignore')\n",
        "#     encoder.fit(population_array)\n",
        "#     return encoder\n",
        "\n",
        "import pickle\n",
        "import os\n",
        "from glob import glob\n",
        "from sklearn.preprocessing import LabelBinarizer\n",
        "\n",
        "model_label_encoder = model_path + \"label_encoder.pickle\"\n",
        "\n",
        "def save_label_encoder(label_encoder: LabelBinarizer, file_name: str = model_label_encoder) -> None:\n",
        "    pickle.dump(label_encoder, open(file_name, \"wb\"))\n",
        "\n",
        "def load_label_encoder(file_name: str = model_label_encoder) -> Optional[LabelBinarizer]:\n",
        "    if os.path.exists(file_name):\n",
        "      return pickle.load(open(file_name, \"rb\"))\n",
        "\n",
        "    target_names = [get_name_and_extension(file_path)[0] for file_path in glob(data_target_path + \"*\", recursive=True)]\n",
        "    return train_label_encoder(target_names, True)\n",
        "\n",
        "def train_label_encoder(labels: List[str], force=False):\n",
        "    if force:\n",
        "      encoder = LabelBinarizer()\n",
        "      encoder.fit(labels)\n",
        "      save_label_encoder(encoder)\n",
        "      return encoder\n",
        "    return load_label_encoder()\n",
        "\n",
        "# def transform_data_by_encoder(data: np.ndarray, encoder: Union[OneHotEncoder, LabelBinarizer]):\n",
        "#     encoded_data = encoder.transform(data)\n",
        "    \n",
        "#     if not isinstance(encoded_data, np.ndarray):\n",
        "#         encoded_data = encoded_data.toarray()\n",
        "        \n",
        "#     return encoded_data\n",
        "\n",
        "# def split_into_x_y(samples: np.ndarray):\n",
        "#     x = samples[:,:,:-1]\n",
        "#     y = samples[:,:,-1]\n",
        "#     y = y.reshape(y.shape[0]*y.shape[1], 1)\n",
        "#     return (x,y)\n",
        "    \n",
        "# def transform_x_y(x: np.ndarray, y: np.ndarray, in_coder: OneHotEncoder, out_coder: LabelBinarizer):   \n",
        "#     encoded_x = np.stack([\n",
        "#         transform_data_by_encoder(x[lbl_idx, smpl_idx], in_coder)\n",
        "#         for lbl_idx in range(x.shape[0])\n",
        "#         for smpl_idx in range(x.shape[1])\n",
        "#     ], axis=0)\n",
        "            \n",
        "#     encoded_y = transform_data_by_encoder(y, out_coder)\n",
        "    \n",
        "#     return (encoded_x, encoded_y)"
      ],
      "id": "a56eca5f",
      "execution_count": 99,
      "outputs": []
    },
    {
      "cell_type": "code",
      "metadata": {
        "id": "86d04a53"
      },
      "source": [
        "from typing import Dict\n",
        "\n",
        "def unpack_dict_list(dict_list: Dict[str, ProcessedText]):\n",
        "    return [v for k in dict_list for v in dict_list[k]]\n",
        "\n",
        "def get_cleaned_data_from_file(input_file_path: str):\n",
        "    with open(input_file_path, \"r\") as file:\n",
        "        return [sentence.strip(\"\\n\") for sentence in list(file.readlines())]\n",
        "\n",
        "def get_cleaned_data_from_folder(input_path: str):\n",
        "    glob_pattern = \"/**/*\"\n",
        "    input_files = glob(input_path + glob_pattern, recursive=True)\n",
        "    \n",
        "    data = dict()\n",
        "    for file_path in input_files:\n",
        "        [file_name, file_extension] = get_name_and_extension(file_path)\n",
        "        classification_data = get_cleaned_data_from_file(file_path)\n",
        "        data[file_name] = classification_data\n",
        "        \n",
        "    return data"
      ],
      "id": "86d04a53",
      "execution_count": 100,
      "outputs": []
    },
    {
      "cell_type": "code",
      "metadata": {
        "id": "2edefd61"
      },
      "source": [
        "# Deprecated.\n",
        "# from nltk.probability import WittenBellProbDist, FreqDist,LaplaceProbDist\n",
        "# import numpy as np\n",
        "\n",
        "# def generate_sample(population: StemWordList, label: str, n_unique_words: int, word_limit = global_config[\"word_limit\"]):\n",
        "#     freq_dist = FreqDist(population)\n",
        "#     prob_dist = WittenBellProbDist(freq_dist, n_unique_words)\n",
        "    \n",
        "#     samples = [prob_dist.generate() for _ in range(word_limit)]\n",
        "\n",
        "#     return np.array(list([*samples, label])).reshape(-1, 1)\n",
        "\n",
        "# def generate_samples(data: Dict[str, StemWordList], n_samples = global_config[\"n_samples\"]):\n",
        "#     n_unique_words = len(set(unpack_dict_list(data)))\n",
        "    \n",
        "#     return np.array([np.array([generate_sample(data[k], k, n_unique_words) for _ in range(n_samples)]) for k in data])"
      ],
      "id": "2edefd61",
      "execution_count": 101,
      "outputs": []
    },
    {
      "cell_type": "code",
      "metadata": {
        "id": "ILH3Z7OzLCx4"
      },
      "source": [
        "import pickle\n",
        "import numpy as np\n",
        "from nltk import tokenize\n",
        "\n",
        "def pad_sequence(sequence: np.ndarray, limit=56) -> np.ndarray:\n",
        "  _sequence = np.copy(sequence)\n",
        "\n",
        "  if _sequence.shape[0] == limit:\n",
        "    return _sequence\n",
        "\n",
        "  paddings = []\n",
        "\n",
        "  if _sequence.shape[0] < limit:\n",
        "    mins = np.minimum.reduce(_sequence)\n",
        "    maxs = np.maximum.reduce(_sequence)\n",
        "    for i in range(limit - _sequence.shape[0]):\n",
        "      if i // 2:\n",
        "        paddings.append(mins)\n",
        "      else:\n",
        "        paddings.append(maxs)\n",
        "    \n",
        "    return np.vstack((_sequence, paddings))\n",
        "\n",
        "  return _sequence[:limit]\n",
        "  \n",
        "def get_x_y_from_sentence(sentence: str, label: str = None, x_encoder: FastText = load_fast_text(), y_encoder: LabelBinarizer = load_label_encoder(), word_limit=56) -> Tuple[np.ndarray, np.ndarray]:\n",
        "  x = np.vstack([x_encoder.wv[text] for text in tokenize.wordpunct_tokenize(sentence)])\n",
        "  padded_x = pad_sequence(x, word_limit)\n",
        "  padded_x = padded_x.reshape((*padded_x.shape, 1))\n",
        "  if label:\n",
        "    y = y_encoder.transform([label])\n",
        "  else:\n",
        "    y = None\n",
        "\n",
        "  return (padded_x, y)\n",
        "\n",
        "def get_x_y(path = data_target_path):\n",
        "    result = get_cleaned_data_from_folder(data_target_path)\n",
        "    xs = []\n",
        "    ys = []\n",
        "\n",
        "    for label, sentences in result.items():\n",
        "      for sentence in sentences:\n",
        "        x, y = get_x_y_from_sentence(sentence, label)\n",
        "        xs.append(x)\n",
        "        ys.append(y)\n",
        "\n",
        "    return np.array(xs), np.vstack(ys)"
      ],
      "id": "ILH3Z7OzLCx4",
      "execution_count": 112,
      "outputs": []
    },
    {
      "cell_type": "code",
      "metadata": {
        "id": "MVI-l8QOnbMF"
      },
      "source": [
        "from functools import lru_cache \n",
        "\n",
        "@lru_cache(maxsize=2)\n",
        "def get_data(test_size=global_config[\"test_size\"], random_state=42, ignore=False):\n",
        "    if ignore:\n",
        "      return [None, None, None, None]\n",
        "\n",
        "    x, y = get_x_y()\n",
        "    print((x.shape, y.shape, \"GET_DATA\"))\n",
        "    return train_test_split(x, y, test_size=test_size, random_state=random_state)"
      ],
      "id": "MVI-l8QOnbMF",
      "execution_count": 108,
      "outputs": []
    },
    {
      "cell_type": "code",
      "metadata": {
        "id": "y_93rstMHJ_s"
      },
      "source": [
        "import os\n",
        "import tensorflow as tf\n",
        "from tensorflow import keras\n",
        "from tensorflow.keras import layers\n",
        "from keras import regularizers, activations\n",
        "\n",
        "cnn_folder = \"cnn\"\n",
        "cnn_path = model_path + cnn_folder\n",
        "\n",
        "def save_cnn(model: keras.Model):\n",
        "  model.save(cnn_path)\n",
        "\n",
        "def load_cnn(retrain=False) -> keras.Model:\n",
        "  if os.path.exists(cnn_path) and not retrain:\n",
        "    return keras.models.load_model(cnn_path)\n",
        "\n",
        "  return train_cnn(*get_data())"
      ],
      "id": "y_93rstMHJ_s",
      "execution_count": 109,
      "outputs": []
    },
    {
      "cell_type": "code",
      "metadata": {
        "id": "zbHPXQq5eUlK"
      },
      "source": [
        "history_path = model_path + \"history.npy\"\n",
        "\n",
        "def save_history(history: np.ndarray):\n",
        "  np.save(history_path, history, allow_pickle=True)\n",
        "\n",
        "def load_history() -> Dict:\n",
        "  if os.path.exists(history_path):\n",
        "    return np.load(history_path, allow_pickle=True).item()\n",
        "\n",
        "  return {}\n",
        "\n",
        "def train_cnn(x_train, x_test, y_train, y_test):\n",
        "    input_shape = x_train.shape[1:]\n",
        "\n",
        "    print((input_shape, y_train.shape, y_test.shape))\n",
        "    config = {}\n",
        "\n",
        "    config[\"conv_layer_0\"] = {\n",
        "        \"filters\": 1,\n",
        "        \"kernel_size\": (2, 2),\n",
        "        \"strides\": (1,1),\n",
        "        \"activation\": \"relu\",\n",
        "    }\n",
        "\n",
        "    config[\"pool_layer_0\"] = {\n",
        "        \"pool_size\": (1,1),\n",
        "        \"padding\": \"same\"\n",
        "    }\n",
        "\n",
        "    config[\"conv_layer_1\"] = {\n",
        "        \"filters\": 1,\n",
        "        \"kernel_size\": (1, 1),\n",
        "        \"strides\": (1,1),\n",
        "        \"activation\": \"relu\"\n",
        "    }\n",
        "\n",
        "    config[\"pool_layer_1\"] = {\n",
        "        \"pool_size\": (1,1),\n",
        "        \"padding\": \"same\",\n",
        "    }\n",
        "\n",
        "    config[\"dense_layer_5\"] = {\n",
        "        \"units\": 32,\n",
        "        \"activation\": \"relu\",\n",
        "        \"bias_regularizer\": regularizers.l1_l2(0, 17e-1)\n",
        "    }\n",
        "\n",
        "    config[\"dense_layer_6\"] = {\n",
        "        \"units\": 16,\n",
        "        \"activation\": \"relu\",\n",
        "        \"bias_regularizer\": regularizers.l1_l2(0, 18e-1)\n",
        "    }\n",
        "\n",
        "    config[\"dense_layer_7\"] = {\n",
        "        \"units\": 8,\n",
        "        \"activation\": \"relu\",\n",
        "        \"kernel_regularizer\": regularizers.l1_l2(0, 12e-1),\n",
        "        \"bias_regularizer\": regularizers.l1_l2(0, 1e-11)\n",
        "    }\n",
        "\n",
        "    config[\"dropout_layer_0\"] = {\n",
        "        \"rate\": 0.22,\n",
        "    }\n",
        "\n",
        "    config[\"dense_layer_8\"]= {\n",
        "        \"units\": 8,\n",
        "        \"activation\": \"relu\",\n",
        "        \"kernel_regularizer\": regularizers.l1_l2(0, 4e-7),\n",
        "        \"bias_regularizer\": regularizers.l1_l2(0, 9e-1)\n",
        "    }\n",
        "\n",
        "    config[\"dropout_layer_1\"]= {\n",
        "        \"rate\": 0.33\n",
        "    }\n",
        "\n",
        "    config[\"flatten_layer_0\"] = {\n",
        "    }\n",
        "\n",
        "    config[\"dense_layer_final\"] = {\n",
        "        \"units\": (y_train.shape[-1]),\n",
        "        \"activation\": \"sigmoid\"\n",
        "    }\n",
        "\n",
        "    config[\"model_compile\"] = {\n",
        "        \"optimizer\": tf.keras.optimizers.Adam(0.001),\n",
        "        \"loss\": keras.losses.binary_crossentropy,\n",
        "        \"metrics\": [\"accuracy\", keras.metrics.Recall()]\n",
        "    }\n",
        "\n",
        "    config[\"model_fit\"] = {\n",
        "         \"x\": x_train,\n",
        "         \"y\": y_train,\n",
        "         \"batch_size\": 2,\n",
        "         \"epochs\": 8,\n",
        "         \"validation_split\" : global_config[\"test_size\"]\n",
        "    }\n",
        "\n",
        "    encoder_input = keras.Input(shape=input_shape)\n",
        "    prev_layer = encoder_input\n",
        "    encoder_output=None\n",
        "\n",
        "    layer_types = {\n",
        "        \"dense\": layers.Dense,\n",
        "        \"flatten\": layers.Flatten,\n",
        "        \"dropout\": layers.Dropout,\n",
        "        \"conv\": layers.Conv2D,\n",
        "        \"pool\": layers.MaxPool2D,\n",
        "        \"comp\": None,\n",
        "    }\n",
        "    \n",
        "    for k,v in config.items():\n",
        "      type_of_layer, *_ = k.split(\"_\")\n",
        "      if type_of_layer != \"model\":\n",
        "        encoder_output = layer_types[type_of_layer](**v)(prev_layer)\n",
        "        prev_layer = encoder_output\n",
        "    \n",
        "    config[\"model\"] = {\n",
        "        \"inputs\": encoder_input,\n",
        "        \"outputs\": encoder_output,\n",
        "        \"name\": \"encoder\"\n",
        "    }\n",
        "\n",
        "    model = keras.Model(**config[\"model\"])\n",
        "    model.compile(**config[\"model_compile\"])\n",
        "\n",
        "    print(model.summary())\n",
        "    \n",
        "    history = model.fit(**config[\"model_fit\"])\n",
        "    save_cnn(model)\n",
        "    save_history(history.history)\n",
        "\n",
        "    test_scores = model.evaluate(x_test, y_test, verbose=2)\n",
        "\n",
        "    return model    "
      ],
      "id": "zbHPXQq5eUlK",
      "execution_count": 160,
      "outputs": []
    },
    {
      "cell_type": "code",
      "metadata": {
        "id": "K-Pj5tgVMeBh",
        "colab": {
          "base_uri": "https://localhost:8080/"
        },
        "outputId": "3d0636ba-9750-41c0-9be7-9be85abd6ad6"
      },
      "source": [
        "model = load_cnn(retrain=True)"
      ],
      "id": "K-Pj5tgVMeBh",
      "execution_count": 161,
      "outputs": [
        {
          "output_type": "stream",
          "name": "stdout",
          "text": [
            "((56, 32, 1), (159, 3), (40, 3))\n",
            "Model: \"encoder\"\n",
            "_________________________________________________________________\n",
            " Layer (type)                Output Shape              Param #   \n",
            "=================================================================\n",
            " input_8 (InputLayer)        [(None, 56, 32, 1)]       0         \n",
            "                                                                 \n",
            " conv2d_14 (Conv2D)          (None, 55, 31, 1)         5         \n",
            "                                                                 \n",
            " max_pooling2d_14 (MaxPoolin  (None, 55, 31, 1)        0         \n",
            " g2D)                                                            \n",
            "                                                                 \n",
            " conv2d_15 (Conv2D)          (None, 55, 31, 1)         2         \n",
            "                                                                 \n",
            " max_pooling2d_15 (MaxPoolin  (None, 55, 31, 1)        0         \n",
            " g2D)                                                            \n",
            "                                                                 \n",
            " dense_35 (Dense)            (None, 55, 31, 32)        64        \n",
            "                                                                 \n",
            " dense_36 (Dense)            (None, 55, 31, 16)        528       \n",
            "                                                                 \n",
            " dense_37 (Dense)            (None, 55, 31, 8)         136       \n",
            "                                                                 \n",
            " dropout_14 (Dropout)        (None, 55, 31, 8)         0         \n",
            "                                                                 \n",
            " dense_38 (Dense)            (None, 55, 31, 8)         72        \n",
            "                                                                 \n",
            " dropout_15 (Dropout)        (None, 55, 31, 8)         0         \n",
            "                                                                 \n",
            " flatten_7 (Flatten)         (None, 13640)             0         \n",
            "                                                                 \n",
            " dense_39 (Dense)            (None, 3)                 40923     \n",
            "                                                                 \n",
            "=================================================================\n",
            "Total params: 41,730\n",
            "Trainable params: 41,730\n",
            "Non-trainable params: 0\n",
            "_________________________________________________________________\n",
            "None\n",
            "Epoch 1/8\n",
            "64/64 [==============================] - 2s 12ms/step - loss: 11.1626 - accuracy: 0.4331 - recall_7: 0.3307 - val_loss: 9.0483 - val_accuracy: 0.5312 - val_recall_7: 0.5312\n",
            "Epoch 2/8\n",
            "64/64 [==============================] - 0s 7ms/step - loss: 7.5424 - accuracy: 0.3780 - recall_7: 0.1969 - val_loss: 6.1283 - val_accuracy: 0.4375 - val_recall_7: 0.1250\n",
            "Epoch 3/8\n",
            "64/64 [==============================] - 0s 7ms/step - loss: 5.1023 - accuracy: 0.4567 - recall_7: 0.3622 - val_loss: 4.1436 - val_accuracy: 0.5000 - val_recall_7: 0.0312\n",
            "Epoch 4/8\n",
            "64/64 [==============================] - 0s 7ms/step - loss: 3.4605 - accuracy: 0.5039 - recall_7: 0.4488 - val_loss: 2.8228 - val_accuracy: 0.5312 - val_recall_7: 0.5312\n",
            "Epoch 5/8\n",
            "64/64 [==============================] - 0s 7ms/step - loss: 2.3752 - accuracy: 0.4961 - recall_7: 0.4409 - val_loss: 1.9523 - val_accuracy: 0.5625 - val_recall_7: 0.1250\n",
            "Epoch 6/8\n",
            "64/64 [==============================] - 0s 7ms/step - loss: 1.6633 - accuracy: 0.4961 - recall_7: 0.2126 - val_loss: 1.3831 - val_accuracy: 0.4375 - val_recall_7: 0.3438\n",
            "Epoch 7/8\n",
            "64/64 [==============================] - 0s 7ms/step - loss: 1.2063 - accuracy: 0.4961 - recall_7: 0.4646 - val_loss: 1.0384 - val_accuracy: 0.5625 - val_recall_7: 0.4375\n",
            "Epoch 8/8\n",
            "64/64 [==============================] - 0s 7ms/step - loss: 0.9422 - accuracy: 0.5197 - recall_7: 0.4016 - val_loss: 0.8109 - val_accuracy: 0.5000 - val_recall_7: 0.1875\n",
            "INFO:tensorflow:Assets written to: /content/drive/MyDrive/resources/models/cnn/assets\n",
            "2/2 - 0s - loss: 0.7721 - accuracy: 0.6750 - recall_7: 0.2000 - 376ms/epoch - 188ms/step\n"
          ]
        }
      ]
    },
    {
      "cell_type": "code",
      "metadata": {
        "id": "6e2da0bd"
      },
      "source": [
        "def clean_up_user_input(sentence: str):  \n",
        "  x,_ = get_x_y_from_sentence(sentence)\n",
        "\n",
        "  return x"
      ],
      "id": "6e2da0bd",
      "execution_count": 162,
      "outputs": []
    },
    {
      "cell_type": "code",
      "metadata": {
        "colab": {
          "base_uri": "https://localhost:8080/",
          "height": 608
        },
        "id": "BmurpME7bffe",
        "outputId": "a4d33bd1-7c28-41fc-c478-3ac6c94e5236"
      },
      "source": [
        "from keras import models\n",
        "from matplotlib import pyplot as plt\n",
        "\n",
        "graph_path = resource_path + \"graphs/\"\n",
        "\n",
        "def plot_cnn(metric:str):\n",
        "  history = load_history()\n",
        "  print(history.keys())\n",
        "  regex = re.compile(fr'{metric}.*$')\n",
        "  metrics = list(filter(regex.search, history.keys()))\n",
        "  training_metric, val_metric = metrics\n",
        "  name, *_ = training_metric.split(\"_\")\n",
        "  fig, ax = plt.subplots()\n",
        "  ax.plot(history[training_metric])\n",
        "  ax.plot(history[val_metric])\n",
        "  ax.set_title(f'{name.title()} over Epochs')\n",
        "  ax.set_ylabel(name.title())\n",
        "  ax.set_xlabel('No. of Epoch(s)')\n",
        "  ax.grid()\n",
        "  legend = ax.legend(['Train', 'Validation'], bbox_to_anchor=(1.05, 1))\n",
        "\n",
        "  os.makedirs(graph_path, exist_ok=True)\n",
        "  fig.savefig(graph_path + metric, bbox_extra_artists=[legend], bbox_inches='tight')\n",
        "\n",
        "  plt.show()\n",
        "\n",
        "\n",
        "plot_cnn(\"accuracy\")\n",
        "plot_cnn(\"recall\")"
      ],
      "id": "BmurpME7bffe",
      "execution_count": 163,
      "outputs": [
        {
          "output_type": "stream",
          "name": "stdout",
          "text": [
            "dict_keys(['loss', 'accuracy', 'recall_7', 'val_loss', 'val_accuracy', 'val_recall_7'])\n"
          ]
        },
        {
          "output_type": "display_data",
          "data": {
            "image/png": "[encoded data removed]",
            "text/plain": [
              "<Figure size 432x288 with 1 Axes>"
            ]
          },
          "metadata": {
            "needs_background": "light"
          }
        },
        {
          "output_type": "stream",
          "name": "stdout",
          "text": [
            "dict_keys(['loss', 'accuracy', 'recall_7', 'val_loss', 'val_accuracy', 'val_recall_7'])\n"
          ]
        },
        {
          "output_type": "display_data",
          "data": {
            "image/png": "[encoded data removed]",
            "text/plain": [
              "<Figure size 432x288 with 1 Axes>"
            ]
          },
          "metadata": {
            "needs_background": "light"
          }
        }
      ]
    },
    {
      "cell_type": "code",
      "metadata": {
        "colab": {
          "base_uri": "https://localhost:8080/"
        },
        "id": "KtRpg06IYRP3",
        "outputId": "13f5f414-2013-4731-b7c4-5f83795ac698"
      },
      "source": [
        "def predict(sentence: str):\n",
        "  encoded_word = clean_up_user_input(sentence)\n",
        "  encoded_word = np.array([encoded_word])\n",
        "\n",
        "  output_encoder: LabelBinarizer = load_label_encoder()\n",
        "  prediction = model.predict(encoded_word)\n",
        "  prediction_binary = np.zeros_like(prediction)\n",
        "  prediction_binary[:,prediction.argmax(1)] = 1\n",
        "  print(prediction)\n",
        "  ailment:str = output_encoder.inverse_transform(prediction)[0]\n",
        "  return ailment.upper()\n",
        "\n",
        "fast_text = load_fast_text()\n",
        "print((fast_text.wv.most_similar(\"headache\", topn=30)))"
      ],
      "id": "KtRpg06IYRP3",
      "execution_count": 164,
      "outputs": [
        {
          "output_type": "stream",
          "name": "stdout",
          "text": [
            "[('headache\".', 0.9995860457420349),\n",
            " ('headaches?', 0.999329149723053),\n",
            " ('headaches;', 0.9992431402206421),\n",
            " ('headache:', 0.9991653561592102),\n",
            " ('headache.', 0.9991124868392944),\n",
            " ('headaches:', 0.998340368270874),\n",
            " ('headaches\".', 0.9981985092163086),\n",
            " ('headache,', 0.9981157183647156),\n",
            " ('headaches', 0.9973040819168091),\n",
            " ('headaches.', 0.9964399337768555),\n",
            " ('head)', 0.9918993711471558),\n",
            " ('head', 0.9893831610679626),\n",
            " ('headaches,', 0.9886679649353027),\n",
            " ('head,', 0.98702472448349),\n",
            " ('head.', 0.986944854259491),\n",
            " ('pain', 0.9803731441497803),\n",
            " ('migraineurs', 0.9771416187286377),\n",
            " ('(migraine', 0.9771267175674438),\n",
            " ('depressed,', 0.9767941236495972),\n",
            " ('“migraine', 0.9764986038208008),\n",
            " ('depression.', 0.9764957427978516),\n",
            " ('depressed.', 0.9760173559188843),\n",
            " ('depression,', 0.9757803082466125),\n",
            " ('migraine', 0.9752934575080872),\n",
            " ('depression)', 0.9744929075241089),\n",
            " ('depression\",', 0.97428297996521),\n",
            " ('depression?', 0.9740561842918396),\n",
            " ('seven,', 0.9736412167549133),\n",
            " ('migraines', 0.973637580871582),\n",
            " ('migraine\".', 0.9734961986541748)]\n",
            "array([[0.43707785, 0.49453795, 0.03021315]], dtype=float32)\n",
            "'MIGRAINE'\n",
            "array([[0.4449441 , 0.48787615, 0.03180879]], dtype=float32)\n",
            "'MIGRAINE'\n",
            "array([[0.4453993 , 0.48481137, 0.03034261]], dtype=float32)\n",
            "'MIGRAINE'\n"
          ]
        }
      ]
    }
  ]
}