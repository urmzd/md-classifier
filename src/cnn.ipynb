{
 "cells": [
  {
   "cell_type": "code",
   "execution_count": 2,
   "id": "c5cc7c94",
   "metadata": {},
   "outputs": [],
   "source": [
    "#!/usr/bin/env python\n",
    "import asyncio\n",
    "import pyppeteer as ptr\n",
    "from typing import Optional\n",
    "import pandas as pd\n",
    "from glob import glob\n",
    "import nltk\n",
    "from nltk.corpus import stopwords\n",
    "import re\n",
    "from typing import Callable"
   ]
  },
  {
   "cell_type": "code",
   "execution_count": 3,
   "id": "58ecbddb",
   "metadata": {},
   "outputs": [],
   "source": [
    "import ssl\n",
    "\n",
    "try:\n",
    "    _create_unverified_https_context = ssl._create_unverified_context\n",
    "except AttributeError:\n",
    "    pass\n",
    "else:\n",
    "    ssl._create_default_https_context = _create_unverified_https_context"
   ]
  },
  {
   "cell_type": "code",
   "execution_count": 4,
   "id": "77ef13d0",
   "metadata": {},
   "outputs": [
    {
     "name": "stderr",
     "output_type": "stream",
     "text": [
      "[nltk_data] Downloading package punkt to /home/urmzd/nltk_data...\n",
      "[nltk_data]   Package punkt is already up-to-date!\n",
      "[nltk_data] Downloading package averaged_perceptron_tagger to\n",
      "[nltk_data]     /home/urmzd/nltk_data...\n",
      "[nltk_data]   Package averaged_perceptron_tagger is already up-to-\n",
      "[nltk_data]       date!\n",
      "[nltk_data] Downloading package stopwords to /home/urmzd/nltk_data...\n",
      "[nltk_data]   Package stopwords is already up-to-date!\n"
     ]
    },
    {
     "data": {
      "text/plain": [
       "True"
      ]
     },
     "execution_count": 4,
     "metadata": {},
     "output_type": "execute_result"
    }
   ],
   "source": [
    "nltk.download('punkt')\n",
    "nltk.download('averaged_perceptron_tagger')\n",
    "nltk.download('stopwords')"
   ]
  },
  {
   "cell_type": "code",
   "execution_count": 5,
   "id": "2d338a95",
   "metadata": {},
   "outputs": [],
   "source": [
    "PosTag = tuple[str, str]\n",
    "PosTagList = list[PosTag]"
   ]
  },
  {
   "cell_type": "code",
   "execution_count": 6,
   "id": "38f3ffc2",
   "metadata": {},
   "outputs": [
    {
     "ename": "TypeError",
     "evalue": "Callable must be used as Callable[[arg, ...], result].",
     "output_type": "error",
     "traceback": [
      "\u001b[0;31m---------------------------------------------------------------------------\u001b[0m",
      "\u001b[0;31mTypeError\u001b[0m                                 Traceback (most recent call last)",
      "\u001b[0;32m/tmp/ipykernel_2017/2894715964.py\u001b[0m in \u001b[0;36m<module>\u001b[0;34m\u001b[0m\n\u001b[1;32m     48\u001b[0m     \u001b[0;32mreturn\u001b[0m \u001b[0mtagged_words\u001b[0m\u001b[0;34m\u001b[0m\u001b[0;34m\u001b[0m\u001b[0m\n\u001b[1;32m     49\u001b[0m \u001b[0;34m\u001b[0m\u001b[0m\n\u001b[0;32m---> 50\u001b[0;31m \u001b[0;32mdef\u001b[0m \u001b[0mfilter_words\u001b[0m\u001b[0;34m(\u001b[0m\u001b[0mx\u001b[0m\u001b[0;34m:\u001b[0m \u001b[0mPosTag\u001b[0m\u001b[0;34m,\u001b[0m \u001b[0mfns\u001b[0m\u001b[0;34m:\u001b[0m \u001b[0mlist\u001b[0m\u001b[0;34m[\u001b[0m\u001b[0mCallable\u001b[0m\u001b[0;34m[\u001b[0m\u001b[0;34m[\u001b[0m\u001b[0mPosTag\u001b[0m\u001b[0;34m]\u001b[0m\u001b[0;34m]\u001b[0m\u001b[0;34m,\u001b[0m \u001b[0mbool\u001b[0m\u001b[0;34m]\u001b[0m\u001b[0;34m,\u001b[0m \u001b[0mkeep\u001b[0m\u001b[0;34m=\u001b[0m\u001b[0;32mTrue\u001b[0m\u001b[0;34m)\u001b[0m \u001b[0;34m->\u001b[0m \u001b[0mbool\u001b[0m\u001b[0;34m:\u001b[0m\u001b[0;34m\u001b[0m\u001b[0;34m\u001b[0m\u001b[0m\n\u001b[0m\u001b[1;32m     51\u001b[0m     \u001b[0;32mif\u001b[0m \u001b[0;32mnot\u001b[0m \u001b[0mkeep\u001b[0m\u001b[0;34m:\u001b[0m\u001b[0;34m\u001b[0m\u001b[0;34m\u001b[0m\u001b[0m\n\u001b[1;32m     52\u001b[0m         \u001b[0;32mreturn\u001b[0m \u001b[0;32mFalse\u001b[0m\u001b[0;34m\u001b[0m\u001b[0;34m\u001b[0m\u001b[0m\n",
      "\u001b[0;32m/usr/lib/python3.9/typing.py\u001b[0m in \u001b[0;36m__getitem__\u001b[0;34m(self, params)\u001b[0m\n\u001b[1;32m    879\u001b[0m     \u001b[0;32mdef\u001b[0m \u001b[0m__getitem__\u001b[0m\u001b[0;34m(\u001b[0m\u001b[0mself\u001b[0m\u001b[0;34m,\u001b[0m \u001b[0mparams\u001b[0m\u001b[0;34m)\u001b[0m\u001b[0;34m:\u001b[0m\u001b[0;34m\u001b[0m\u001b[0;34m\u001b[0m\u001b[0m\n\u001b[1;32m    880\u001b[0m         \u001b[0;32mif\u001b[0m \u001b[0;32mnot\u001b[0m \u001b[0misinstance\u001b[0m\u001b[0;34m(\u001b[0m\u001b[0mparams\u001b[0m\u001b[0;34m,\u001b[0m \u001b[0mtuple\u001b[0m\u001b[0;34m)\u001b[0m \u001b[0;32mor\u001b[0m \u001b[0mlen\u001b[0m\u001b[0;34m(\u001b[0m\u001b[0mparams\u001b[0m\u001b[0;34m)\u001b[0m \u001b[0;34m!=\u001b[0m \u001b[0;36m2\u001b[0m\u001b[0;34m:\u001b[0m\u001b[0;34m\u001b[0m\u001b[0;34m\u001b[0m\u001b[0m\n\u001b[0;32m--> 881\u001b[0;31m             raise TypeError(\"Callable must be used as \"\n\u001b[0m\u001b[1;32m    882\u001b[0m                             \"Callable[[arg, ...], result].\")\n\u001b[1;32m    883\u001b[0m         \u001b[0margs\u001b[0m\u001b[0;34m,\u001b[0m \u001b[0mresult\u001b[0m \u001b[0;34m=\u001b[0m \u001b[0mparams\u001b[0m\u001b[0;34m\u001b[0m\u001b[0;34m\u001b[0m\u001b[0m\n",
      "\u001b[0;31mTypeError\u001b[0m: Callable must be used as Callable[[arg, ...], result]."
     ]
    }
   ],
   "source": [
    "## Scraper.\n",
    "async def download_html(browser: ptr.browser.Browser, url: str, selector: str) -> Optional[str]:\n",
    "    page = await browser.newPage()\n",
    "    await page.goto(url, waitUntil=\"load\")\n",
    "    content = await page.querySelector(selector)\n",
    "\n",
    "    html = ''\n",
    "    if content:\n",
    "        html = await page.evaluate('(element) => element.textContent', content)\n",
    "\n",
    "    return html\n",
    "\n",
    "def write_to_resource_target(file_name, content: PosTagList):\n",
    "    with open(f\"../resources/targets/{file_name}\", \"w\") as file:\n",
    "        file.write(\",\".join(content))\n",
    "\n",
    "\n",
    "async def get_training_data_from_folder(folder_path: str) -> None:\n",
    "    browser = await ptr.launch(headless=True)\n",
    "    files = glob(folder_path + '/**/*.csv', recursive=True)\n",
    "    \n",
    "    words = dict()\n",
    "    \n",
    "    for file in files:\n",
    "        result = await get_training_data(browser, file)\n",
    "        write_to_resource_target(file, result)\n",
    "        words[file] = result\n",
    "        \n",
    "                \n",
    "    await browser.close()\n",
    "\n",
    "async def get_training_data(browser: ptr.browser.Browser, file_path: str) -> PosTagList:\n",
    "    df = pd.read_csv(file_path)\n",
    "    df.rename(columns=lambda x: x.strip(), inplace=True)\n",
    "\n",
    "    words = []\n",
    "    if isinstance(df, pd.DataFrame):\n",
    "        for _, row in df.iterrows():\n",
    "            result = await download_html(browser, row[\"link\"], row[\"selector\"])\n",
    "            words.extend(clean_up_words(tokenize(result)))\n",
    "    \n",
    "    return words"
   ]
  },
  {
   "cell_type": "code",
   "execution_count": null,
   "id": "a685f5d7",
   "metadata": {},
   "outputs": [],
   "source": [
    "## Cleaners.\n",
    "def tokenize(data: str):\n",
    "    tokenized_words = nltk.word_tokenize(data)\n",
    "    tagged_words = nltk.pos_tag(tokenized_words)\n",
    "    return tagged_words\n",
    "\n",
    "def filter_words(x: PosTag, fns: list[Callable[[PosTag], bool]], keep=True) -> bool:\n",
    "    if not keep:\n",
    "        return False\n",
    "    \n",
    "    if fns:\n",
    "        return filter_words(x, fns[1:], keep=fns[0](x))\n",
    "    \n",
    "    return True\n",
    "    \n",
    "def filter_by_duplicate(x: tuple[str, str]) -> bool:\n",
    "    return x[0] != x[1]\n",
    "\n",
    "def filter_by_stop_word(x: tuple[str, str]) -> bool:\n",
    "    return x[0] not in stopwords.words(\"english\")\n",
    "\n",
    "def filter_by_alphabet(x: tuple[str, str]) -> bool:\n",
    "    regex = re.compile(\"^([a-zA-Z]|')+$\")\n",
    "    return regex.match(x[0])\n",
    "            \n",
    "def clean_up_words(words: PosTagList) -> PosTagList:\n",
    "    return list(filter(\n",
    "        lambda x: filter_words(x, [filter_by_duplicate, filter_by_stop_word, filter_by_alphabet]),\n",
    "        words\n",
    "        )\n",
    "    )"
   ]
  },
  {
   "cell_type": "code",
   "execution_count": null,
   "id": "1e865ee0",
   "metadata": {},
   "outputs": [
    {
     "name": "stdout",
     "output_type": "stream",
     "text": [
      "selector                                           #topicText\n",
      "link        https://www.uptodate.com/contents/depression-t...\n",
      "Name: 0, dtype: object\n",
      "selector    #main-content > div:nth-child(1) > div.content...\n",
      "link        https://www.mayoclinic.org/diseases-conditions...\n",
      "Name: 1, dtype: object\n",
      "selector                                     #mw-content-text\n",
      "link        https://simple.wikipedia.org/wiki/Depression_(...\n",
      "Name: 2, dtype: object\n",
      "selector                                         #maincontent\n",
      "link        https://www.nhs.uk/mental-health/conditions/cl...\n",
      "Name: 3, dtype: object\n",
      "selector                               #\\31 3193 > section\n",
      "link        https://familydoctor.org/condition/depression/\n",
      "Name: 4, dtype: object\n",
      "selector    #__next > div.css-fdjy12 > div:nth-child(5) > ...\n",
      "link        https://www.healthline.com/health/depression#s...\n",
      "Name: 5, dtype: object\n",
      "selector    #__next > div.css-fdjy12 > div:nth-child(5) > ...\n",
      "link        https://www.medicalnewstoday.com/articles/3213...\n",
      "Name: 6, dtype: object\n",
      "selector                   #skip > div:nth-child(1) > article\n",
      "link        https://www.hopkinsmedicine.org/health/conditi...\n",
      "Name: 7, dtype: object\n",
      "selector    body > div:nth-child(6) > div > div.main-conte...\n",
      "link        https://www.childrenshospital.org/conditions-a...\n",
      "Name: 8, dtype: object\n",
      "selector                                    #mntl-sc-page_1-0\n",
      "link        https://www.verywellmind.com/what-is-moderate-...\n",
      "Name: 9, dtype: object\n",
      "selector                                           #topicText\n",
      "link        https://www.uptodate.com/contents/tetanus-the-...\n",
      "Name: 0, dtype: object\n",
      "selector                                        #main-content\n",
      "link         https://www.mayoclinic.org/diseases-condition...\n",
      "Name: 1, dtype: object\n",
      "selector                         #mw-content-text\n",
      "link        https://en.wikipedia.org/wiki/Tetanus\n",
      "Name: 2, dtype: object\n",
      "selector        #maincontent > article > div > div\n",
      "link        https://www.nhs.uk/conditions/tetanus/\n",
      "Name: 3, dtype: object\n",
      "selector    body > div.container.d-flex.flex-wrap.body-wra...\n",
      "link        https://www.cdc.gov/tetanus/about/symptoms-com...\n",
      "Name: 4, dtype: object\n",
      "selector    #__next > div.css-fdjy12 > div:nth-child(5) > ...\n",
      "link         https://www.healthline.com/health/tetanus#causes\n",
      "Name: 5, dtype: object\n",
      "selector    #__next > div.css-fdjy12 > div:nth-child(5) > ...\n",
      "link         https://www.medicalnewstoday.com/articles/163063\n",
      "Name: 6, dtype: object\n",
      "selector                   #skip > div:nth-child(1) > article\n",
      "link        https://www.hopkinsmedicine.org/health/conditi...\n",
      "Name: 7, dtype: object\n",
      "selector    body > div:nth-child(6) > div > div.main-conte...\n",
      "link        https://www.childrenshospital.org/conditions-a...\n",
      "Name: 8, dtype: object\n",
      "selector    body > main > article > div.article-template__...\n",
      "link            https://www.everydayhealth.com/tetanus/guide/\n",
      "Name: 9, dtype: object\n",
      "selector                                           #topicText\n",
      "link        https://www.uptodate.com/contents/depression-t...\n",
      "Name: 0, dtype: object\n",
      "selector                                        #main-content\n",
      "link        https://www.mayoclinic.org/diseases-conditions...\n",
      "Name: 1, dtype: object\n",
      "selector                          #mw-content-text\n",
      "link        http://en.wikipedia.org/wiki/Migraines\n",
      "Name: 2, dtype: object\n",
      "selector                 #maincontent > article > div > div\n",
      "link        https://www.nhs.uk/conditions/migraine/symptoms\n",
      "Name: 3, dtype: object\n",
      "selector    #symptoms > div > div > section > div > div > div\n",
      "link             https://familydoctor.org/condition/migraines\n",
      "Name: 4, dtype: object\n",
      "selector    #__next > div.css-fdjy12 > div.css-stl7tm > di...\n",
      "link        https://www.healthline.com/health/migraine-sym...\n",
      "Name: 5, dtype: object\n",
      "selector    #__next > div.css-fdjy12 > div.css-stl7tm > di...\n",
      "link        https://www.medicalnewstoday.com/articles/1483...\n",
      "Name: 6, dtype: object\n",
      "selector    ##skip > div:nth-child(1) > article > div:nth-...\n",
      "link        https://www.hopkinsmedicine.org/health/conditi...\n",
      "Name: 7, dtype: object\n"
     ]
    },
    {
     "ename": "ElementHandleError",
     "evalue": "Evaluation failed: DOMException: Failed to execute 'querySelector' on 'Document': '##skip > div:nth-child(1) > article > div:nth-child(6)' is not a valid selector.\n    at __pyppeteer_evaluation_script__:1:33",
     "output_type": "error",
     "traceback": [
      "\u001b[0;31m---------------------------------------------------------------------------\u001b[0m",
      "\u001b[0;31mElementHandleError\u001b[0m                        Traceback (most recent call last)",
      "\u001b[0;32m/var/folders/84/gtkwzb694rz_hh13tmtp6k1m0000gn/T/ipykernel_37495/3796854438.py\u001b[0m in \u001b[0;36m<module>\u001b[0;34m\u001b[0m\n\u001b[1;32m      1\u001b[0m \u001b[0;31m# type: ignore\u001b[0m\u001b[0;34m\u001b[0m\u001b[0;34m\u001b[0m\u001b[0m\n\u001b[0;32m----> 2\u001b[0;31m \u001b[0;32mawait\u001b[0m \u001b[0;34m(\u001b[0m\u001b[0mget_training_data_from_folder\u001b[0m\u001b[0;34m(\u001b[0m\u001b[0;34m\"../resources/sources\"\u001b[0m\u001b[0;34m)\u001b[0m\u001b[0;34m)\u001b[0m\u001b[0;34m\u001b[0m\u001b[0;34m\u001b[0m\u001b[0m\n\u001b[0m",
      "\u001b[0;32m/var/folders/84/gtkwzb694rz_hh13tmtp6k1m0000gn/T/ipykernel_37495/4261761103.py\u001b[0m in \u001b[0;36mget_training_data_from_folder\u001b[0;34m(folder_path)\u001b[0m\n\u001b[1;32m     18\u001b[0m \u001b[0;34m\u001b[0m\u001b[0m\n\u001b[1;32m     19\u001b[0m     \u001b[0;32mfor\u001b[0m \u001b[0mfile\u001b[0m \u001b[0;32min\u001b[0m \u001b[0mfiles\u001b[0m\u001b[0;34m:\u001b[0m\u001b[0;34m\u001b[0m\u001b[0;34m\u001b[0m\u001b[0m\n\u001b[0;32m---> 20\u001b[0;31m         \u001b[0mresult\u001b[0m \u001b[0;34m=\u001b[0m \u001b[0;32mawait\u001b[0m \u001b[0mget_training_data\u001b[0m\u001b[0;34m(\u001b[0m\u001b[0mbrowser\u001b[0m\u001b[0;34m,\u001b[0m \u001b[0mfile\u001b[0m\u001b[0;34m)\u001b[0m\u001b[0;34m\u001b[0m\u001b[0;34m\u001b[0m\u001b[0m\n\u001b[0m\u001b[1;32m     21\u001b[0m         \u001b[0mwords\u001b[0m\u001b[0;34m[\u001b[0m\u001b[0mfile\u001b[0m\u001b[0;34m]\u001b[0m \u001b[0;34m=\u001b[0m \u001b[0mresult\u001b[0m\u001b[0;34m\u001b[0m\u001b[0;34m\u001b[0m\u001b[0m\n\u001b[1;32m     22\u001b[0m \u001b[0;34m\u001b[0m\u001b[0m\n",
      "\u001b[0;32m/var/folders/84/gtkwzb694rz_hh13tmtp6k1m0000gn/T/ipykernel_37495/4261761103.py\u001b[0m in \u001b[0;36mget_training_data\u001b[0;34m(browser, file_path)\u001b[0m\n\u001b[1;32m     33\u001b[0m         \u001b[0;32mfor\u001b[0m \u001b[0m_\u001b[0m\u001b[0;34m,\u001b[0m \u001b[0mrow\u001b[0m \u001b[0;32min\u001b[0m \u001b[0mdf\u001b[0m\u001b[0;34m.\u001b[0m\u001b[0miterrows\u001b[0m\u001b[0;34m(\u001b[0m\u001b[0;34m)\u001b[0m\u001b[0;34m:\u001b[0m\u001b[0;34m\u001b[0m\u001b[0;34m\u001b[0m\u001b[0m\n\u001b[1;32m     34\u001b[0m             \u001b[0mprint\u001b[0m\u001b[0;34m(\u001b[0m\u001b[0mrow\u001b[0m\u001b[0;34m)\u001b[0m\u001b[0;34m\u001b[0m\u001b[0;34m\u001b[0m\u001b[0m\n\u001b[0;32m---> 35\u001b[0;31m             \u001b[0mresult\u001b[0m \u001b[0;34m=\u001b[0m \u001b[0;32mawait\u001b[0m \u001b[0mdownload_html\u001b[0m\u001b[0;34m(\u001b[0m\u001b[0mbrowser\u001b[0m\u001b[0;34m,\u001b[0m \u001b[0mrow\u001b[0m\u001b[0;34m[\u001b[0m\u001b[0;34m\"link\"\u001b[0m\u001b[0;34m]\u001b[0m\u001b[0;34m,\u001b[0m \u001b[0mrow\u001b[0m\u001b[0;34m[\u001b[0m\u001b[0;34m\"selector\"\u001b[0m\u001b[0;34m]\u001b[0m\u001b[0;34m)\u001b[0m\u001b[0;34m\u001b[0m\u001b[0;34m\u001b[0m\u001b[0m\n\u001b[0m\u001b[1;32m     36\u001b[0m             \u001b[0mwords\u001b[0m\u001b[0;34m.\u001b[0m\u001b[0mextend\u001b[0m\u001b[0;34m(\u001b[0m\u001b[0mclean_up_words\u001b[0m\u001b[0;34m(\u001b[0m\u001b[0mtokenize\u001b[0m\u001b[0;34m(\u001b[0m\u001b[0mresult\u001b[0m\u001b[0;34m)\u001b[0m\u001b[0;34m)\u001b[0m\u001b[0;34m)\u001b[0m\u001b[0;34m\u001b[0m\u001b[0;34m\u001b[0m\u001b[0m\n\u001b[1;32m     37\u001b[0m \u001b[0;34m\u001b[0m\u001b[0m\n",
      "\u001b[0;32m/var/folders/84/gtkwzb694rz_hh13tmtp6k1m0000gn/T/ipykernel_37495/4261761103.py\u001b[0m in \u001b[0;36mdownload_html\u001b[0;34m(browser, url, selector)\u001b[0m\n\u001b[1;32m      3\u001b[0m     \u001b[0mpage\u001b[0m \u001b[0;34m=\u001b[0m \u001b[0;32mawait\u001b[0m \u001b[0mbrowser\u001b[0m\u001b[0;34m.\u001b[0m\u001b[0mnewPage\u001b[0m\u001b[0;34m(\u001b[0m\u001b[0;34m)\u001b[0m\u001b[0;34m\u001b[0m\u001b[0;34m\u001b[0m\u001b[0m\n\u001b[1;32m      4\u001b[0m     \u001b[0;32mawait\u001b[0m \u001b[0mpage\u001b[0m\u001b[0;34m.\u001b[0m\u001b[0mgoto\u001b[0m\u001b[0;34m(\u001b[0m\u001b[0murl\u001b[0m\u001b[0;34m,\u001b[0m \u001b[0mwaitUntil\u001b[0m\u001b[0;34m=\u001b[0m\u001b[0;34m\"load\"\u001b[0m\u001b[0;34m)\u001b[0m\u001b[0;34m\u001b[0m\u001b[0;34m\u001b[0m\u001b[0m\n\u001b[0;32m----> 5\u001b[0;31m     \u001b[0mcontent\u001b[0m \u001b[0;34m=\u001b[0m \u001b[0;32mawait\u001b[0m \u001b[0mpage\u001b[0m\u001b[0;34m.\u001b[0m\u001b[0mquerySelector\u001b[0m\u001b[0;34m(\u001b[0m\u001b[0mselector\u001b[0m\u001b[0;34m)\u001b[0m\u001b[0;34m\u001b[0m\u001b[0;34m\u001b[0m\u001b[0m\n\u001b[0m\u001b[1;32m      6\u001b[0m \u001b[0;34m\u001b[0m\u001b[0m\n\u001b[1;32m      7\u001b[0m     \u001b[0mhtml\u001b[0m \u001b[0;34m=\u001b[0m \u001b[0;34m''\u001b[0m\u001b[0;34m\u001b[0m\u001b[0;34m\u001b[0m\u001b[0m\n",
      "\u001b[0;32m~/Desktop/4152hub/md-nlp/venv/lib/python3.9/site-packages/pyppeteer/page.py\u001b[0m in \u001b[0;36mquerySelector\u001b[0;34m(self, selector)\u001b[0m\n\u001b[1;32m    369\u001b[0m         \u001b[0;32mif\u001b[0m \u001b[0;32mnot\u001b[0m \u001b[0mframe\u001b[0m\u001b[0;34m:\u001b[0m\u001b[0;34m\u001b[0m\u001b[0;34m\u001b[0m\u001b[0m\n\u001b[1;32m    370\u001b[0m             \u001b[0;32mraise\u001b[0m \u001b[0mPageError\u001b[0m\u001b[0;34m(\u001b[0m\u001b[0;34m'no main frame.'\u001b[0m\u001b[0;34m)\u001b[0m\u001b[0;34m\u001b[0m\u001b[0;34m\u001b[0m\u001b[0m\n\u001b[0;32m--> 371\u001b[0;31m         \u001b[0;32mreturn\u001b[0m \u001b[0;32mawait\u001b[0m \u001b[0mframe\u001b[0m\u001b[0;34m.\u001b[0m\u001b[0mquerySelector\u001b[0m\u001b[0;34m(\u001b[0m\u001b[0mselector\u001b[0m\u001b[0;34m)\u001b[0m\u001b[0;34m\u001b[0m\u001b[0;34m\u001b[0m\u001b[0m\n\u001b[0m\u001b[1;32m    372\u001b[0m \u001b[0;34m\u001b[0m\u001b[0m\n\u001b[1;32m    373\u001b[0m     async def evaluateHandle(self, pageFunction: str, *args: Any\n",
      "\u001b[0;32m~/Desktop/4152hub/md-nlp/venv/lib/python3.9/site-packages/pyppeteer/frame_manager.py\u001b[0m in \u001b[0;36mquerySelector\u001b[0;34m(self, selector)\u001b[0m\n\u001b[1;32m    315\u001b[0m         \"\"\"\n\u001b[1;32m    316\u001b[0m         \u001b[0mdocument\u001b[0m \u001b[0;34m=\u001b[0m \u001b[0;32mawait\u001b[0m \u001b[0mself\u001b[0m\u001b[0;34m.\u001b[0m\u001b[0m_document\u001b[0m\u001b[0;34m(\u001b[0m\u001b[0;34m)\u001b[0m\u001b[0;34m\u001b[0m\u001b[0;34m\u001b[0m\u001b[0m\n\u001b[0;32m--> 317\u001b[0;31m         \u001b[0mvalue\u001b[0m \u001b[0;34m=\u001b[0m \u001b[0;32mawait\u001b[0m \u001b[0mdocument\u001b[0m\u001b[0;34m.\u001b[0m\u001b[0mquerySelector\u001b[0m\u001b[0;34m(\u001b[0m\u001b[0mselector\u001b[0m\u001b[0;34m)\u001b[0m\u001b[0;34m\u001b[0m\u001b[0;34m\u001b[0m\u001b[0m\n\u001b[0m\u001b[1;32m    318\u001b[0m         \u001b[0;32mreturn\u001b[0m \u001b[0mvalue\u001b[0m\u001b[0;34m\u001b[0m\u001b[0;34m\u001b[0m\u001b[0m\n\u001b[1;32m    319\u001b[0m \u001b[0;34m\u001b[0m\u001b[0m\n",
      "\u001b[0;32m~/Desktop/4152hub/md-nlp/venv/lib/python3.9/site-packages/pyppeteer/element_handle.py\u001b[0m in \u001b[0;36mquerySelector\u001b[0;34m(self, selector)\u001b[0m\n\u001b[1;32m    356\u001b[0m         \u001b[0mIf\u001b[0m \u001b[0mno\u001b[0m \u001b[0melement\u001b[0m \u001b[0mmatches\u001b[0m \u001b[0mthe\u001b[0m\u001b[0;31m \u001b[0m\u001b[0;31m`\u001b[0m\u001b[0;31m`\u001b[0m\u001b[0mselector\u001b[0m\u001b[0;31m`\u001b[0m\u001b[0;31m`\u001b[0m\u001b[0;34m,\u001b[0m \u001b[0mreturns\u001b[0m\u001b[0;31m \u001b[0m\u001b[0;31m`\u001b[0m\u001b[0;31m`\u001b[0m\u001b[0;32mNone\u001b[0m\u001b[0;31m`\u001b[0m\u001b[0;31m`\u001b[0m\u001b[0;34m.\u001b[0m\u001b[0;34m\u001b[0m\u001b[0;34m\u001b[0m\u001b[0m\n\u001b[1;32m    357\u001b[0m         \"\"\"\n\u001b[0;32m--> 358\u001b[0;31m         handle = await self.executionContext.evaluateHandle(\n\u001b[0m\u001b[1;32m    359\u001b[0m             \u001b[0;34m'(element, selector) => element.querySelector(selector)'\u001b[0m\u001b[0;34m,\u001b[0m\u001b[0;34m\u001b[0m\u001b[0;34m\u001b[0m\u001b[0m\n\u001b[1;32m    360\u001b[0m             \u001b[0mself\u001b[0m\u001b[0;34m,\u001b[0m \u001b[0mselector\u001b[0m\u001b[0;34m,\u001b[0m\u001b[0;34m\u001b[0m\u001b[0;34m\u001b[0m\u001b[0m\n",
      "\u001b[0;32m~/Desktop/4152hub/md-nlp/venv/lib/python3.9/site-packages/pyppeteer/execution_context.py\u001b[0m in \u001b[0;36mevaluateHandle\u001b[0;34m(self, pageFunction, force_expr, *args)\u001b[0m\n\u001b[1;32m    110\u001b[0m         \u001b[0mexceptionDetails\u001b[0m \u001b[0;34m=\u001b[0m \u001b[0m_obj\u001b[0m\u001b[0;34m.\u001b[0m\u001b[0mget\u001b[0m\u001b[0;34m(\u001b[0m\u001b[0;34m'exceptionDetails'\u001b[0m\u001b[0;34m)\u001b[0m\u001b[0;34m\u001b[0m\u001b[0;34m\u001b[0m\u001b[0m\n\u001b[1;32m    111\u001b[0m         \u001b[0;32mif\u001b[0m \u001b[0mexceptionDetails\u001b[0m\u001b[0;34m:\u001b[0m\u001b[0;34m\u001b[0m\u001b[0;34m\u001b[0m\u001b[0m\n\u001b[0;32m--> 112\u001b[0;31m             raise ElementHandleError('Evaluation failed: {}'.format(\n\u001b[0m\u001b[1;32m    113\u001b[0m                 helper.getExceptionMessage(exceptionDetails)))\n\u001b[1;32m    114\u001b[0m         \u001b[0mremoteObject\u001b[0m \u001b[0;34m=\u001b[0m \u001b[0m_obj\u001b[0m\u001b[0;34m.\u001b[0m\u001b[0mget\u001b[0m\u001b[0;34m(\u001b[0m\u001b[0;34m'result'\u001b[0m\u001b[0;34m)\u001b[0m\u001b[0;34m\u001b[0m\u001b[0;34m\u001b[0m\u001b[0m\n",
      "\u001b[0;31mElementHandleError\u001b[0m: Evaluation failed: DOMException: Failed to execute 'querySelector' on 'Document': '##skip > div:nth-child(1) > article > div:nth-child(6)' is not a valid selector.\n    at __pyppeteer_evaluation_script__:1:33"
     ]
    }
   ],
   "source": [
    "# type: ignore\n",
    "await (get_training_data_from_folder(\"../resources/sources\"))"
   ]
  },
  {
   "cell_type": "code",
   "execution_count": null,
   "id": "cdc07428",
   "metadata": {},
   "outputs": [],
   "source": []
  }
 ],
 "metadata": {
  "interpreter": {
   "hash": "a8b403e565ea1794a437a21eaf7a4df5fa78d6ee8c0957d183a6329de63bb757"
  },
  "kernelspec": {
   "display_name": "venv",
   "language": "python",
   "name": "python3"
  },
  "language_info": {
   "codemirror_mode": {
    "name": "ipython",
    "version": 3
   },
   "file_extension": ".py",
   "mimetype": "text/x-python",
   "name": "python",
   "nbconvert_exporter": "python",
   "pygments_lexer": "ipython3",
   "version": "3.9.9"
  }
 },
 "nbformat": 4,
 "nbformat_minor": 5
}
