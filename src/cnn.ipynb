{
 "cells": [
  {
   "cell_type": "code",
   "execution_count": 3,
   "id": "c5cc7c94",
   "metadata": {},
   "outputs": [],
   "source": [
    "#!/usr/bin/env python\n",
    "import asyncio\n",
    "import pyppeteer as ptr\n",
    "from typing import Optional\n",
    "import pandas as pd\n",
    "from glob import glob\n",
    "import nltk\n",
    "from nltk.corpus import stopwords\n",
    "import re\n",
    "from typing import Callable\n",
    "import csv"
   ]
  },
  {
   "cell_type": "code",
   "execution_count": 4,
   "id": "58ecbddb",
   "metadata": {},
   "outputs": [],
   "source": [
    "import ssl\n",
    "\n",
    "try:\n",
    "    _create_unverified_https_context = ssl._create_unverified_context\n",
    "except AttributeError:\n",
    "    pass\n",
    "else:\n",
    "    ssl._create_default_https_context = _create_unverified_https_context"
   ]
  },
  {
   "cell_type": "code",
   "execution_count": 5,
   "id": "77ef13d0",
   "metadata": {},
   "outputs": [
    {
     "name": "stderr",
     "output_type": "stream",
     "text": [
      "[nltk_data] Downloading package punkt to /home/urmzd/nltk_data...\n",
      "[nltk_data]   Package punkt is already up-to-date!\n",
      "[nltk_data] Downloading package averaged_perceptron_tagger to\n",
      "[nltk_data]     /home/urmzd/nltk_data...\n",
      "[nltk_data]   Package averaged_perceptron_tagger is already up-to-\n",
      "[nltk_data]       date!\n",
      "[nltk_data] Downloading package stopwords to /home/urmzd/nltk_data...\n",
      "[nltk_data]   Package stopwords is already up-to-date!\n"
     ]
    },
    {
     "data": {
      "text/plain": [
       "True"
      ]
     },
     "execution_count": 5,
     "metadata": {},
     "output_type": "execute_result"
    }
   ],
   "source": [
    "nltk.download('punkt')\n",
    "nltk.download('averaged_perceptron_tagger')\n",
    "nltk.download('stopwords')"
   ]
  },
  {
   "cell_type": "code",
   "execution_count": 6,
   "id": "2d338a95",
   "metadata": {},
   "outputs": [],
   "source": [
    "PosTag = tuple[str, str]\n",
    "PosTagList = list[PosTag]"
   ]
  },
  {
   "cell_type": "code",
   "execution_count": 10,
   "id": "38f3ffc2",
   "metadata": {},
   "outputs": [],
   "source": [
    "## Scraper.\n",
    "async def download_html(browser: ptr.browser.Browser, page: ptr.page.Page, url: str, selector: str) -> Optional[str]:\n",
    "    await page.goto(url, waitUntil=\"load\", timeout=0)\n",
    "    content = await page.querySelector(selector)\n",
    "\n",
    "    html = ''\n",
    "    if content:\n",
    "        html = await page.evaluate('(element) => element.textContent', content)\n",
    "        \n",
    "    return html\n",
    "\n",
    "def write_to_resource_target(file_path: str, content: PosTagList) -> None:\n",
    "    with open(file_path, \"w\") as file:\n",
    "        writer = csv.writer(file)\n",
    "        writer.writerow([\"value\", \"tag\"])\n",
    "        writer.writerows(content)\n",
    "\n",
    "\n",
    "async def get_training_data_from_folder(source_path: str, target_path: str, force=False) -> None:\n",
    "    browser = await ptr.launch(headless=True)\n",
    "    page = await browser.newPage()\n",
    "\n",
    "    source_files = glob(source_path + '/**/*.csv', recursive=True)\n",
    "    target_files = glob(target_path + \"/**/*.csv\", recursive=True)\n",
    "    target_file_names = [file_path.split(\"/\")[-1] for file_path in target_files]\n",
    "    \n",
    "    print(source_files, source_path, target_files, target_path, sep=\"\\n\")\n",
    "    words = dict()\n",
    "    \n",
    "    for file_path in source_files:\n",
    "        file_name = file_path.split(\"/\")[-1]\n",
    "        # ~ A ^ ~ B\n",
    "        print(file_name, target_file_names)\n",
    "        print(file_name in target_file_names)\n",
    "        if not (file_name in target_file_names or force):\n",
    "            result = await get_training_data(browser, page, file_path)\n",
    "            write_to_resource_target(f\"{target_path}/{file_name}\", result)\n",
    "            words[file_name] = result\n",
    "        \n",
    "                \n",
    "    await browser.close()\n",
    "\n",
    "async def get_training_data(browser: ptr.browser.Browser, page: ptr.page.Page, file_path: str) -> PosTagList:\n",
    "    df = pd.read_csv(file_path)\n",
    "    df.rename(columns=lambda x: x.strip(), inplace=True)\n",
    "\n",
    "    words = []\n",
    "    if isinstance(df, pd.DataFrame):\n",
    "        for _, row in df.iterrows():\n",
    "            print(row)\n",
    "            result = await download_html(browser, page, row[\"link\"], row[\"selector\"])\n",
    "            words.extend(clean_up_words(tokenize(result)))\n",
    "    \n",
    "    return words"
   ]
  },
  {
   "cell_type": "code",
   "execution_count": 11,
   "id": "a685f5d7",
   "metadata": {},
   "outputs": [],
   "source": [
    "## Cleaners.\n",
    "def tokenize(data: str):\n",
    "    tokenized_words = nltk.word_tokenize(data)\n",
    "    tagged_words = nltk.pos_tag(tokenized_words)\n",
    "    return tagged_words\n",
    "\n",
    "def filter_words(x: PosTag, fns: list[Callable[[PosTag], bool]], keep=True) -> bool:\n",
    "    if not keep:\n",
    "        return False\n",
    "    \n",
    "    if fns:\n",
    "        return filter_words(x, fns[1:], keep=fns[0](x))\n",
    "    \n",
    "    return True\n",
    "    \n",
    "def filter_by_duplicate(x: tuple[str, str]) -> bool:\n",
    "    return x[0] != x[1]\n",
    "\n",
    "def filter_by_stop_word(x: tuple[str, str]) -> bool:\n",
    "    return x[0] not in stopwords.words(\"english\")\n",
    "\n",
    "def filter_by_alphabet(x: tuple[str, str]) -> bool:\n",
    "    regex = re.compile(\"^([a-zA-Z]|')+$\")\n",
    "    return regex.match(x[0])\n",
    "            \n",
    "def clean_up_words(words: PosTagList) -> PosTagList:\n",
    "    return list(filter(\n",
    "        lambda x: filter_words(x, [filter_by_duplicate, filter_by_stop_word, filter_by_alphabet]),\n",
    "        words\n",
    "        )\n",
    "    )"
   ]
  },
  {
   "cell_type": "code",
   "execution_count": 12,
   "id": "1e865ee0",
   "metadata": {},
   "outputs": [
    {
     "name": "stdout",
     "output_type": "stream",
     "text": [
      "['../resources/sources/depression.csv', '../resources/sources/migraine.csv', '../resources/sources/tetanus.csv']\n",
      "../resources/sources\n",
      "['../resources/targets/headache.csv', '../resources/targets/depression.csv']\n",
      "../resources/targets\n",
      "depression.csv ['headache.csv', 'depression.csv']\n",
      "True\n",
      "migraine.csv ['headache.csv', 'depression.csv']\n",
      "False\n",
      "selector                                           #topicText\n",
      "link        https://www.uptodate.com/contents/acute-treatm...\n",
      "Name: 0, dtype: object\n",
      "selector                                        #main-content\n",
      "link        https://www.mayoclinic.org/diseases-conditions...\n",
      "Name: 1, dtype: object\n",
      "selector                          #mw-content-text\n",
      "link        http://en.wikipedia.org/wiki/Migraines\n",
      "Name: 2, dtype: object\n",
      "selector                 #maincontent > article > div > div\n",
      "link        https://www.nhs.uk/conditions/migraine/symptoms\n",
      "Name: 3, dtype: object\n",
      "selector    #__next > div.css-fdjy12 > div.css-stl7tm > di...\n",
      "link        https://www.healthline.com/health/migraine-sym...\n",
      "Name: 4, dtype: object\n",
      "selector    #__next > div.css-fdjy12 > div.css-stl7tm > di...\n",
      "link        https://www.medicalnewstoday.com/articles/1483...\n",
      "Name: 5, dtype: object\n",
      "selector    #skip > div:nth-child(1) > article > div:nth-c...\n",
      "link        https://www.hopkinsmedicine.org/health/conditi...\n",
      "Name: 6, dtype: object\n",
      "selector    #body > main > article > div.article-template_...\n",
      "link           https://www.everydayhealth.com/migraine/guide/\n",
      "Name: 7, dtype: object\n",
      "selector                                         #article_1-0\n",
      "link        https://www.verywellhealth.com/symptoms-of-mig...\n",
      "Name: 8, dtype: object\n",
      "tetanus.csv ['headache.csv', 'depression.csv']\n",
      "False\n",
      "selector                                           #topicText\n",
      "link        https://www.uptodate.com/contents/tetanus-the-...\n",
      "Name: 0, dtype: object\n",
      "selector                                        #main-content\n",
      "link         https://www.mayoclinic.org/diseases-condition...\n",
      "Name: 1, dtype: object\n",
      "selector                         #mw-content-text\n",
      "link        https://en.wikipedia.org/wiki/Tetanus\n",
      "Name: 2, dtype: object\n",
      "selector        #maincontent > article > div > div\n",
      "link        https://www.nhs.uk/conditions/tetanus/\n",
      "Name: 3, dtype: object\n",
      "selector    body > div.container.d-flex.flex-wrap.body-wra...\n",
      "link        https://www.cdc.gov/tetanus/about/symptoms-com...\n",
      "Name: 4, dtype: object\n",
      "selector    #__next > div.css-fdjy12 > div:nth-child(5) > ...\n",
      "link         https://www.healthline.com/health/tetanus#causes\n",
      "Name: 5, dtype: object\n",
      "selector    #__next > div.css-fdjy12 > div:nth-child(5) > ...\n",
      "link         https://www.medicalnewstoday.com/articles/163063\n",
      "Name: 6, dtype: object\n",
      "selector                   #skip > div:nth-child(1) > article\n",
      "link        https://www.hopkinsmedicine.org/health/conditi...\n",
      "Name: 7, dtype: object\n",
      "selector    body > div:nth-child(6) > div > div.main-conte...\n",
      "link        https://www.childrenshospital.org/conditions-a...\n",
      "Name: 8, dtype: object\n",
      "selector    body > main > article > div.article-template__...\n",
      "link            https://www.everydayhealth.com/tetanus/guide/\n",
      "Name: 9, dtype: object\n"
     ]
    }
   ],
   "source": [
    "# type: ignore\n",
    "await (get_training_data_from_folder(\"../resources/sources\", \"../resources/targets\"))"
   ]
  },
  {
   "cell_type": "code",
   "execution_count": null,
   "id": "86d04a53",
   "metadata": {},
   "outputs": [],
   "source": []
  }
 ],
 "metadata": {
  "interpreter": {
   "hash": "a8b403e565ea1794a437a21eaf7a4df5fa78d6ee8c0957d183a6329de63bb757"
  },
  "kernelspec": {
   "display_name": "mdnlp",
   "language": "python",
   "name": "mdnlp"
  },
  "language_info": {
   "codemirror_mode": {
    "name": "ipython",
    "version": 3
   },
   "file_extension": ".py",
   "mimetype": "text/x-python",
   "name": "python",
   "nbconvert_exporter": "python",
   "pygments_lexer": "ipython3",
   "version": "3.9.9"
  }
 },
 "nbformat": 4,
 "nbformat_minor": 5
}
