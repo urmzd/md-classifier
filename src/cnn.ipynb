{
  "nbformat": 4,
  "nbformat_minor": 5,
  "metadata": {
    "interpreter": {
      "hash": "a8b403e565ea1794a437a21eaf7a4df5fa78d6ee8c0957d183a6329de63bb757"
    },
    "kernelspec": {
      "name": "python3",
      "display_name": "Python 3"
    },
    "colab": {
      "name": "GH cnn.ipynb",
      "provenance": [],
      "collapsed_sections": [],
      "machine_shape": "hm",
      "include_colab_link": true
    },
    "language_info": {
      "name": "python"
    },
    "accelerator": "TPU"
  },
  "cells": [
    {
      "cell_type": "markdown",
      "metadata": {
        "id": "view-in-github",
        "colab_type": "text"
      },
      "source": [
        "<a href=\"https://colab.research.google.com/github/urmzd/md-nlp/blob/main/src/cnn.ipynb\" target=\"_parent\"><img src=\"https://colab.research.google.com/assets/colab-badge.svg\" alt=\"Open In Colab\"/></a>"
      ]
    },
    {
      "cell_type": "code",
      "metadata": {
        "colab": {
          "base_uri": "https://localhost:8080/"
        },
        "id": "NEPWrGDXjCRA",
        "outputId": "375cb3ad-6844-4ac0-dd8d-9eee23fb3d75"
      },
      "source": [
        "!pip install pyppeteer\n",
        "!pip install ipython ipykernel --upgrade"
      ],
      "id": "NEPWrGDXjCRA",
      "execution_count": null,
      "outputs": [
        {
          "output_type": "stream",
          "name": "stdout",
          "text": [
            "Requirement already satisfied: pyppeteer in /usr/local/lib/python3.7/dist-packages (0.2.6)\n",
            "Requirement already satisfied: importlib-metadata>=1.4 in /usr/local/lib/python3.7/dist-packages (from pyppeteer) (4.8.2)\n",
            "Requirement already satisfied: appdirs<2.0.0,>=1.4.3 in /usr/local/lib/python3.7/dist-packages (from pyppeteer) (1.4.4)\n",
            "Requirement already satisfied: tqdm<5.0.0,>=4.42.1 in /usr/local/lib/python3.7/dist-packages (from pyppeteer) (4.62.3)\n",
            "Requirement already satisfied: websockets<10.0,>=9.1 in /usr/local/lib/python3.7/dist-packages (from pyppeteer) (9.1)\n",
            "Requirement already satisfied: urllib3<2.0.0,>=1.25.8 in /usr/local/lib/python3.7/dist-packages (from pyppeteer) (1.26.7)\n",
            "Requirement already satisfied: pyee<9.0.0,>=8.1.0 in /usr/local/lib/python3.7/dist-packages (from pyppeteer) (8.2.2)\n",
            "Requirement already satisfied: zipp>=0.5 in /usr/local/lib/python3.7/dist-packages (from importlib-metadata>=1.4->pyppeteer) (3.6.0)\n",
            "Requirement already satisfied: typing-extensions>=3.6.4 in /usr/local/lib/python3.7/dist-packages (from importlib-metadata>=1.4->pyppeteer) (3.10.0.2)\n",
            "Requirement already satisfied: ipython in /usr/local/lib/python3.7/dist-packages (7.30.1)\n",
            "Requirement already satisfied: ipykernel in /usr/local/lib/python3.7/dist-packages (6.6.0)\n",
            "Requirement already satisfied: matplotlib-inline in /usr/local/lib/python3.7/dist-packages (from ipython) (0.1.3)\n",
            "Requirement already satisfied: setuptools>=18.5 in /usr/local/lib/python3.7/dist-packages (from ipython) (57.4.0)\n",
            "Requirement already satisfied: jedi>=0.16 in /usr/local/lib/python3.7/dist-packages (from ipython) (0.18.1)\n",
            "Requirement already satisfied: prompt-toolkit!=3.0.0,!=3.0.1,<3.1.0,>=2.0.0 in /usr/local/lib/python3.7/dist-packages (from ipython) (3.0.23)\n",
            "Requirement already satisfied: pexpect>4.3 in /usr/local/lib/python3.7/dist-packages (from ipython) (4.8.0)\n",
            "Requirement already satisfied: decorator in /usr/local/lib/python3.7/dist-packages (from ipython) (4.4.2)\n",
            "Requirement already satisfied: traitlets>=4.2 in /usr/local/lib/python3.7/dist-packages (from ipython) (5.1.1)\n",
            "Requirement already satisfied: pickleshare in /usr/local/lib/python3.7/dist-packages (from ipython) (0.7.5)\n",
            "Requirement already satisfied: pygments in /usr/local/lib/python3.7/dist-packages (from ipython) (2.6.1)\n",
            "Requirement already satisfied: backcall in /usr/local/lib/python3.7/dist-packages (from ipython) (0.2.0)\n",
            "Requirement already satisfied: parso<0.9.0,>=0.8.0 in /usr/local/lib/python3.7/dist-packages (from jedi>=0.16->ipython) (0.8.2)\n",
            "Requirement already satisfied: ptyprocess>=0.5 in /usr/local/lib/python3.7/dist-packages (from pexpect>4.3->ipython) (0.7.0)\n",
            "Requirement already satisfied: wcwidth in /usr/local/lib/python3.7/dist-packages (from prompt-toolkit!=3.0.0,!=3.0.1,<3.1.0,>=2.0.0->ipython) (0.2.5)\n",
            "Requirement already satisfied: argcomplete>=1.12.3 in /usr/local/lib/python3.7/dist-packages (from ipykernel) (1.12.3)\n",
            "Requirement already satisfied: importlib-metadata<5 in /usr/local/lib/python3.7/dist-packages (from ipykernel) (4.8.2)\n",
            "Requirement already satisfied: debugpy<2.0,>=1.0.0 in /usr/local/lib/python3.7/dist-packages (from ipykernel) (1.0.0)\n",
            "Requirement already satisfied: tornado<7.0,>=4.2 in /usr/local/lib/python3.7/dist-packages (from ipykernel) (5.1.1)\n",
            "Requirement already satisfied: jupyter-client<8.0 in /usr/local/lib/python3.7/dist-packages (from ipykernel) (5.3.5)\n",
            "Requirement already satisfied: typing-extensions>=3.6.4 in /usr/local/lib/python3.7/dist-packages (from importlib-metadata<5->ipykernel) (3.10.0.2)\n",
            "Requirement already satisfied: zipp>=0.5 in /usr/local/lib/python3.7/dist-packages (from importlib-metadata<5->ipykernel) (3.6.0)\n",
            "Requirement already satisfied: python-dateutil>=2.1 in /usr/local/lib/python3.7/dist-packages (from jupyter-client<8.0->ipykernel) (2.8.2)\n",
            "Requirement already satisfied: pyzmq>=13 in /usr/local/lib/python3.7/dist-packages (from jupyter-client<8.0->ipykernel) (22.3.0)\n",
            "Requirement already satisfied: jupyter-core>=4.6.0 in /usr/local/lib/python3.7/dist-packages (from jupyter-client<8.0->ipykernel) (4.9.1)\n",
            "Requirement already satisfied: six>=1.5 in /usr/local/lib/python3.7/dist-packages (from python-dateutil>=2.1->jupyter-client<8.0->ipykernel) (1.15.0)\n"
          ]
        }
      ]
    },
    {
      "cell_type": "code",
      "metadata": {
        "id": "LUXMwCCEkh88",
        "colab": {
          "base_uri": "https://localhost:8080/"
        },
        "outputId": "ce8a3d19-2fb3-4126-9c26-54dd4bd8bacb"
      },
      "source": [
        "!apt-get update \n",
        "!apt-get install chromium-chromedriver\n",
        "!cp /usr/lib/chromium-browser/chromedriver /usr/bin\n",
        "!dpkg -L chromium-chromedriver"
      ],
      "id": "LUXMwCCEkh88",
      "execution_count": null,
      "outputs": [
        {
          "output_type": "stream",
          "name": "stdout",
          "text": [
            "\r0% [Working]\r            \rHit:1 https://cloud.r-project.org/bin/linux/ubuntu bionic-cran40/ InRelease\n",
            "\r0% [Connecting to archive.ubuntu.com (91.189.88.142)] [Connecting to security.u\r0% [1 InRelease gpgv 3,626 B] [Connecting to archive.ubuntu.com (91.189.88.142)\r                                                                               \rIgn:2 https://developer.download.nvidia.com/compute/cuda/repos/ubuntu1804/x86_64  InRelease\n",
            "Hit:3 http://ppa.launchpad.net/c2d4u.team/c2d4u4.0+/ubuntu bionic InRelease\n",
            "Ign:4 https://developer.download.nvidia.com/compute/machine-learning/repos/ubuntu1804/x86_64  InRelease\n",
            "Hit:5 https://developer.download.nvidia.com/compute/cuda/repos/ubuntu1804/x86_64  Release\n",
            "Hit:6 https://developer.download.nvidia.com/compute/machine-learning/repos/ubuntu1804/x86_64  Release\n",
            "Hit:7 http://security.ubuntu.com/ubuntu bionic-security InRelease\n",
            "Hit:8 http://archive.ubuntu.com/ubuntu bionic InRelease\n",
            "Hit:9 http://archive.ubuntu.com/ubuntu bionic-updates InRelease\n",
            "Hit:10 http://ppa.launchpad.net/cran/libgit2/ubuntu bionic InRelease\n",
            "Hit:11 http://archive.ubuntu.com/ubuntu bionic-backports InRelease\n",
            "Hit:12 http://ppa.launchpad.net/deadsnakes/ppa/ubuntu bionic InRelease\n",
            "Hit:14 http://ppa.launchpad.net/graphics-drivers/ppa/ubuntu bionic InRelease\n",
            "Reading package lists... Done\n",
            "Reading package lists... Done\n",
            "Building dependency tree       \n",
            "Reading state information... Done\n",
            "chromium-chromedriver is already the newest version (95.0.4638.69-0ubuntu0.18.04.1).\n",
            "0 upgraded, 0 newly installed, 0 to remove and 43 not upgraded.\n",
            "cp: '/usr/lib/chromium-browser/chromedriver' and '/usr/bin/chromedriver' are the same file\n",
            "/.\n",
            "/usr\n",
            "/usr/bin\n",
            "/usr/bin/chromedriver\n",
            "/usr/lib\n",
            "/usr/lib/chromium-browser\n",
            "/usr/share\n",
            "/usr/share/doc\n",
            "/usr/share/doc/chromium-chromedriver\n",
            "/usr/share/doc/chromium-chromedriver/copyright\n",
            "/usr/lib/chromium-browser/chromedriver\n",
            "/usr/share/doc/chromium-chromedriver/changelog.Debian.gz\n"
          ]
        }
      ]
    },
    {
      "cell_type": "code",
      "metadata": {
        "id": "522f7eba",
        "colab": {
          "base_uri": "https://localhost:8080/"
        },
        "outputId": "ae997253-7db6-4ec9-ce8f-2b943e160652"
      },
      "source": [
        "import random\n",
        "from numpy import random as nprd\n",
        "import tensorflow as tf\n",
        "tf.random.set_seed(42)\n",
        "random.seed(42)\n",
        "nprd.seed(42)"
      ],
      "id": "522f7eba",
      "execution_count": null,
      "outputs": [
        {
          "output_type": "stream",
          "name": "stderr",
          "text": [
            "/usr/local/lib/python3.7/dist-packages/requests/__init__.py:91: RequestsDependencyWarning: urllib3 (1.26.7) or chardet (3.0.4) doesn't match a supported version!\n",
            "  RequestsDependencyWarning)\n"
          ]
        }
      ]
    },
    {
      "cell_type": "code",
      "metadata": {
        "id": "97b57234",
        "colab": {
          "base_uri": "https://localhost:8080/"
        },
        "outputId": "40de4134-df71-48b4-ba16-fd01cfb70312"
      },
      "source": [
        "import asyncio\n",
        "import re\n",
        "import csv\n",
        "import pyppeteer as ptr\n",
        "import pandas as pd\n",
        "!pip install nltk -U\n",
        "import nltk\n",
        "from typing import Optional, TypeVar\n",
        "from typing import Callable\n",
        "from glob import glob\n",
        "from nltk.corpus import stopwords\n",
        "from nltk.stem import PorterStemmer\n",
        "from sklearn.model_selection import train_test_split"
      ],
      "id": "97b57234",
      "execution_count": null,
      "outputs": [
        {
          "output_type": "stream",
          "name": "stdout",
          "text": [
            "Requirement already satisfied: nltk in /usr/local/lib/python3.7/dist-packages (3.2.5)\n",
            "Collecting nltk\n",
            "  Downloading nltk-3.6.5-py3-none-any.whl (1.5 MB)\n",
            "\u001b[K     |████████████████████████████████| 1.5 MB 5.4 MB/s \n",
            "\u001b[?25hRequirement already satisfied: tqdm in /usr/local/lib/python3.7/dist-packages (from nltk) (4.62.3)\n",
            "Collecting regex>=2021.8.3\n",
            "  Downloading regex-2021.11.10-cp37-cp37m-manylinux_2_17_x86_64.manylinux2014_x86_64.whl (749 kB)\n",
            "\u001b[K     |████████████████████████████████| 749 kB 68.4 MB/s \n",
            "\u001b[?25hRequirement already satisfied: click in /usr/local/lib/python3.7/dist-packages (from nltk) (7.1.2)\n",
            "Requirement already satisfied: joblib in /usr/local/lib/python3.7/dist-packages (from nltk) (1.1.0)\n",
            "Installing collected packages: regex, nltk\n",
            "  Attempting uninstall: regex\n",
            "    Found existing installation: regex 2019.12.20\n",
            "    Uninstalling regex-2019.12.20:\n",
            "      Successfully uninstalled regex-2019.12.20\n",
            "  Attempting uninstall: nltk\n",
            "    Found existing installation: nltk 3.2.5\n",
            "    Uninstalling nltk-3.2.5:\n",
            "      Successfully uninstalled nltk-3.2.5\n",
            "Successfully installed nltk-3.6.5 regex-2021.11.10\n"
          ]
        }
      ]
    },
    {
      "cell_type": "code",
      "metadata": {
        "id": "9dbc4943"
      },
      "source": [
        "import warnings\n",
        "warnings.filterwarnings('ignore')"
      ],
      "id": "9dbc4943",
      "execution_count": null,
      "outputs": []
    },
    {
      "cell_type": "code",
      "metadata": {
        "id": "58ecbddb"
      },
      "source": [
        "import ssl\n",
        "\n",
        "try:\n",
        "    _create_unverified_https_context = ssl._create_unverified_context\n",
        "except AttributeError:\n",
        "    pass\n",
        "else:\n",
        "    ssl._create_default_https_context = _create_unverified_https_context"
      ],
      "id": "58ecbddb",
      "execution_count": null,
      "outputs": []
    },
    {
      "cell_type": "code",
      "metadata": {
        "scrolled": true,
        "id": "77ef13d0",
        "colab": {
          "base_uri": "https://localhost:8080/"
        },
        "outputId": "7d1a4fc2-171a-4d76-aa64-2c5f8f9feb2f"
      },
      "source": [
        "nltk.download('punkt')\n",
        "nltk.download('averaged_perceptron_tagger')\n",
        "nltk.download('stopwords')"
      ],
      "id": "77ef13d0",
      "execution_count": null,
      "outputs": [
        {
          "output_type": "stream",
          "name": "stderr",
          "text": [
            "[nltk_data] Downloading package punkt to /root/nltk_data...\n",
            "[nltk_data]   Unzipping tokenizers/punkt.zip.\n",
            "[nltk_data] Downloading package averaged_perceptron_tagger to\n",
            "[nltk_data]     /root/nltk_data...\n",
            "[nltk_data]   Unzipping taggers/averaged_perceptron_tagger.zip.\n",
            "[nltk_data] Downloading package stopwords to /root/nltk_data...\n",
            "[nltk_data]   Unzipping corpora/stopwords.zip.\n"
          ]
        },
        {
          "output_type": "execute_result",
          "data": {
            "text/plain": [
              "True"
            ]
          },
          "metadata": {},
          "execution_count": 9
        }
      ]
    },
    {
      "cell_type": "code",
      "metadata": {
        "id": "0euSJ137gsvA",
        "colab": {
          "base_uri": "https://localhost:8080/"
        },
        "outputId": "8f0aeedf-bf3c-48ee-8b91-b35accf12bb3"
      },
      "source": [
        "from google.colab import drive\n",
        "drive.mount('/content/drive')"
      ],
      "id": "0euSJ137gsvA",
      "execution_count": null,
      "outputs": [
        {
          "output_type": "stream",
          "name": "stdout",
          "text": [
            "Mounted at /content/drive\n"
          ]
        }
      ]
    },
    {
      "cell_type": "code",
      "metadata": {
        "id": "lOAO3IpIEfTY",
        "colab": {
          "base_uri": "https://localhost:8080/"
        },
        "outputId": "6961da14-fa96-4da3-dbb1-1b761079e896"
      },
      "source": [
        "!pip show gensim\n",
        "!pip install -U gensim"
      ],
      "id": "lOAO3IpIEfTY",
      "execution_count": null,
      "outputs": [
        {
          "output_type": "stream",
          "name": "stdout",
          "text": [
            "Name: gensim\n",
            "Version: 3.6.0\n",
            "Summary: Python framework for fast Vector Space Modelling\n",
            "Home-page: http://radimrehurek.com/gensim\n",
            "Author: Radim Rehurek\n",
            "Author-email: me@radimrehurek.com\n",
            "License: LGPLv2.1\n",
            "Location: /usr/local/lib/python3.7/dist-packages\n",
            "Requires: numpy, six, smart-open, scipy\n",
            "Required-by: \n",
            "Requirement already satisfied: gensim in /usr/local/lib/python3.7/dist-packages (3.6.0)\n",
            "Collecting gensim\n",
            "  Downloading gensim-4.1.2-cp37-cp37m-manylinux_2_12_x86_64.manylinux2010_x86_64.whl (24.1 MB)\n",
            "\u001b[K     |████████████████████████████████| 24.1 MB 1.3 MB/s \n",
            "\u001b[?25hRequirement already satisfied: scipy>=0.18.1 in /usr/local/lib/python3.7/dist-packages (from gensim) (1.4.1)\n",
            "Requirement already satisfied: numpy>=1.17.0 in /usr/local/lib/python3.7/dist-packages (from gensim) (1.19.5)\n",
            "Requirement already satisfied: smart-open>=1.8.1 in /usr/local/lib/python3.7/dist-packages (from gensim) (5.2.1)\n",
            "Installing collected packages: gensim\n",
            "  Attempting uninstall: gensim\n",
            "    Found existing installation: gensim 3.6.0\n",
            "    Uninstalling gensim-3.6.0:\n",
            "      Successfully uninstalled gensim-3.6.0\n",
            "Successfully installed gensim-4.1.2\n"
          ]
        }
      ]
    },
    {
      "cell_type": "code",
      "metadata": {
        "id": "UOuOyAMmhX9X"
      },
      "source": [
        "resource_path = \"/content/drive/MyDrive/resources/\"\n",
        "\n",
        "data_path = resource_path + \"data/\"\n",
        "data_source_path = data_path + \"sources/\"\n",
        "data_target_path = data_path + \"targets/\"\n",
        "\n",
        "corpus_name = \"corpus\""
      ],
      "id": "UOuOyAMmhX9X",
      "execution_count": null,
      "outputs": []
    },
    {
      "cell_type": "code",
      "metadata": {
        "id": "_FLPX8f4F5HU"
      },
      "source": [
        "global_config = {\n",
        "    \"word_limit\": 56,\n",
        "    \"test_size\": 0.3\n",
        "}"
      ],
      "id": "_FLPX8f4F5HU",
      "execution_count": null,
      "outputs": []
    },
    {
      "cell_type": "code",
      "metadata": {
        "id": "79d0fcad"
      },
      "source": [
        "from typing import Tuple\n",
        "def get_name_and_extension(file_path: str) -> Tuple[str, str]:\n",
        "    regex = re.compile(r\"(.*)/(.*)\\.(.*)\")\n",
        "    return regex.match(file_path).group(2,3)"
      ],
      "id": "79d0fcad",
      "execution_count": null,
      "outputs": []
    },
    {
      "cell_type": "code",
      "metadata": {
        "id": "cXtjX9V4sW2Q",
        "colab": {
          "base_uri": "https://localhost:8080/"
        },
        "outputId": "0af8fc28-87bb-41a1-e8d0-10dd26904d9d"
      },
      "source": [
        "!curl -sSL https://dl.google.com/linux/linux_signing_key.pub | apt-key add -\n",
        "!echo \"deb [arch=amd64] https://dl.google.com/linux/chrome/deb/ stable main\" > /etc/apt/sources.list.d/google-chrome.list\n",
        "!apt update -y && apt install -y google-chrome-stable"
      ],
      "id": "cXtjX9V4sW2Q",
      "execution_count": null,
      "outputs": [
        {
          "output_type": "stream",
          "name": "stdout",
          "text": [
            "OK\n",
            "Hit:1 https://cloud.r-project.org/bin/linux/ubuntu bionic-cran40/ InRelease\n",
            "Get:2 https://dl.google.com/linux/chrome/deb stable InRelease [1,811 B]\n",
            "Ign:3 https://developer.download.nvidia.com/compute/cuda/repos/ubuntu1804/x86_64  InRelease\n",
            "Hit:4 http://security.ubuntu.com/ubuntu bionic-security InRelease\n",
            "Ign:5 https://developer.download.nvidia.com/compute/machine-learning/repos/ubuntu1804/x86_64  InRelease\n",
            "Hit:6 http://ppa.launchpad.net/c2d4u.team/c2d4u4.0+/ubuntu bionic InRelease\n",
            "Hit:7 https://developer.download.nvidia.com/compute/cuda/repos/ubuntu1804/x86_64  Release\n",
            "Hit:8 https://developer.download.nvidia.com/compute/machine-learning/repos/ubuntu1804/x86_64  Release\n",
            "Hit:9 http://archive.ubuntu.com/ubuntu bionic InRelease\n",
            "Hit:10 http://archive.ubuntu.com/ubuntu bionic-updates InRelease\n",
            "Hit:11 http://ppa.launchpad.net/cran/libgit2/ubuntu bionic InRelease\n",
            "Hit:12 http://archive.ubuntu.com/ubuntu bionic-backports InRelease\n",
            "Get:13 https://dl.google.com/linux/chrome/deb stable/main amd64 Packages [1,090 B]\n",
            "Hit:14 http://ppa.launchpad.net/deadsnakes/ppa/ubuntu bionic InRelease\n",
            "Hit:15 http://ppa.launchpad.net/graphics-drivers/ppa/ubuntu bionic InRelease\n",
            "Fetched 2,901 B in 2s (1,182 B/s)\n",
            "Reading package lists... Done\n",
            "Building dependency tree       \n",
            "Reading state information... Done\n",
            "43 packages can be upgraded. Run 'apt list --upgradable' to see them.\n",
            "Reading package lists... Done\n",
            "Building dependency tree       \n",
            "Reading state information... Done\n",
            "The following additional packages will be installed:\n",
            "  libu2f-udev libvulkan1 mesa-vulkan-drivers\n",
            "The following NEW packages will be installed:\n",
            "  google-chrome-stable libu2f-udev libvulkan1 mesa-vulkan-drivers\n",
            "0 upgraded, 4 newly installed, 0 to remove and 43 not upgraded.\n",
            "Need to get 93.9 MB of archives.\n",
            "After this operation, 304 MB of additional disk space will be used.\n",
            "Get:1 https://dl.google.com/linux/chrome/deb stable/main amd64 google-chrome-stable amd64 96.0.4664.45-1 [90.8 MB]\n",
            "Get:2 http://ppa.launchpad.net/graphics-drivers/ppa/ubuntu bionic/main amd64 libvulkan1 amd64 1.1.126.0-2~gpu18.04.1 [101 kB]\n",
            "Get:3 http://archive.ubuntu.com/ubuntu bionic-updates/main amd64 libu2f-udev all 1.1.4-1ubuntu0.1 [3,884 B]\n",
            "Get:4 http://archive.ubuntu.com/ubuntu bionic-updates/universe amd64 mesa-vulkan-drivers amd64 20.0.8-0ubuntu1~18.04.1 [3,059 kB]\n",
            "Fetched 93.9 MB in 2s (62.6 MB/s)\n",
            "Selecting previously unselected package google-chrome-stable.\n",
            "(Reading database ... 155589 files and directories currently installed.)\n",
            "Preparing to unpack .../google-chrome-stable_96.0.4664.45-1_amd64.deb ...\n",
            "Unpacking google-chrome-stable (96.0.4664.45-1) ...\n",
            "Selecting previously unselected package libu2f-udev.\n",
            "Preparing to unpack .../libu2f-udev_1.1.4-1ubuntu0.1_all.deb ...\n",
            "Unpacking libu2f-udev (1.1.4-1ubuntu0.1) ...\n",
            "Selecting previously unselected package libvulkan1:amd64.\n",
            "Preparing to unpack .../libvulkan1_1.1.126.0-2~gpu18.04.1_amd64.deb ...\n",
            "Unpacking libvulkan1:amd64 (1.1.126.0-2~gpu18.04.1) ...\n",
            "Selecting previously unselected package mesa-vulkan-drivers:amd64.\n",
            "Preparing to unpack .../mesa-vulkan-drivers_20.0.8-0ubuntu1~18.04.1_amd64.deb ...\n",
            "Unpacking mesa-vulkan-drivers:amd64 (20.0.8-0ubuntu1~18.04.1) ...\n",
            "Setting up libvulkan1:amd64 (1.1.126.0-2~gpu18.04.1) ...\n",
            "Setting up mesa-vulkan-drivers:amd64 (20.0.8-0ubuntu1~18.04.1) ...\n",
            "Setting up libu2f-udev (1.1.4-1ubuntu0.1) ...\n",
            "Setting up google-chrome-stable (96.0.4664.45-1) ...\n",
            "update-alternatives: using /usr/bin/google-chrome-stable to provide /usr/bin/x-www-browser (x-www-browser) in auto mode\n",
            "update-alternatives: using /usr/bin/google-chrome-stable to provide /usr/bin/gnome-www-browser (gnome-www-browser) in auto mode\n",
            "update-alternatives: using /usr/bin/google-chrome-stable to provide /usr/bin/google-chrome (google-chrome) in auto mode\n",
            "Processing triggers for libc-bin (2.27-3ubuntu1.3) ...\n",
            "/sbin/ldconfig.real: /usr/local/lib/python3.7/dist-packages/ideep4py/lib/libmkldnn.so.0 is not a symbolic link\n",
            "\n",
            "Processing triggers for man-db (2.8.3-2ubuntu0.1) ...\n",
            "Processing triggers for mime-support (3.60ubuntu1) ...\n"
          ]
        }
      ]
    },
    {
      "cell_type": "code",
      "metadata": {
        "id": "38f3ffc2"
      },
      "source": [
        "# scraper.py\n",
        "from pyppeteer import launch, browser\n",
        "from typing import Union, List, Callable, Tuple, TypeVar\n",
        "from nltk import tokenize,data\n",
        "from glob import glob\n",
        "import csv\n",
        "import re\n",
        "import pickle\n",
        "\n",
        "# Declare Types.\n",
        "Url = str\n",
        "Selector = str\n",
        "Html = str\n",
        "\n",
        "ProcessedText = List[str]\n",
        "Processor = TypeVar('Processor', Callable[[Html], ProcessedText], None)\n",
        "\n",
        "def tokenize_by_sentence(html: str) -> ProcessedText:\n",
        "  sent_detector = data.load('tokenizers/punkt/english.pickle')\n",
        "  return sent_detector.tokenize(html)\n",
        "\n",
        "def replace_all_new_lines(texts: ProcessedText) -> ProcessedText:\n",
        "  return [re.sub('\\n', ' ', text) for text in texts]\n",
        "\n",
        "def pipeline(*transformers):\n",
        "  fns = [*transformers]\n",
        "  def pipeline_inner(input, fns=transformers):\n",
        "    head, *tail = fns\n",
        "    new_input = head(input)\n",
        "    if tail:\n",
        "      return pipeline_inner(new_input, tail)\n",
        "\n",
        "    return new_input\n",
        "  \n",
        "  return pipeline_inner\n",
        "\n",
        "def write_to_resource_target(target_path: str, file_name: str, content: ProcessedText, extension=\".txt\", mode=\"a\") -> None:\n",
        "    with open(f\"{target_path}{file_name}{extension}\", mode) as file:\n",
        "        file.write(\"\\n\".join(content))\n",
        "\n",
        "# Core\n",
        "async def scraper() -> Tuple[Callable[[Url, Selector, Processor], ProcessedText], browser.Browser]:\n",
        "  browser = await launch(\n",
        "        headless=True,\n",
        "        executablePath=\"/usr/bin/chromium-browser\", \n",
        "        args= ['--no-sandbox']\n",
        "  )\n",
        "\n",
        "  async def inner_download_html(url: Url, selector: Selector, processor: Processor = None) -> ProcessedText:\n",
        "    page = await browser.newPage()\n",
        "    await page.goto(url, waitUntil=\"load\", timeout=0)\n",
        "    content = await page.querySelector(selector)\n",
        "\n",
        "    html = ''\n",
        "    if content:\n",
        "        html = await page.evaluate('(element) => element.textContent', content)\n",
        "    \n",
        "    if processor:\n",
        "      processed = processor(html)\n",
        "      print(len(html), len(processed))\n",
        "      return processed\n",
        "\n",
        "\n",
        "    return [html]\n",
        "  \n",
        "  return (inner_download_html, browser)\n",
        "\n",
        "async def get_training_data_from_folder(source_path: str, target_path: str, force=False) -> None:\n",
        "    glob_pattern = \"/**/*\"\n",
        "    source_files = glob(source_path + glob_pattern, recursive=True)\n",
        "    target_files = glob(target_path + glob_pattern, recursive=True)\n",
        "    target_file_names = [get_name_and_extension(file_path)[0] for file_path in target_files]\n",
        "    \n",
        "    download_html, browser = await scraper() \n",
        "\n",
        "    for file_path in source_files:\n",
        "        [file_name, file_extension] = get_name_and_extension(file_path)\n",
        "\n",
        "        if not file_name in target_file_names or force:\n",
        "            with open(file_path, 'r') as file:\n",
        "              articles = csv.DictReader(file)\n",
        "              for article in articles:\n",
        "                url, selector = article['link'], article['selector']\n",
        "                print(article)\n",
        "                result = await download_html(url, selector, pipeline(tokenize_by_sentence, replace_all_new_lines))\n",
        "                print(\"EMPTY\" if not result else \"RESULT\")\n",
        "                write_to_resource_target(target_path, file_name, result)    \n",
        "                write_to_resource_target(data_path, corpus_name, result, mode=\"a\")    \n",
        "                \n",
        "    if browser:\n",
        "      await browser.close()"
      ],
      "id": "38f3ffc2",
      "execution_count": null,
      "outputs": []
    },
    {
      "cell_type": "code",
      "metadata": {
        "id": "WWLq2u_3qVn-",
        "colab": {
          "base_uri": "https://localhost:8080/",
          "height": 131
        },
        "outputId": "3123d4b6-7f3f-401c-b2ec-5cb0c40191eb"
      },
      "source": [
        "await get_training_data_from_folder(data_source_path, data_target_path, True)"
      ],
      "id": "WWLq2u_3qVn-",
      "execution_count": null,
      "outputs": [
        {
          "output_type": "error",
          "ename": "SyntaxError",
          "evalue": "ignored",
          "traceback": [
            "\u001b[0;36m  File \u001b[0;32m\"<ipython-input-19-681de7be2ba2>\"\u001b[0;36m, line \u001b[0;32m1\u001b[0m\n\u001b[0;31m    await get_training_data_from_folder(data_source_path, data_target_path, True)\u001b[0m\n\u001b[0m                                                                                 ^\u001b[0m\n\u001b[0;31mSyntaxError\u001b[0m\u001b[0;31m:\u001b[0m 'await' outside function\n"
          ]
        }
      ]
    },
    {
      "cell_type": "code",
      "metadata": {
        "id": "p-dmXzChDpy9"
      },
      "source": [
        "from gensim.models.fasttext import FastText\n",
        "from gensim.test.utils import datapath\n",
        "from typing import Optional\n",
        "from gensim.test.utils import get_tmpfile\n",
        "import numpy as np\n",
        "\n",
        "model_path = resource_path + \"models/\"\n",
        "fast_text_path = model_path + \"fast_text.model\"\n",
        "\n",
        "def load_fast_text() -> FastText:\n",
        "  try:\n",
        "    return FastText.load(fast_text_path)\n",
        "  except:\n",
        "    return train_fast_text()\n",
        "\n",
        "def save_fast_text(model: FastText, force=True) -> None:\n",
        "  if force:\n",
        "    tmp_file = get_tmpfile(fast_text_path)\n",
        "    model.save(tmp_file)\n",
        "\n",
        "def train_fast_text() -> FastText:  \n",
        "  model = FastText(vector_size=32)\n",
        "  corpus_path = glob(data_path + \"corpus.*\")[0]\n",
        "  model.build_vocab(corpus_file=corpus_path)\n",
        "\n",
        "  model.train(\n",
        "      corpus_file=corpus_path, epochs=model.epochs,\n",
        "      total_examples=model.corpus_count, total_words=model.corpus_total_words,\n",
        "  )\n",
        "  \n",
        "  save_fast_text(model)\n",
        "\n",
        "  return model\n",
        "\n",
        "fast_text_model = train_fast_text()\n",
        "# print(fast_text_model.wv.most_similar(\"stiff\"))\n",
        "# np.copy(fast_text_model.wv['Urmzd'])"
      ],
      "id": "p-dmXzChDpy9",
      "execution_count": null,
      "outputs": []
    },
    {
      "cell_type": "code",
      "metadata": {
        "id": "a685f5d7"
      },
      "source": [
        "# deprecated\n",
        "# Functions used to tokenize, filter and map words.\n",
        "# T = TypeVar(\"T\")\n",
        "# R = TypeVar(\"R\")\n",
        "\n",
        "# from typing import List, Tuple\n",
        "# PosTag = Tuple[str, str]\n",
        "# PosTagList = List[PosTag]\n",
        "# StemWord = str\n",
        "# StemWordList = List[StemWord]\n",
        "\n",
        "# TestValueStrCallable = Callable[[T], str]\n",
        "# TestValueBoolCallable = Callable[[T], bool]\n",
        "# ValueTestFnCallable = Callable[[T], TestValueStrCallable]\n",
        "# FilterCallable = Callable[[ValueTestFnCallable], bool]\n",
        "# MapCallable = Callable[[ValueTestFnCallable], str]\n",
        "\n",
        "# def tokenize(data: str) -> PosTagList:\n",
        "#     tokenized_words = nltk.word_tokenize(data)\n",
        "#     mutated_words = nltk.pos_tag(tokenized_words)\n",
        "#     return mutated_words\n",
        "\n",
        "# def filter_words(x: T, test_value: TestValueStrCallable, *fns: FilterCallable) -> bool:\n",
        "#     if fns:\n",
        "#         if fns[0](x, test_value):\n",
        "#             return filter_words(x, test_value, *fns[1:])\n",
        "#         else:\n",
        "#             return False\n",
        "    \n",
        "#     return True\n",
        "    \n",
        "# def filter_by_punctuation(x: T, test_value: TestValueStrCallable = lambda t: t[0]) -> bool:\n",
        "#     return x[0] != x[1]\n",
        "\n",
        "# def filter_by_stop_word(x: T, test_value: TestValueStrCallable = lambda t: t[0]) -> bool:\n",
        "#     return test_value(x) not in stopwords.words(\"english\")\n",
        "\n",
        "# def regex_filter(regex: str):\n",
        "#     def filter_by_regex(x: T, test_value: TestValueStrCallable = lambda t: t[0]):\n",
        "#         rgx = re.compile(regex)\n",
        "#         return rgx.match(test_value(x))\n",
        "#     return filter_by_regex\n",
        "\n",
        "# filter_by_alphabet = regex_filter(r\"^([a-zA-Z]|')+$\")\n",
        "# filter_by_apostrophe = regex_filter(r\"^[^']*$\")\n",
        "\n",
        "# def map_by_stem_words(x: PosTag, test_value: TestValueStrCallable = lambda t: t[0], ps=PorterStemmer()) -> StemWord:\n",
        "#     return ps.stem(test_value(x)).lower()\n",
        "\n",
        "# def map_words(x: T, test_value: TestValueStrCallable, *fns: MapCallable) -> StemWord:\n",
        "#     if fns:\n",
        "#         return map_words(fns[0](test_value(x)), test_value, *fns[1:])\n",
        "\n",
        "#     return x\n",
        "            \n",
        "# def clean_up_words(words: PosTagList) -> StemWordList:\n",
        "#     filtered_words = list(set(\n",
        "#         filter(\n",
        "#         lambda x: filter_words(x, lambda x: x[0], filter_by_punctuation, filter_by_stop_word, filter_by_alphabet),\n",
        "#         words\n",
        "#         )\n",
        "#     ))\n",
        "\n",
        "#     stem_words = list(set(map(lambda x: map_words(x, lambda x: x, map_by_stem_words), filtered_words)))\n",
        "    \n",
        "#     return list(set(\n",
        "#         filter(\n",
        "#             lambda x: filter_words(x, lambda x: x, filter_by_apostrophe), \n",
        "#             stem_words)\n",
        "#     ))"
      ],
      "id": "a685f5d7",
      "execution_count": null,
      "outputs": []
    },
    {
      "cell_type": "code",
      "metadata": {
        "id": "a56eca5f"
      },
      "source": [
        "# Deprecate.\n",
        "# from sklearn.preprocessing import OneHotEncoder,LabelBinarizer\n",
        "# from typing import Union\n",
        "\n",
        "# def get_one_hot_encoder(population: Dict[str, StemWordList]):\n",
        "#     population_array = np.array(list(set(unpack_dict_list(population)))).reshape(-1, 1)\n",
        "#     encoder = OneHotEncoder(handle_unknown='ignore')\n",
        "#     encoder.fit(population_array)\n",
        "#     return encoder\n",
        "\n",
        "import pickle\n",
        "import os\n",
        "from glob import glob\n",
        "from sklearn.preprocessing import LabelBinarizer\n",
        "\n",
        "model_label_encoder = model_path + \"label_encoder.pickle\"\n",
        "\n",
        "def save_label_encoder(label_encoder: LabelBinarizer, file_name: str = model_label_encoder) -> None:\n",
        "    pickle.dump(label_encoder, open(file_name, \"wb\"))\n",
        "\n",
        "def load_label_encoder(file_name: str = model_label_encoder) -> Optional[LabelBinarizer]:\n",
        "    if os.path.exists(file_name):\n",
        "      return pickle.load(open(file_name, \"rb\"))\n",
        "\n",
        "    target_names = [get_name_and_extension(file_path)[0] for file_path in glob(data_target_path + \"*\", recursive=True)]\n",
        "    return train_label_encoder(target_names, True)\n",
        "\n",
        "def train_label_encoder(labels: List[str], force=False):\n",
        "    if force:\n",
        "      encoder = LabelBinarizer()\n",
        "      encoder.fit(labels)\n",
        "      save_label_encoder(encoder)\n",
        "      return encoder\n",
        "    return load_label_encoder()\n",
        "\n",
        "# def transform_data_by_encoder(data: np.ndarray, encoder: Union[OneHotEncoder, LabelBinarizer]):\n",
        "#     encoded_data = encoder.transform(data)\n",
        "    \n",
        "#     if not isinstance(encoded_data, np.ndarray):\n",
        "#         encoded_data = encoded_data.toarray()\n",
        "        \n",
        "#     return encoded_data\n",
        "\n",
        "# def split_into_x_y(samples: np.ndarray):\n",
        "#     x = samples[:,:,:-1]\n",
        "#     y = samples[:,:,-1]\n",
        "#     y = y.reshape(y.shape[0]*y.shape[1], 1)\n",
        "#     return (x,y)\n",
        "    \n",
        "# def transform_x_y(x: np.ndarray, y: np.ndarray, in_coder: OneHotEncoder, out_coder: LabelBinarizer):   \n",
        "#     encoded_x = np.stack([\n",
        "#         transform_data_by_encoder(x[lbl_idx, smpl_idx], in_coder)\n",
        "#         for lbl_idx in range(x.shape[0])\n",
        "#         for smpl_idx in range(x.shape[1])\n",
        "#     ], axis=0)\n",
        "            \n",
        "#     encoded_y = transform_data_by_encoder(y, out_coder)\n",
        "    \n",
        "#     return (encoded_x, encoded_y)"
      ],
      "id": "a56eca5f",
      "execution_count": null,
      "outputs": []
    },
    {
      "cell_type": "code",
      "metadata": {
        "id": "86d04a53"
      },
      "source": [
        "from typing import Dict\n",
        "\n",
        "def unpack_dict_list(dict_list: Dict[str, ProcessedText]):\n",
        "    return [v for k in dict_list for v in dict_list[k]]\n",
        "\n",
        "def get_cleaned_data_from_file(input_file_path: str):\n",
        "    with open(input_file_path, \"r\") as file:\n",
        "        return [sentence.strip(\"\\n\") for sentence in list(file.readlines())]\n",
        "\n",
        "def get_cleaned_data_from_folder(input_path: str):\n",
        "    glob_pattern = \"/**/*\"\n",
        "    input_files = glob(input_path + glob_pattern, recursive=True)\n",
        "    \n",
        "    data = dict()\n",
        "    for file_path in input_files:\n",
        "        [file_name, file_extension] = get_name_and_extension(file_path)\n",
        "        classification_data = get_cleaned_data_from_file(file_path)\n",
        "        data[file_name] = classification_data\n",
        "        \n",
        "    return data"
      ],
      "id": "86d04a53",
      "execution_count": null,
      "outputs": []
    },
    {
      "cell_type": "code",
      "metadata": {
        "id": "2edefd61"
      },
      "source": [
        "# Deprecated.\n",
        "# from nltk.probability import WittenBellProbDist, FreqDist,LaplaceProbDist\n",
        "# import numpy as np\n",
        "\n",
        "# def generate_sample(population: StemWordList, label: str, n_unique_words: int, word_limit = global_config[\"word_limit\"]):\n",
        "#     freq_dist = FreqDist(population)\n",
        "#     prob_dist = WittenBellProbDist(freq_dist, n_unique_words)\n",
        "    \n",
        "#     samples = [prob_dist.generate() for _ in range(word_limit)]\n",
        "\n",
        "#     return np.array(list([*samples, label])).reshape(-1, 1)\n",
        "\n",
        "# def generate_samples(data: Dict[str, StemWordList], n_samples = global_config[\"n_samples\"]):\n",
        "#     n_unique_words = len(set(unpack_dict_list(data)))\n",
        "    \n",
        "#     return np.array([np.array([generate_sample(data[k], k, n_unique_words) for _ in range(n_samples)]) for k in data])"
      ],
      "id": "2edefd61",
      "execution_count": null,
      "outputs": []
    },
    {
      "cell_type": "code",
      "metadata": {
        "id": "ILH3Z7OzLCx4"
      },
      "source": [
        "import pickle\n",
        "import numpy as np\n",
        "from nltk import tokenize\n",
        "\n",
        "def pad_sequence(sequence: np.ndarray, limit=56) -> np.ndarray:\n",
        "  _sequence = np.copy(sequence)\n",
        "\n",
        "  if _sequence.shape[0] == limit:\n",
        "    return _sequence\n",
        "\n",
        "  paddings = []\n",
        "\n",
        "  if _sequence.shape[0] < limit:\n",
        "    mins = np.minimum.reduce(_sequence)\n",
        "    maxs = np.maximum.reduce(_sequence)\n",
        "    for i in range(limit - _sequence.shape[0]):\n",
        "      if i // 2:\n",
        "        paddings.append(mins)\n",
        "      else:\n",
        "        paddings.append(maxs)\n",
        "    \n",
        "    return np.vstack((_sequence, paddings))\n",
        "\n",
        "  return _sequence[:limit]\n",
        "  \n",
        "def get_x_y_from_sentence(sentence: str, label: str = None, x_encoder: FastText = load_fast_text(), y_encoder: LabelBinarizer = load_label_encoder(), word_limit=56) -> Tuple[np.ndarray, np.ndarray]:\n",
        "  x = np.vstack([x_encoder.wv[text] for text in tokenize.wordpunct_tokenize(sentence)])\n",
        "  padded_x = pad_sequence(x, word_limit)\n",
        "  padded_x = padded_x.reshape((*padded_x.shape, 1))\n",
        "  if label:\n",
        "    y = y_encoder.transform([label])\n",
        "  else:\n",
        "    y = None\n",
        "\n",
        "  return (padded_x, y)\n",
        "\n",
        "def get_x_y(path = data_target_path):\n",
        "    result = get_cleaned_data_from_folder(data_target_path)\n",
        "    xs = []\n",
        "    ys = []\n",
        "\n",
        "    for label, sentences in result.items():\n",
        "      for sentence in sentences:\n",
        "        x, y = get_x_y_from_sentence(sentence, label)\n",
        "        xs.append(x)\n",
        "        ys.append(y)\n",
        "\n",
        "    return np.array(xs), np.vstack(ys)"
      ],
      "id": "ILH3Z7OzLCx4",
      "execution_count": null,
      "outputs": []
    },
    {
      "cell_type": "code",
      "metadata": {
        "id": "MVI-l8QOnbMF"
      },
      "source": [
        "from functools import lru_cache \n",
        "\n",
        "def get_data(test_size=global_config[\"test_size\"], random_state=42, ignore=False):\n",
        "    if ignore:\n",
        "      return [None, None, None, None]\n",
        "\n",
        "    x, y = get_x_y()\n",
        "    return train_test_split(x, y, test_size=test_size, random_state=random_state)"
      ],
      "id": "MVI-l8QOnbMF",
      "execution_count": null,
      "outputs": []
    },
    {
      "cell_type": "code",
      "metadata": {
        "id": "y_93rstMHJ_s"
      },
      "source": [
        "import os\n",
        "import tensorflow as tf\n",
        "from tensorflow import keras\n",
        "from tensorflow.keras import layers\n",
        "from keras import regularizers, activations\n",
        "\n",
        "cnn_folder = \"cnn\"\n",
        "cnn_path = model_path + cnn_folder\n",
        "\n",
        "def save_cnn(model: keras.Model):\n",
        "  model.save(cnn_path)\n",
        "\n",
        "def load_cnn(retrain=False) -> keras.Model:\n",
        "  if os.path.exists(cnn_path) and not retrain:\n",
        "    return keras.models.load_model(cnn_path)\n",
        "\n",
        "  return train_cnn(*get_data())"
      ],
      "id": "y_93rstMHJ_s",
      "execution_count": null,
      "outputs": []
    },
    {
      "cell_type": "code",
      "metadata": {
        "id": "zbHPXQq5eUlK"
      },
      "source": [
        "history_path = model_path + \"history.npy\"\n",
        "\n",
        "def save_history(history: np.ndarray):\n",
        "  np.save(history_path, history, allow_pickle=True)\n",
        "\n",
        "def load_history() -> Dict:\n",
        "  if os.path.exists(history_path):\n",
        "    return np.load(history_path, allow_pickle=True).item()\n",
        "\n",
        "  return {}\n",
        "\n",
        "def train_cnn(x_train, x_test, y_train, y_test):\n",
        "    input_shape = x_train.shape[1:]\n",
        "\n",
        "    config = {}\n",
        "\n",
        "    config[\"conv_layer_0\"] = {\n",
        "        \"filters\": 3,\n",
        "        \"kernel_size\": (3, 3),\n",
        "        \"strides\": 1,\n",
        "        \"activation\": \"relu\",\n",
        "    }\n",
        "\n",
        "    config[\"pool_layer_0\"] = {\n",
        "        \"pool_size\": (2,2),\n",
        "        \"padding\": \"same\"\n",
        "    }\n",
        "\n",
        "    config[\"conv_layer_1\"] = {\n",
        "        \"filters\": 3,\n",
        "        \"kernel_size\": (3, 3),\n",
        "        \"strides\": 2,\n",
        "        \"activation\": \"relu\"\n",
        "    }\n",
        "\n",
        "    config[\"pool_layer_1\"] = {\n",
        "        \"pool_size\": (2,2),\n",
        "        \"padding\": \"same\",\n",
        "    }\n",
        "\n",
        "    config[\"dense_layer_5\"] = {\n",
        "        \"units\": 64,\n",
        "        \"activation\": \"relu\",\n",
        "        \"bias_regularizer\": regularizers.l1_l2(0, 17e-1)\n",
        "    }\n",
        "\n",
        "    config[\"dropout_layer_3\"] = {\n",
        "        \"rate\": 0.5,\n",
        "    }\n",
        "\n",
        "    config[\"dense_layer_6\"] = {\n",
        "        \"units\": 64,\n",
        "        \"activation\": \"relu\",\n",
        "        \"bias_regularizer\": regularizers.l1_l2(0, 18e-1)\n",
        "    }\n",
        "\n",
        "    config[\"dropout_layer_9\"] = {\n",
        "        \"rate\": 0.5,\n",
        "    }\n",
        "\n",
        "    config[\"dense_layer_7\"] = {\n",
        "        \"units\": 64,\n",
        "        \"activation\": \"relu\",\n",
        "        \"kernel_regularizer\": regularizers.l1_l2(0, 12e-1),\n",
        "        \"bias_regularizer\": regularizers.l1_l2(0, 1e-11)\n",
        "    }\n",
        "\n",
        "    config[\"dropout_layer_0\"] = {\n",
        "        \"rate\": 0.5,\n",
        "    }\n",
        "\n",
        "    config[\"dense_layer_8\"]= {\n",
        "        \"units\": 128,\n",
        "        \"activation\": \"relu\",\n",
        "        \"kernel_regularizer\": regularizers.l1_l2(0, 4e-7),\n",
        "        \"bias_regularizer\": regularizers.l1_l2(0, 9e-1)\n",
        "    }\n",
        "\n",
        "    config[\"dropout_layer_1\"]= {\n",
        "        \"rate\": 0.5\n",
        "    }\n",
        "\n",
        "    config[\"flatten_layer_0\"] = {\n",
        "    }\n",
        "\n",
        "    config[\"dense_layer_final\"] = {\n",
        "        \"units\": (y_train.shape[-1]),\n",
        "        \"activation\": \"softmax\"\n",
        "    }\n",
        "\n",
        "    config[\"model_compile\"] = {\n",
        "        \"optimizer\": tf.keras.optimizers.Adam(0.001),\n",
        "        \"loss\": keras.losses.binary_crossentropy,\n",
        "        \"metrics\": [\"accuracy\", keras.metrics.Recall()]\n",
        "    }\n",
        "\n",
        "    config[\"model_fit\"] = {\n",
        "         \"x\": x_train,\n",
        "         \"y\": y_train,\n",
        "         \"batch_size\": 2,\n",
        "         \"epochs\": 16,\n",
        "         \"validation_split\" : global_config[\"test_size\"]\n",
        "    }\n",
        "\n",
        "    encoder_input = keras.Input(shape=input_shape)\n",
        "    prev_layer = encoder_input\n",
        "    encoder_output=None\n",
        "\n",
        "    layer_types = {\n",
        "        \"dense\": layers.Dense,\n",
        "        \"flatten\": layers.Flatten,\n",
        "        \"dropout\": layers.Dropout,\n",
        "        \"conv\": layers.Conv2D,\n",
        "        \"pool\": layers.MaxPool2D,\n",
        "    }\n",
        "    \n",
        "    for k,v in config.items():\n",
        "      type_of_layer, *_ = k.split(\"_\")\n",
        "      if type_of_layer != \"model\":\n",
        "        encoder_output = layer_types[type_of_layer](**v)(prev_layer)\n",
        "        prev_layer = encoder_output\n",
        "    \n",
        "    config[\"model\"] = {\n",
        "        \"inputs\": encoder_input,\n",
        "        \"outputs\": encoder_output,\n",
        "        \"name\": \"encoder\"\n",
        "    }\n",
        "\n",
        "    model = keras.Model(**config[\"model\"])\n",
        "    model.compile(**config[\"model_compile\"])\n",
        "\n",
        "    print(model.summary())\n",
        "    \n",
        "    history = model.fit(**config[\"model_fit\"])\n",
        "    save_cnn(model)\n",
        "    save_history(history.history)\n",
        "\n",
        "    test_scores = model.evaluate(x_test, y_test, verbose=2)\n",
        "\n",
        "    return model    "
      ],
      "id": "zbHPXQq5eUlK",
      "execution_count": null,
      "outputs": []
    },
    {
      "cell_type": "code",
      "metadata": {
        "id": "K-Pj5tgVMeBh"
      },
      "source": [
        "model = load_cnn()"
      ],
      "id": "K-Pj5tgVMeBh",
      "execution_count": null,
      "outputs": []
    },
    {
      "cell_type": "code",
      "metadata": {
        "id": "6e2da0bd"
      },
      "source": [
        "def clean_up_user_input(sentence: str):  \n",
        "  x,_ = get_x_y_from_sentence(sentence)\n",
        "\n",
        "  return x"
      ],
      "id": "6e2da0bd",
      "execution_count": null,
      "outputs": []
    },
    {
      "cell_type": "code",
      "metadata": {
        "id": "BmurpME7bffe",
        "colab": {
          "base_uri": "https://localhost:8080/",
          "height": 573
        },
        "outputId": "708dac0c-7b7d-4ef2-a57e-c1ae59dbd1c6"
      },
      "source": [
        "from keras import models\n",
        "from matplotlib import pyplot as plt\n",
        "\n",
        "graph_path = resource_path + \"graphs/\"\n",
        "\n",
        "def plot_cnn(metric:str):\n",
        "  history = load_history()\n",
        "  regex = re.compile(fr'{metric}.*$')\n",
        "  metrics = list(filter(regex.search, history.keys()))\n",
        "  training_metric, val_metric = metrics\n",
        "  name, *_ = training_metric.split(\"_\")\n",
        "  fig, ax = plt.subplots()\n",
        "  ax.plot(history[training_metric])\n",
        "  ax.plot(history[val_metric])\n",
        "  ax.set_title(f'{name.title()} over Epochs')\n",
        "  ax.set_ylabel(name.title())\n",
        "  ax.set_xlabel('No. of Epoch(s)')\n",
        "  ax.grid()\n",
        "  legend = ax.legend(['Train', 'Validation'], bbox_to_anchor=(1.05, 1))\n",
        "\n",
        "  os.makedirs(graph_path, exist_ok=True)\n",
        "  fig.savefig(graph_path + metric, bbox_extra_artists=[legend], bbox_inches='tight')\n",
        "\n",
        "  plt.show()\n",
        "\n",
        "\n",
        "plot_cnn(\"accuracy\")\n",
        "plot_cnn(\"recall\")"
      ],
      "id": "BmurpME7bffe",
      "execution_count": null,
      "outputs": [
        {
          "output_type": "display_data",
          "data": {
            "image/png": "[encoded data removed]",
            "text/plain": [
              "<Figure size 432x288 with 1 Axes>"
            ]
          },
          "metadata": {
            "needs_background": "light"
          }
        },
        {
          "output_type": "display_data",
          "data": {
            "image/png": "[encoded data removed]",
            "text/plain": [
              "<Figure size 432x288 with 1 Axes>"
            ]
          },
          "metadata": {
            "needs_background": "light"
          }
        }
      ]
    },
    {
      "cell_type": "code",
      "metadata": {
        "id": "KtRpg06IYRP3",
        "colab": {
          "base_uri": "https://localhost:8080/"
        },
        "outputId": "225353c4-7724-4b91-fbe1-c1f446130cd9"
      },
      "source": [
        "def predict(sentence: str):\n",
        "  encoded_word = clean_up_user_input(sentence)\n",
        "  encoded_word = np.array([encoded_word])\n",
        "\n",
        "  output_encoder: LabelBinarizer = load_label_encoder()\n",
        "  prediction = model.predict(encoded_word)\n",
        "  print(prediction)\n",
        "  prediction_binary = np.zeros_like(prediction)\n",
        "  prediction_binary[:,prediction.argmax(1)] = 1\n",
        "  ailment:str = output_encoder.inverse_transform(prediction)[0]\n",
        "  return ailment.upper()\n",
        "\n",
        "fast_text = load_fast_text()\n",
        "# print((fast_text.wv.most_similar(\"headache\", topn=30)))\n",
        "\n",
        "# # Depression\n",
        "# print(predict(\"I feel suicidal. Mental health kill hurt someone else medicine need help neuropath\"))\n",
        "# print(predict(\"I'm so sad, really feeling down, been gaining weight, no sleep\"))\n",
        "# print(predict(\"No sleep, feel lonely, really upset, feel nothing\"))\n",
        "# print(predict(\"Wow life sucks right now, super depressed, want to kill myself\"))\n",
        "# print(predict(\"I'm really depressed, suicidal, want to kill or hurt myself\"))\n",
        "\n",
        "# # Migraine\n",
        "# print(predict(\"I have a headache. I feel senstivity to light. My head is hurting. It's twirling. I feel an aura.\"))\n",
        "# print(predict(\"I am sensitive to light. I feel an aura around my body. Migraine\"))\n",
        "# print(predict(\"My head hurts a lot, there's an aura surrounding me.\"))\n",
        "# print(predict(\"My head feels like its spinning, pain in head, pounding throbbing\"))\n",
        "# print(predict(\"My head hurts a lot, there's an aura surrounding me.\"))\n",
        "\n",
        "# # Tetanus\n",
        "# print(predict(\"I have a jaw ache. It's tetanus. My muscles are stiff\"))\n",
        "# print(predict(\"I feel really stiff and like I can't move\"))\n",
        "# print(predict(\"My jaw is really sore and aching, I think I have tetanus\"))\n",
        "# print(predict(\"My muscles are so stiff, I don't have a vaccine for tetanus\"))\n",
        "# print(predict(\"It's tetanus. My muscles are stiff. I have a jaw ache.\"))\n",
        "\n",
        "y_true = [\"DEPRESSION\",\"DEPRESSION\",\"DEPRESSION\",\"DEPRESSION\",\"DEPRESSION\",\n",
        "          \"MIGRAINE\",\"MIGRAINE\",\"MIGRAINE\",\"MIGRAINE\",\"MIGRAINE\",\"TETANUS\",\n",
        "          \"TETANUS\",\"TETANUS\",\"TETANUS\",\"TETANUS\"]\n",
        "y_pred = []\n",
        "#Depression\n",
        "y_pred.append(predict(\"I feel suicidal. Mental health kill hurt someone else medicine need help neuropath\"))\n",
        "y_pred.append(predict(\"I'm so sad, really feeling down, been gaining weight, no sleep\"))\n",
        "y_pred.append(predict(\"No sleep, feel lonely, really upset, feel nothing\"))\n",
        "y_pred.append(predict(\"Wow life sucks right now, super depressed, want to kill myself\"))\n",
        "y_pred.append(predict(\"I'm really depressed, suicidal, want to kill or hurt myself\"))\n",
        "\n",
        "#Migraine\n",
        "y_pred.append(predict(\"I have a headache. I feel senstivity to light. My head is hurting. It's twirling. I feel an aura.\"))\n",
        "y_pred.append(predict(\"I am sensitive to light. I feel an aura around my body. Migraine\"))\n",
        "y_pred.append(predict(\"My head hurts a lot, there's an aura surrounding me.\"))\n",
        "y_pred.append(predict(\"My head feels like its spinning, pain in head, pounding throbbing\"))\n",
        "y_pred.append(predict(\"My head hurts a lot, there's an aura surrounding me.\"))\n",
        "\n",
        "#Tetanus\n",
        "y_pred.append(predict(\"I have a jaw ache. It's tetanus. My muscles are stiff\"))\n",
        "y_pred.append(predict(\"I feel really stiff and like I can't move, my jaw is still so stiff\"))\n",
        "y_pred.append(predict(\"My jaw is really sore and aching, I think I have tetanus\"))\n",
        "y_pred.append(predict(\"My muscles are so stiff, I don't have a vaccine for tetanus\"))\n",
        "y_pred.append(predict(\"It's tetanus. My muscles are stiff. I have a jaw ache.\"))\n",
        "\n",
        "print(y_true)\n",
        "print(y_pred)"
      ],
      "id": "KtRpg06IYRP3",
      "execution_count": null,
      "outputs": [
        {
          "output_type": "stream",
          "name": "stdout",
          "text": [
            "[[0.3578052  0.64988625 0.09828636]]\n",
            "[[0.45589918 0.2114377  0.5716268 ]]\n",
            "[[0.42224655 0.41769606 0.29152894]]\n",
            "[[0.61497915 0.25713164 0.15001109]]\n",
            "[[0.73764133 0.12513247 0.3394413 ]]\n",
            "[[0.20232537 0.7626352  0.11297345]]\n",
            "[[0.03448102 0.86964816 0.09822136]]\n",
            "[[0.43170333 0.50398284 0.1374036 ]]\n",
            "[[0.22132638 0.5752584  0.29960346]]\n",
            "[[0.43170333 0.50398284 0.1374036 ]]\n",
            "[[0.31446713 0.4525934  0.24482328]]\n",
            "[[0.75467795 0.18330017 0.24045244]]\n",
            "[[0.5132443  0.33786714 0.13636446]]\n",
            "[[0.38866234 0.46514785 0.19988006]]\n",
            "[[0.29923794 0.45863438 0.20341751]]\n",
            "['DEPRESSION', 'DEPRESSION', 'DEPRESSION', 'DEPRESSION', 'DEPRESSION', 'MIGRAINE', 'MIGRAINE', 'MIGRAINE', 'MIGRAINE', 'MIGRAINE', 'TETANUS', 'TETANUS', 'TETANUS', 'TETANUS', 'TETANUS']\n",
            "['MIGRAINE', 'TETANUS', 'DEPRESSION', 'DEPRESSION', 'DEPRESSION', 'MIGRAINE', 'MIGRAINE', 'MIGRAINE', 'MIGRAINE', 'MIGRAINE', 'MIGRAINE', 'DEPRESSION', 'DEPRESSION', 'MIGRAINE', 'MIGRAINE']\n"
          ]
        }
      ]
    },
    {
      "cell_type": "code",
      "metadata": {
        "colab": {
          "base_uri": "https://localhost:8080/",
          "height": 390
        },
        "id": "ipFkRosEY_1c",
        "outputId": "47d66486-0c10-4e77-ac06-e050b3b71ac8"
      },
      "source": [
        "from sklearn import metrics\n",
        "\n",
        "\n",
        "display_labels=[\"DEPRESSION\",\"MIGRAINE\",\"TETANUS\"]\n",
        "cm = metrics.confusion_matrix(y_true,y_pred,labels=[\"DEPRESSION\",\"MIGRAINE\",\"TETANUS\"])\n",
        "\n",
        "print(y_true)\n",
        "print(y_pred)\n",
        "\n",
        "print(cm)\n",
        "\n",
        "disp = metrics.ConfusionMatrixDisplay(confusion_matrix=cm, display_labels=display_labels)\n",
        "\n",
        "# NOTE: Fill all variables here with default values of the plot_confusion_matrix\n",
        "disp = disp.plot()"
      ],
      "id": "ipFkRosEY_1c",
      "execution_count": null,
      "outputs": [
        {
          "output_type": "stream",
          "name": "stdout",
          "text": [
            "['DEPRESSION', 'DEPRESSION', 'DEPRESSION', 'DEPRESSION', 'DEPRESSION', 'MIGRAINE', 'MIGRAINE', 'MIGRAINE', 'MIGRAINE', 'MIGRAINE', 'TETANUS', 'TETANUS', 'TETANUS', 'TETANUS', 'TETANUS']\n",
            "['MIGRAINE', 'TETANUS', 'DEPRESSION', 'DEPRESSION', 'DEPRESSION', 'MIGRAINE', 'MIGRAINE', 'MIGRAINE', 'MIGRAINE', 'MIGRAINE', 'MIGRAINE', 'DEPRESSION', 'DEPRESSION', 'MIGRAINE', 'MIGRAINE']\n",
            "[[3 1 1]\n",
            " [0 5 0]\n",
            " [2 3 0]]\n"
          ]
        },
        {
          "output_type": "display_data",
          "data": {
            "image/png": "[encoded data removed]",
            "text/plain": [
              "<Figure size 432x288 with 2 Axes>"
            ]
          },
          "metadata": {
            "needs_background": "light"
          }
        }
      ]
    }
  ]
}