{
 "cells": [
  {
   "cell_type": "code",
   "execution_count": 1,
   "id": "c6fc948b",
   "metadata": {},
   "outputs": [],
   "source": [
    "import asyncio\n",
    "from pyppeteer import launch"
   ]
  },
  {
   "cell_type": "code",
   "execution_count": null,
   "id": "c5cc7c94",
   "metadata": {},
   "outputs": [],
   "source": [
    "async def download_html(url: str, selector: str):\n",
    "    browser = await launch(headless=True)\n",
    "#     page = await browser.newPage()\n",
    "#     print(\"LOL\")\n",
    "#     await page.goto(url)\n",
    "#     content = await page.querySelector(selector)\n",
    "#     print(\"LOADED\")\n",
    "# #     if content:\n",
    "# #         html = await page.evaluate('(element) => element.textContent', content)\n",
    "# #         print(html)\n",
    "    await browser.close()\n",
    "\n",
    "await (\n",
    "    download_html(\n",
    "        \"https://www.google.com/\", \n",
    "        \"body > div.L3eUgb > div.o3j99.LLD4me.yr19Zb.LS8OJ > div > img\"\n",
    "    )\n",
    ")\n"
   ]
  },
  {
   "cell_type": "code",
   "execution_count": null,
   "id": "dc88f6ce",
   "metadata": {},
   "outputs": [],
   "source": []
  }
 ],
 "metadata": {
  "kernelspec": {
   "display_name": "venv",
   "language": "python",
   "name": "venv"
  },
  "language_info": {
   "codemirror_mode": {
    "name": "ipython",
    "version": 3
   },
   "file_extension": ".py",
   "mimetype": "text/x-python",
   "name": "python",
   "nbconvert_exporter": "python",
   "pygments_lexer": "ipython3",
   "version": "3.10.0"
  }
 },
 "nbformat": 4,
 "nbformat_minor": 5
}
