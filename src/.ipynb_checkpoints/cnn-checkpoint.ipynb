{
 "cells": [
  {
   "cell_type": "code",
   "execution_count": null,
   "id": "c5cc7c94",
   "metadata": {},
   "outputs": [],
   "source": [
    "#!/usr/bin/env python\n",
    "import asyncio\n",
    "import pyppeteer as ptr\n",
    "from typing import Optional\n",
    "import pandas as pd\n",
    "from glob import glob\n",
    "import nltk\n",
    "\n",
    "\n",
    "async def download_html(browser: ptr.browser.Browser, url: str, selector: str) -> Optional[str]:\n",
    "    page = await browser.newPage()\n",
    "    await page.goto(url, waitUntil=\"load\")\n",
    "    content = await page.querySelector(selector)\n",
    "\n",
    "    html = ''\n",
    "    if content:\n",
    "        html = await page.evaluate('(element) => element.textContent', content)\n",
    "\n",
    "    return html\n",
    "\n",
    "async def get_training_data_from_folder(folder_path: str) -> None:\n",
    "    browser = await ptr.launch(headless=True)\n",
    "    files = glob(folder_path + '/**/*.csv', recursive=True)\n",
    "    \n",
    "    for file in files:\n",
    "        await get_training_data(browser, file)\n",
    "        \n",
    "    await browser.close()\n",
    "\n",
    "async def get_training_data(browser: ptr.browser.Browser, file_path: str) -> None:\n",
    "    df = pd.read_csv(file_path)\n",
    "    df.rename(columns=lambda x: x.strip(), inplace=True)\n",
    "\n",
    "    \n",
    "    if isinstance(df, pd.DataFrame):\n",
    "        for _, row in df.iterrows():\n",
    "            result = await download_html(browser, row[\"link\"], row[\"selector\"])\n",
    "            print(await tokenize(result))\n",
    "            \n",
    "async def tokenize(data: str):\n",
    "    tokenized_words = nltk.word_tokenize(data)\n",
    "    filtered_words = [word for word in tokenized_words if word not in nltk.stopwords()]\n",
    "    pos = nltk.pos_tag(tokenized_words)\n",
    "    return pos\n",
    "\n",
    "            \n",
    "async def clean_up_data():\n",
    "    \n",
    "    # do nltk stuff\n",
    "    pass\n",
    "\n",
    "await (\n",
    "    get_training_data_from_folder(\"../resources/sources\")\n",
    ")\n"
   ]
  },
  {
   "cell_type": "code",
   "execution_count": null,
   "id": "dc88f6ce",
   "metadata": {},
   "outputs": [],
   "source": []
  },
  {
   "cell_type": "code",
   "execution_count": null,
   "id": "e860d36a",
   "metadata": {},
   "outputs": [],
   "source": []
  }
 ],
 "metadata": {
  "kernelspec": {
   "display_name": "venv",
   "language": "python",
   "name": "venv"
  },
  "language_info": {
   "codemirror_mode": {
    "name": "ipython",
    "version": 3
   },
   "file_extension": ".py",
   "mimetype": "text/x-python",
   "name": "python",
   "nbconvert_exporter": "python",
   "pygments_lexer": "ipython3",
   "version": "3.10.0"
  }
 },
 "nbformat": 4,
 "nbformat_minor": 5
}
